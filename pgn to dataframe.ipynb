{
 "cells": [
  {
   "cell_type": "code",
   "execution_count": 1,
   "id": "9453eaf5",
   "metadata": {},
   "outputs": [],
   "source": [
    "import pandas as pd\n",
    "import numpy as np\n",
    "from tqdm import tqdm"
   ]
  },
  {
   "cell_type": "code",
   "execution_count": 27,
   "id": "eb029cab",
   "metadata": {},
   "outputs": [],
   "source": [
    "def fileToDf(fileName, numberToSample = 120000):\n",
    "    file = open(fileName, \"r\")\n",
    "    games = []\n",
    "    dic = {}\n",
    "    needed = ['White', 'Black','Result','WhiteElo','BlackElo']\n",
    "    counter = 0; num_data = 0\n",
    "    for l in file:\n",
    "        if l[0] == \"[\":\n",
    "\n",
    "            string = l[1:-1]\n",
    "\n",
    "            header = string.split()[0]\n",
    "            if (header in needed):\n",
    "                dic[header] = string[len(header):-2].strip().strip('\"')\n",
    "\n",
    "\n",
    "        if l[:12] == \"[Termination\":\n",
    "            num_data += 1\n",
    "            games.append(dic)\n",
    "            dic = {}\n",
    "        else:\n",
    "            pass\n",
    "\n",
    "    df = pd.DataFrame(games)\n",
    "    \n",
    "    print(num_data)\n",
    "    \n",
    "    if(len(df)> numberToSample):\n",
    "        index = np.random.choice(np.arange(0, len(df)),size =numberToSample,replace = False)\n",
    "        df = df.iloc[index,:]\n",
    "#     df.to_csv('games.csv', index=False)\n",
    "\n",
    "#     df1 = pd.read_csv('games.csv')\n",
    "    \n",
    "    return df.copy(), num_data\n",
    "\n",
    "def fileToDf2(fileName, maxsize = int(1e6)):\n",
    "    with open(fileName, 'r') as file:\n",
    "        games = []\n",
    "        dic = {}\n",
    "        needed = ['White', 'Black','Result','WhiteElo','BlackElo']\n",
    "        counter = 0\n",
    "        filecounter = 0\n",
    "        numData = 0\n",
    "        for l in tqdm(file):\n",
    "            if l[0] == \"[\":\n",
    "\n",
    "                string = l[1:-1]\n",
    "\n",
    "                header = string.split()[0]\n",
    "                if (header in needed):\n",
    "                    dic[header] = string[len(header):-2].strip().strip('\"')\n",
    "\n",
    "\n",
    "            if l[:12] == \"[Termination\":\n",
    "\n",
    "                counter +=1\n",
    "                games.append(dic)\n",
    "                del (dic)\n",
    "                dic = {}\n",
    "                numData += 1\n",
    "                if (counter>=maxsize):\n",
    "                  counter = 0\n",
    "\n",
    "\n",
    "                  df = pd.DataFrame(games)\n",
    "                  df.to_csv('Data/temp/'+str(filecounter)+'.csv')\n",
    "                  filecounter +=1\n",
    "                  del (games)\n",
    "                  del (df)\n",
    "                  games = []\n",
    "            else:\n",
    "                pass\n",
    "        if (len(games) != 0 ):\n",
    "          df = pd.DataFrame(games)\n",
    "          df.to_csv('Data/temp/'+str(filecounter)+'.csv')\n",
    "\n",
    "        #df = pd.DataFrame(games)\n",
    "\n",
    "        # if(len(df)> numberToSample):\n",
    "        #     index = np.random.choice(np.arange(0, len(df)),size =numberToSample,replace = False)\n",
    "        #     df = df.iloc[index,:]\n",
    "    #     df.to_csv('games.csv', index=False)\n",
    "\n",
    "    #     df1 = pd.read_csv('games.csv')\n",
    "    \n",
    "    return numData\n",
    "\n",
    "def fileToDfFICS(fileName, maxsize = int(1e6)):\n",
    "    with open(fileName, 'r') as file:\n",
    "        games = []\n",
    "        dic = {}\n",
    "        needed = ['White', 'Black','Result','WhiteElo','BlackElo']\n",
    "        counter = 0\n",
    "        filecounter = 0\n",
    "        numData = 0\n",
    "        for l in tqdm(file):\n",
    "            if l[0] == \"[\":\n",
    "\n",
    "                string = l[1:-1]\n",
    "\n",
    "                header = string.split()[0]\n",
    "                if (header in needed):\n",
    "                    dic[header] = string[len(header):-2].strip().strip('\"')\n",
    "\n",
    "            if l[:7] == \"[Result\":\n",
    "\n",
    "                counter +=1\n",
    "                games.append(dic)\n",
    "                del (dic)\n",
    "                dic = {}\n",
    "                numData += 1\n",
    "                if (counter>=maxsize):\n",
    "                  counter = 0\n",
    "\n",
    "\n",
    "                  df = pd.DataFrame(games)\n",
    "                  df.to_csv('Data/FICS/temp/'+str(filecounter)+'.csv')\n",
    "                  filecounter +=1\n",
    "                  del (games)\n",
    "                  del (df)\n",
    "                  games = []\n",
    "            else:\n",
    "                pass\n",
    "        if (len(games) != 0 ):\n",
    "          df = pd.DataFrame(games)\n",
    "          df.to_csv('Data/FICS/temp/'+str(filecounter)+'.csv')\n",
    "\n",
    "        #df = pd.DataFrame(games)\n",
    "\n",
    "        # if(len(df)> numberToSample):\n",
    "        #     index = np.random.choice(np.arange(0, len(df)),size =numberToSample,replace = False)\n",
    "        #     df = df.iloc[index,:]\n",
    "    #     df.to_csv('games.csv', index=False)\n",
    "\n",
    "    #     df1 = pd.read_csv('games.csv')\n",
    "    \n",
    "    return numData"
   ]
  },
  {
   "cell_type": "markdown",
   "id": "a05b9cdc",
   "metadata": {},
   "source": [
    "### Process Per Month"
   ]
  },
  {
   "cell_type": "code",
   "execution_count": 151,
   "id": "1fb4f89a",
   "metadata": {},
   "outputs": [
    {
     "name": "stderr",
     "output_type": "stream",
     "text": [
      "169826234it [04:21, 650590.63it/s] \n"
     ]
    }
   ],
   "source": [
    "# Process per month\n",
    "year = 2019\n",
    "month = str(12).zfill(2)\n",
    "numbers = fileToDf2(\"Data/2016/lichess_db_standard_rated_\"+str(year)+'-'+month+'.pgn')"
   ]
  },
  {
   "cell_type": "code",
   "execution_count": 153,
   "id": "65f1b369",
   "metadata": {},
   "outputs": [],
   "source": [
    "# Sample 120K from each month\n",
    "sample_size = 120*1000\n",
    "index = np.random.choice(numbers, sample_size)\n",
    "\n",
    "fileNumbers = index // int(1e6)\n",
    "indexInFiles = index % int(1e6)\n",
    "dfFinal = pd.DataFrame()\n",
    "for data in range(np.max(fileNumbers)+1):\n",
    "  indexInFile = indexInFiles[np.where(data == fileNumbers)[0]]\n",
    "  \n",
    "  dfChunk = pd.read_csv('Data/temp/'+ str(data)+'.csv')\n",
    "  dfFinal = dfFinal.append(dfChunk.iloc[indexInFile,:])"
   ]
  },
  {
   "cell_type": "code",
   "execution_count": 20,
   "id": "97b78cb2",
   "metadata": {},
   "outputs": [
    {
     "name": "stderr",
     "output_type": "stream",
     "text": [
      "11719182it [00:16, 704388.41it/s]\n"
     ]
    }
   ],
   "source": [
    "# FICS Process per month\n",
    "year = 2019\n",
    "month = str(1).zfill(2)\n",
    "numbers = fileToDfFICS(\"Data/FICS/2019/ficsgamesdb_\"+str(year)+'_'+month+'.pgn')"
   ]
  },
  {
   "cell_type": "code",
   "execution_count": 28,
   "id": "81bf0914",
   "metadata": {},
   "outputs": [
    {
     "name": "stderr",
     "output_type": "stream",
     "text": [
      "119147975it [04:22, 454062.90it/s]\n"
     ]
    }
   ],
   "source": [
    "# FICS Process per year\n",
    "year = 2019\n",
    "numbers = fileToDfFICS(\"Data/FICS/2019/ficsgamesdb_\"+str(year)+'_All.pgn')"
   ]
  },
  {
   "cell_type": "code",
   "execution_count": 30,
   "id": "179f539d",
   "metadata": {},
   "outputs": [
    {
     "data": {
      "text/plain": [
       "5916844"
      ]
     },
     "execution_count": 30,
     "metadata": {},
     "output_type": "execute_result"
    }
   ],
   "source": [
    "numbers"
   ]
  },
  {
   "cell_type": "code",
   "execution_count": null,
   "id": "1449f443",
   "metadata": {},
   "outputs": [],
   "source": [
    "# Sample 120K from each month\n",
    "sample_size = 120*1000\n",
    "index = np.random.choice(numbers, sample_size)\n",
    "\n",
    "fileNumbers = index // int(1e6)\n",
    "indexInFiles = index % int(1e6)\n",
    "dfFinal = pd.DataFrame()\n",
    "for data in range(np.max(fileNumbers)+1):\n",
    "  indexInFile = indexInFiles[np.where(data == fileNumbers)[0]]\n",
    "  \n",
    "  dfChunk = pd.read_csv('Data/temp/'+ str(data)+'.csv')\n",
    "  dfFinal = dfFinal.append(dfChunk.iloc[indexInFile,:])"
   ]
  },
  {
   "cell_type": "code",
   "execution_count": 33,
   "id": "6d952f85",
   "metadata": {},
   "outputs": [],
   "source": [
    "# FICS Sample 1.44M for a whole year\n",
    "sample_size = int(1.44 * 1e6)\n",
    "index = np.random.choice(numbers, sample_size)\n",
    "\n",
    "fileNumbers = index // int(1e6)\n",
    "indexInFiles = index % int(1e6)\n",
    "dfFinal = pd.DataFrame()\n",
    "for data in range(np.max(fileNumbers)+1):\n",
    "  indexInFile = indexInFiles[np.where(data == fileNumbers)[0]]\n",
    "  \n",
    "  dfChunk = pd.read_csv('Data/temp/'+ str(data)+'.csv')\n",
    "  dfFinal = dfFinal.append(dfChunk.iloc[indexInFile,:])"
   ]
  },
  {
   "cell_type": "code",
   "execution_count": 34,
   "id": "4a3f948a",
   "metadata": {},
   "outputs": [
    {
     "data": {
      "text/html": [
       "<div>\n",
       "<style scoped>\n",
       "    .dataframe tbody tr th:only-of-type {\n",
       "        vertical-align: middle;\n",
       "    }\n",
       "\n",
       "    .dataframe tbody tr th {\n",
       "        vertical-align: top;\n",
       "    }\n",
       "\n",
       "    .dataframe thead th {\n",
       "        text-align: right;\n",
       "    }\n",
       "</style>\n",
       "<table border=\"1\" class=\"dataframe\">\n",
       "  <thead>\n",
       "    <tr style=\"text-align: right;\">\n",
       "      <th></th>\n",
       "      <th>Unnamed: 0</th>\n",
       "      <th>White</th>\n",
       "      <th>Black</th>\n",
       "      <th>WhiteElo</th>\n",
       "      <th>BlackElo</th>\n",
       "      <th>Result</th>\n",
       "    </tr>\n",
       "  </thead>\n",
       "  <tbody>\n",
       "    <tr>\n",
       "      <th>661394</th>\n",
       "      <td>661394</td>\n",
       "      <td>ytunde</td>\n",
       "      <td>janok</td>\n",
       "      <td>1682</td>\n",
       "      <td>1545</td>\n",
       "      <td>1-0</td>\n",
       "    </tr>\n",
       "    <tr>\n",
       "      <th>915708</th>\n",
       "      <td>915708</td>\n",
       "      <td>bijsah</td>\n",
       "      <td>Babuya</td>\n",
       "      <td>1243</td>\n",
       "      <td>1259</td>\n",
       "      <td>0-1</td>\n",
       "    </tr>\n",
       "    <tr>\n",
       "      <th>638642</th>\n",
       "      <td>638642</td>\n",
       "      <td>anjii</td>\n",
       "      <td>MisterMustard</td>\n",
       "      <td>1465</td>\n",
       "      <td>1574</td>\n",
       "      <td>0-1</td>\n",
       "    </tr>\n",
       "    <tr>\n",
       "      <th>210827</th>\n",
       "      <td>210827</td>\n",
       "      <td>wycliff</td>\n",
       "      <td>KECHMATE</td>\n",
       "      <td>1518</td>\n",
       "      <td>1713</td>\n",
       "      <td>0-1</td>\n",
       "    </tr>\n",
       "    <tr>\n",
       "      <th>962134</th>\n",
       "      <td>962134</td>\n",
       "      <td>centrozap</td>\n",
       "      <td>sirschaap</td>\n",
       "      <td>1652</td>\n",
       "      <td>1575</td>\n",
       "      <td>0-1</td>\n",
       "    </tr>\n",
       "    <tr>\n",
       "      <th>...</th>\n",
       "      <td>...</td>\n",
       "      <td>...</td>\n",
       "      <td>...</td>\n",
       "      <td>...</td>\n",
       "      <td>...</td>\n",
       "      <td>...</td>\n",
       "    </tr>\n",
       "    <tr>\n",
       "      <th>285916</th>\n",
       "      <td>285916</td>\n",
       "      <td>mcSol_aar</td>\n",
       "      <td>ebi1553</td>\n",
       "      <td>1803</td>\n",
       "      <td>1814</td>\n",
       "      <td>1/2-1/2</td>\n",
       "    </tr>\n",
       "    <tr>\n",
       "      <th>334037</th>\n",
       "      <td>334037</td>\n",
       "      <td>catgotyourtongue</td>\n",
       "      <td>EZZELDEEN</td>\n",
       "      <td>1867</td>\n",
       "      <td>1462</td>\n",
       "      <td>1-0</td>\n",
       "    </tr>\n",
       "    <tr>\n",
       "      <th>842124</th>\n",
       "      <td>842124</td>\n",
       "      <td>n3b4</td>\n",
       "      <td>lukasi96</td>\n",
       "      <td>1286</td>\n",
       "      <td>1257</td>\n",
       "      <td>0-1</td>\n",
       "    </tr>\n",
       "    <tr>\n",
       "      <th>893658</th>\n",
       "      <td>893658</td>\n",
       "      <td>adekcz</td>\n",
       "      <td>AlpAlp54</td>\n",
       "      <td>1912</td>\n",
       "      <td>1704</td>\n",
       "      <td>1-0</td>\n",
       "    </tr>\n",
       "    <tr>\n",
       "      <th>447911</th>\n",
       "      <td>447911</td>\n",
       "      <td>hajilo137</td>\n",
       "      <td>Hugo11</td>\n",
       "      <td>1426</td>\n",
       "      <td>1369</td>\n",
       "      <td>1-0</td>\n",
       "    </tr>\n",
       "  </tbody>\n",
       "</table>\n",
       "<p>1440000 rows × 6 columns</p>\n",
       "</div>"
      ],
      "text/plain": [
       "        Unnamed: 0             White          Black  WhiteElo  BlackElo  \\\n",
       "661394      661394            ytunde          janok      1682      1545   \n",
       "915708      915708            bijsah         Babuya      1243      1259   \n",
       "638642      638642             anjii  MisterMustard      1465      1574   \n",
       "210827      210827           wycliff       KECHMATE      1518      1713   \n",
       "962134      962134         centrozap      sirschaap      1652      1575   \n",
       "...            ...               ...            ...       ...       ...   \n",
       "285916      285916         mcSol_aar        ebi1553      1803      1814   \n",
       "334037      334037  catgotyourtongue      EZZELDEEN      1867      1462   \n",
       "842124      842124              n3b4       lukasi96      1286      1257   \n",
       "893658      893658            adekcz       AlpAlp54      1912      1704   \n",
       "447911      447911         hajilo137         Hugo11      1426      1369   \n",
       "\n",
       "         Result  \n",
       "661394      1-0  \n",
       "915708      0-1  \n",
       "638642      0-1  \n",
       "210827      0-1  \n",
       "962134      0-1  \n",
       "...         ...  \n",
       "285916  1/2-1/2  \n",
       "334037      1-0  \n",
       "842124      0-1  \n",
       "893658      1-0  \n",
       "447911      1-0  \n",
       "\n",
       "[1440000 rows x 6 columns]"
      ]
     },
     "execution_count": 34,
     "metadata": {},
     "output_type": "execute_result"
    }
   ],
   "source": [
    "dfFinal"
   ]
  },
  {
   "cell_type": "code",
   "execution_count": 35,
   "id": "60b65e15",
   "metadata": {},
   "outputs": [],
   "source": [
    "dfFinal.to_csv('Data/FICS/2019/2019_All.csv')"
   ]
  },
  {
   "cell_type": "code",
   "execution_count": 3,
   "id": "b6d3aea3",
   "metadata": {},
   "outputs": [],
   "source": [
    "# Combine into a single dataframe once above is ran for 12 months\n",
    "df_result = pd.DataFrame()\n",
    "for month in range(1, 13):\n",
    "    month_name = str(month).zfill(2)\n",
    "    name = 'Data/2019/2019-'+str(month_name)+'.csv'\n",
    "    dat = pd.read_csv(name)\n",
    "    df_result = df_result.append(dat)"
   ]
  },
  {
   "cell_type": "code",
   "execution_count": 4,
   "id": "1e3eed85",
   "metadata": {},
   "outputs": [
    {
     "name": "stdout",
     "output_type": "stream",
     "text": [
      "Index(['Unnamed: 0'], dtype='object')\n"
     ]
    }
   ],
   "source": [
    "columns_wanted = ['White', 'Black', 'Result', 'WhiteElo', 'BlackElo']\n",
    "columns = df_result.columns\n",
    "discarded = columns[~np.isin(columns, columns_wanted)]\n",
    "\n",
    "print(discarded)"
   ]
  },
  {
   "cell_type": "code",
   "execution_count": 5,
   "id": "2d4d0060",
   "metadata": {},
   "outputs": [
    {
     "data": {
      "text/html": [
       "<div>\n",
       "<style scoped>\n",
       "    .dataframe tbody tr th:only-of-type {\n",
       "        vertical-align: middle;\n",
       "    }\n",
       "\n",
       "    .dataframe tbody tr th {\n",
       "        vertical-align: top;\n",
       "    }\n",
       "\n",
       "    .dataframe thead th {\n",
       "        text-align: right;\n",
       "    }\n",
       "</style>\n",
       "<table border=\"1\" class=\"dataframe\">\n",
       "  <thead>\n",
       "    <tr style=\"text-align: right;\">\n",
       "      <th></th>\n",
       "      <th>White</th>\n",
       "      <th>Black</th>\n",
       "      <th>Result</th>\n",
       "      <th>WhiteElo</th>\n",
       "      <th>BlackElo</th>\n",
       "    </tr>\n",
       "  </thead>\n",
       "  <tbody>\n",
       "    <tr>\n",
       "      <th>0</th>\n",
       "      <td>monxo1978</td>\n",
       "      <td>playanotherone</td>\n",
       "      <td>0-1</td>\n",
       "      <td>946</td>\n",
       "      <td>1805</td>\n",
       "    </tr>\n",
       "    <tr>\n",
       "      <th>1</th>\n",
       "      <td>Nurcancakmaz</td>\n",
       "      <td>notwey</td>\n",
       "      <td>0-1</td>\n",
       "      <td>800</td>\n",
       "      <td>854</td>\n",
       "    </tr>\n",
       "    <tr>\n",
       "      <th>2</th>\n",
       "      <td>Enamul</td>\n",
       "      <td>ARCHAVATAR72</td>\n",
       "      <td>1-0</td>\n",
       "      <td>1910</td>\n",
       "      <td>1592</td>\n",
       "    </tr>\n",
       "    <tr>\n",
       "      <th>3</th>\n",
       "      <td>almostbeatlevel0</td>\n",
       "      <td>TheWiseKitty</td>\n",
       "      <td>0-1</td>\n",
       "      <td>1030</td>\n",
       "      <td>983</td>\n",
       "    </tr>\n",
       "    <tr>\n",
       "      <th>4</th>\n",
       "      <td>bonecollector</td>\n",
       "      <td>Hulkiorra</td>\n",
       "      <td>1-0</td>\n",
       "      <td>2034</td>\n",
       "      <td>1827</td>\n",
       "    </tr>\n",
       "    <tr>\n",
       "      <th>...</th>\n",
       "      <td>...</td>\n",
       "      <td>...</td>\n",
       "      <td>...</td>\n",
       "      <td>...</td>\n",
       "      <td>...</td>\n",
       "    </tr>\n",
       "    <tr>\n",
       "      <th>119995</th>\n",
       "      <td>walterjaramillo</td>\n",
       "      <td>jj1987</td>\n",
       "      <td>0-1</td>\n",
       "      <td>2225</td>\n",
       "      <td>2196</td>\n",
       "    </tr>\n",
       "    <tr>\n",
       "      <th>119996</th>\n",
       "      <td>abhijeetbmeut28</td>\n",
       "      <td>Sauvier</td>\n",
       "      <td>0-1</td>\n",
       "      <td>1798</td>\n",
       "      <td>1774</td>\n",
       "    </tr>\n",
       "    <tr>\n",
       "      <th>119997</th>\n",
       "      <td>elmatador321</td>\n",
       "      <td>dagenssuppe</td>\n",
       "      <td>0-1</td>\n",
       "      <td>1954</td>\n",
       "      <td>1956</td>\n",
       "    </tr>\n",
       "    <tr>\n",
       "      <th>119998</th>\n",
       "      <td>jawad_baddad33</td>\n",
       "      <td>Mala-Mia</td>\n",
       "      <td>0-1</td>\n",
       "      <td>1810</td>\n",
       "      <td>1856</td>\n",
       "    </tr>\n",
       "    <tr>\n",
       "      <th>119999</th>\n",
       "      <td>ThePrince7</td>\n",
       "      <td>asep_laptop</td>\n",
       "      <td>0-1</td>\n",
       "      <td>2118</td>\n",
       "      <td>2040</td>\n",
       "    </tr>\n",
       "  </tbody>\n",
       "</table>\n",
       "<p>1440000 rows × 5 columns</p>\n",
       "</div>"
      ],
      "text/plain": [
       "                   White           Black Result  WhiteElo  BlackElo\n",
       "0              monxo1978  playanotherone    0-1       946      1805\n",
       "1           Nurcancakmaz          notwey    0-1       800       854\n",
       "2                 Enamul    ARCHAVATAR72    1-0      1910      1592\n",
       "3       almostbeatlevel0    TheWiseKitty    0-1      1030       983\n",
       "4          bonecollector       Hulkiorra    1-0      2034      1827\n",
       "...                  ...             ...    ...       ...       ...\n",
       "119995   walterjaramillo          jj1987    0-1      2225      2196\n",
       "119996   abhijeetbmeut28         Sauvier    0-1      1798      1774\n",
       "119997      elmatador321     dagenssuppe    0-1      1954      1956\n",
       "119998    jawad_baddad33        Mala-Mia    0-1      1810      1856\n",
       "119999        ThePrince7     asep_laptop    0-1      2118      2040\n",
       "\n",
       "[1440000 rows x 5 columns]"
      ]
     },
     "execution_count": 5,
     "metadata": {},
     "output_type": "execute_result"
    }
   ],
   "source": [
    "df_result = df_result.drop(columns = discarded)\n",
    "df_result"
   ]
  },
  {
   "cell_type": "code",
   "execution_count": 7,
   "id": "32ed803e",
   "metadata": {},
   "outputs": [],
   "source": [
    "df_result.to_csv('Data/2019/2019_All.csv')"
   ]
  },
  {
   "cell_type": "markdown",
   "id": "4265dc26",
   "metadata": {},
   "source": [
    "### Process Whole Year"
   ]
  },
  {
   "cell_type": "code",
   "execution_count": 85,
   "id": "5e65f5bf",
   "metadata": {},
   "outputs": [
    {
     "name": "stderr",
     "output_type": "stream",
     "text": [
      "\r",
      "  0%|          | 0/12 [00:00<?, ?it/s]"
     ]
    },
    {
     "name": "stdout",
     "output_type": "stream",
     "text": [
      "Year 2015 month 1 ori data count\n",
      "1497237\n"
     ]
    },
    {
     "name": "stderr",
     "output_type": "stream",
     "text": [
      "\r",
      "  8%|▊         | 1/12 [00:21<03:57, 21.61s/it]"
     ]
    },
    {
     "name": "stdout",
     "output_type": "stream",
     "text": [
      "Year 2015 month 2 ori data count\n",
      "1495553\n"
     ]
    },
    {
     "name": "stderr",
     "output_type": "stream",
     "text": [
      "\r",
      " 17%|█▋        | 2/12 [00:42<03:32, 21.22s/it]"
     ]
    },
    {
     "name": "stdout",
     "output_type": "stream",
     "text": [
      "Year 2015 month 3 ori data count\n",
      "1742733\n"
     ]
    },
    {
     "name": "stderr",
     "output_type": "stream",
     "text": [
      "\r",
      " 25%|██▌       | 3/12 [01:08<03:28, 23.15s/it]"
     ]
    },
    {
     "name": "stdout",
     "output_type": "stream",
     "text": [
      "Year 2015 month 4 ori data count\n",
      "1785418\n"
     ]
    },
    {
     "name": "stderr",
     "output_type": "stream",
     "text": [
      "\r",
      " 33%|███▎      | 4/12 [01:33<03:11, 23.95s/it]"
     ]
    },
    {
     "name": "stdout",
     "output_type": "stream",
     "text": [
      "Year 2015 month 5 ori data count\n",
      "2137557\n"
     ]
    },
    {
     "name": "stderr",
     "output_type": "stream",
     "text": [
      "\r",
      " 42%|████▏     | 5/12 [02:03<03:02, 26.13s/it]"
     ]
    },
    {
     "name": "stdout",
     "output_type": "stream",
     "text": [
      "Year 2015 month 6 ori data count\n",
      "2324106\n"
     ]
    },
    {
     "name": "stderr",
     "output_type": "stream",
     "text": [
      "\r",
      " 50%|█████     | 6/12 [02:36<02:50, 28.42s/it]"
     ]
    },
    {
     "name": "stdout",
     "output_type": "stream",
     "text": [
      "Year 2015 month 7 ori data count\n",
      "2455141\n"
     ]
    },
    {
     "name": "stderr",
     "output_type": "stream",
     "text": [
      "\r",
      " 58%|█████▊    | 7/12 [03:11<02:33, 30.69s/it]"
     ]
    },
    {
     "name": "stdout",
     "output_type": "stream",
     "text": [
      "Year 2015 month 8 ori data count\n",
      "2621861\n"
     ]
    },
    {
     "name": "stderr",
     "output_type": "stream",
     "text": [
      "\r",
      " 67%|██████▋   | 8/12 [03:48<02:11, 32.87s/it]"
     ]
    },
    {
     "name": "stdout",
     "output_type": "stream",
     "text": [
      "Year 2015 month 9 ori data count\n",
      "2844677\n"
     ]
    },
    {
     "name": "stderr",
     "output_type": "stream",
     "text": [
      "\r",
      " 75%|███████▌  | 9/12 [04:29<01:45, 35.20s/it]"
     ]
    },
    {
     "name": "stdout",
     "output_type": "stream",
     "text": [
      "Year 2015 month 10 ori data count\n",
      "3400418\n"
     ]
    },
    {
     "name": "stderr",
     "output_type": "stream",
     "text": [
      "\r",
      " 83%|████████▎ | 10/12 [05:21<01:21, 40.54s/it]"
     ]
    },
    {
     "name": "stdout",
     "output_type": "stream",
     "text": [
      "Year 2015 month 11 ori data count\n",
      "3595776\n"
     ]
    },
    {
     "name": "stderr",
     "output_type": "stream",
     "text": [
      "\r",
      " 92%|█████████▏| 11/12 [06:13<00:44, 44.11s/it]"
     ]
    },
    {
     "name": "stdout",
     "output_type": "stream",
     "text": [
      "Year 2015 month 12 ori data count\n",
      "4161162\n"
     ]
    },
    {
     "name": "stderr",
     "output_type": "stream",
     "text": [
      "100%|██████████| 12/12 [07:13<00:00, 36.16s/it]\n"
     ]
    }
   ],
   "source": [
    "#listOptions = \"lichess_db_standard_rated_\"-0\n",
    "listAppend = []\n",
    "year = 2016\n",
    "df = pd.DataFrame()\n",
    "for i in tqdm(range(12)):\n",
    "    number_str = str(i+1)\n",
    "    month  = number_str.zfill(2)\n",
    "    name = 'Data/'+str(year)+\"/lichess_db_standard_rated_\"+str(year)+'-'+month+'.pgn'\n",
    "    \n",
    "    print(f\"Year {year} month {i + 1} ori data count\")\n",
    "    \n",
    "    data, num_data = fileToDf(name)\n",
    "    df = df.append(data)\n",
    "    \n",
    "    #print(name)"
   ]
  },
  {
   "cell_type": "code",
   "execution_count": 86,
   "id": "2d78df49",
   "metadata": {},
   "outputs": [
    {
     "data": {
      "text/plain": [
       "1439767"
      ]
     },
     "execution_count": 86,
     "metadata": {},
     "output_type": "execute_result"
    }
   ],
   "source": [
    "df = df.drop_duplicates()\n",
    "len(df)"
   ]
  },
  {
   "cell_type": "code",
   "execution_count": 88,
   "id": "f9b6b51c",
   "metadata": {},
   "outputs": [],
   "source": [
    "df.to_csv('Data/2015/2015_2.csv', index=False)"
   ]
  },
  {
   "cell_type": "code",
   "execution_count": 16,
   "id": "570d8d8b",
   "metadata": {},
   "outputs": [],
   "source": [
    "#lichess_db_standard_rated_2013-01.pgn\n",
    "file = open(\"lichess_db_standard_rated_2013-01.pgn/lichess_db_standard_rated_2013-01.pgn\", \"r\")"
   ]
  },
  {
   "cell_type": "code",
   "execution_count": 45,
   "id": "d57229f6",
   "metadata": {},
   "outputs": [
    {
     "data": {
      "text/plain": [
       "array([75, 23, 59,  2, 90, 41, 45, 83,  1, 82, 81, 14, 32, 20,  7, 95, 94,\n",
       "       77, 76, 92, 54,  6, 22, 97, 11, 68, 74, 40, 53, 30,  0, 13, 25, 96,\n",
       "       58, 29, 56, 60, 67, 39, 99, 71, 65, 21, 38, 31, 50, 63, 19, 88, 43,\n",
       "       46, 49, 37, 15, 48, 69, 16, 47, 17])"
      ]
     },
     "execution_count": 45,
     "metadata": {},
     "output_type": "execute_result"
    }
   ],
   "source": []
  },
  {
   "cell_type": "code",
   "execution_count": 18,
   "id": "bb8b74b5",
   "metadata": {},
   "outputs": [
    {
     "name": "stdout",
     "output_type": "stream",
     "text": [
      "                   White              Black Result WhiteElo BlackElo\n",
      "0                    NaN                NaN    NaN      NaN      NaN\n",
      "1         Desmond_Wilson          savinka59    1-0     1654     1919\n",
      "2          Kozakmamay007  VanillaShamanilla    1-0     1643     1747\n",
      "3       Naitero_Nagasaki                800    0-1     1824     1973\n",
      "4           nichiren1967   Naitero_Nagasaki    0-1     1765     1815\n",
      "...                  ...                ...    ...      ...      ...\n",
      "121327       Yudhisthira           netsah08    0-1     1854     1937\n",
      "121328             Daler        kualalumpur    0-1     1500     1266\n",
      "121329             senip        Richard_XII    0-1     1431     1523\n",
      "121330              van9           shueardm    1-0     1693     1479\n",
      "121331        pablotorre         Tortfeasor    0-1     1744     1762\n",
      "\n",
      "[121332 rows x 5 columns]\n"
     ]
    }
   ],
   "source": [
    "\n",
    "print(df1)"
   ]
  },
  {
   "cell_type": "code",
   "execution_count": 19,
   "id": "3c4f4565",
   "metadata": {},
   "outputs": [
    {
     "data": {
      "text/html": [
       "<div>\n",
       "<style scoped>\n",
       "    .dataframe tbody tr th:only-of-type {\n",
       "        vertical-align: middle;\n",
       "    }\n",
       "\n",
       "    .dataframe tbody tr th {\n",
       "        vertical-align: top;\n",
       "    }\n",
       "\n",
       "    .dataframe thead th {\n",
       "        text-align: right;\n",
       "    }\n",
       "</style>\n",
       "<table border=\"1\" class=\"dataframe\">\n",
       "  <thead>\n",
       "    <tr style=\"text-align: right;\">\n",
       "      <th></th>\n",
       "      <th>White</th>\n",
       "      <th>Black</th>\n",
       "      <th>Result</th>\n",
       "      <th>WhiteElo</th>\n",
       "      <th>BlackElo</th>\n",
       "    </tr>\n",
       "  </thead>\n",
       "  <tbody>\n",
       "    <tr>\n",
       "      <th>0</th>\n",
       "      <td>NaN</td>\n",
       "      <td>NaN</td>\n",
       "      <td>NaN</td>\n",
       "      <td>NaN</td>\n",
       "      <td>NaN</td>\n",
       "    </tr>\n",
       "    <tr>\n",
       "      <th>1</th>\n",
       "      <td>Desmond_Wilson</td>\n",
       "      <td>savinka59</td>\n",
       "      <td>1-0</td>\n",
       "      <td>1654</td>\n",
       "      <td>1919</td>\n",
       "    </tr>\n",
       "    <tr>\n",
       "      <th>2</th>\n",
       "      <td>Kozakmamay007</td>\n",
       "      <td>VanillaShamanilla</td>\n",
       "      <td>1-0</td>\n",
       "      <td>1643</td>\n",
       "      <td>1747</td>\n",
       "    </tr>\n",
       "    <tr>\n",
       "      <th>3</th>\n",
       "      <td>Naitero_Nagasaki</td>\n",
       "      <td>800</td>\n",
       "      <td>0-1</td>\n",
       "      <td>1824</td>\n",
       "      <td>1973</td>\n",
       "    </tr>\n",
       "    <tr>\n",
       "      <th>4</th>\n",
       "      <td>nichiren1967</td>\n",
       "      <td>Naitero_Nagasaki</td>\n",
       "      <td>0-1</td>\n",
       "      <td>1765</td>\n",
       "      <td>1815</td>\n",
       "    </tr>\n",
       "    <tr>\n",
       "      <th>...</th>\n",
       "      <td>...</td>\n",
       "      <td>...</td>\n",
       "      <td>...</td>\n",
       "      <td>...</td>\n",
       "      <td>...</td>\n",
       "    </tr>\n",
       "    <tr>\n",
       "      <th>121327</th>\n",
       "      <td>Yudhisthira</td>\n",
       "      <td>netsah08</td>\n",
       "      <td>0-1</td>\n",
       "      <td>1854</td>\n",
       "      <td>1937</td>\n",
       "    </tr>\n",
       "    <tr>\n",
       "      <th>121328</th>\n",
       "      <td>Daler</td>\n",
       "      <td>kualalumpur</td>\n",
       "      <td>0-1</td>\n",
       "      <td>1500</td>\n",
       "      <td>1266</td>\n",
       "    </tr>\n",
       "    <tr>\n",
       "      <th>121329</th>\n",
       "      <td>senip</td>\n",
       "      <td>Richard_XII</td>\n",
       "      <td>0-1</td>\n",
       "      <td>1431</td>\n",
       "      <td>1523</td>\n",
       "    </tr>\n",
       "    <tr>\n",
       "      <th>121330</th>\n",
       "      <td>van9</td>\n",
       "      <td>shueardm</td>\n",
       "      <td>1-0</td>\n",
       "      <td>1693</td>\n",
       "      <td>1479</td>\n",
       "    </tr>\n",
       "    <tr>\n",
       "      <th>121331</th>\n",
       "      <td>pablotorre</td>\n",
       "      <td>Tortfeasor</td>\n",
       "      <td>0-1</td>\n",
       "      <td>1744</td>\n",
       "      <td>1762</td>\n",
       "    </tr>\n",
       "  </tbody>\n",
       "</table>\n",
       "<p>121332 rows × 5 columns</p>\n",
       "</div>"
      ],
      "text/plain": [
       "                   White              Black Result WhiteElo BlackElo\n",
       "0                    NaN                NaN    NaN      NaN      NaN\n",
       "1         Desmond_Wilson          savinka59    1-0     1654     1919\n",
       "2          Kozakmamay007  VanillaShamanilla    1-0     1643     1747\n",
       "3       Naitero_Nagasaki                800    0-1     1824     1973\n",
       "4           nichiren1967   Naitero_Nagasaki    0-1     1765     1815\n",
       "...                  ...                ...    ...      ...      ...\n",
       "121327       Yudhisthira           netsah08    0-1     1854     1937\n",
       "121328             Daler        kualalumpur    0-1     1500     1266\n",
       "121329             senip        Richard_XII    0-1     1431     1523\n",
       "121330              van9           shueardm    1-0     1693     1479\n",
       "121331        pablotorre         Tortfeasor    0-1     1744     1762\n",
       "\n",
       "[121332 rows x 5 columns]"
      ]
     },
     "execution_count": 19,
     "metadata": {},
     "output_type": "execute_result"
    }
   ],
   "source": [
    "df1"
   ]
  },
  {
   "cell_type": "code",
   "execution_count": 28,
   "id": "7a3ed428",
   "metadata": {},
   "outputs": [
    {
     "data": {
      "text/plain": [
       "(array(['0-1', '1-0', '1/2-1/2'], dtype=object),\n",
       " array([55221, 62128,  3982], dtype=int64))"
      ]
     },
     "execution_count": 28,
     "metadata": {},
     "output_type": "execute_result"
    }
   ],
   "source": [
    "np.unique(np.array(df1['Result'].loc[1:]),return_counts = True)"
   ]
  },
  {
   "cell_type": "code",
   "execution_count": 6,
   "id": "2ecdb237",
   "metadata": {},
   "outputs": [
    {
     "data": {
      "text/plain": [
       "'Termination'"
      ]
     },
     "execution_count": 6,
     "metadata": {},
     "output_type": "execute_result"
    }
   ],
   "source": [
    "header"
   ]
  },
  {
   "cell_type": "code",
   "execution_count": 7,
   "id": "540b2346",
   "metadata": {},
   "outputs": [
    {
     "data": {
      "text/plain": [
       "['test', 'a']"
      ]
     },
     "execution_count": 7,
     "metadata": {},
     "output_type": "execute_result"
    }
   ],
   "source": [
    "string = \"test a\"\n",
    "string.split()"
   ]
  },
  {
   "cell_type": "code",
   "execution_count": 4,
   "id": "e29517aa",
   "metadata": {},
   "outputs": [
    {
     "data": {
      "text/html": [
       "<div>\n",
       "<style scoped>\n",
       "    .dataframe tbody tr th:only-of-type {\n",
       "        vertical-align: middle;\n",
       "    }\n",
       "\n",
       "    .dataframe tbody tr th {\n",
       "        vertical-align: top;\n",
       "    }\n",
       "\n",
       "    .dataframe thead th {\n",
       "        text-align: right;\n",
       "    }\n",
       "</style>\n",
       "<table border=\"1\" class=\"dataframe\">\n",
       "  <thead>\n",
       "    <tr style=\"text-align: right;\">\n",
       "      <th></th>\n",
       "      <th>Event</th>\n",
       "      <th>Site</th>\n",
       "      <th>White</th>\n",
       "      <th>Black</th>\n",
       "      <th>Result</th>\n",
       "      <th>UTCDate</th>\n",
       "      <th>UTCTime</th>\n",
       "      <th>WhiteElo</th>\n",
       "      <th>BlackElo</th>\n",
       "      <th>WhiteRatingDiff</th>\n",
       "      <th>BlackRatingDiff</th>\n",
       "      <th>ECO</th>\n",
       "      <th>Opening</th>\n",
       "      <th>TimeControl</th>\n",
       "      <th>Termination</th>\n",
       "      <th>BlackTitle</th>\n",
       "      <th>WhiteTitle</th>\n",
       "    </tr>\n",
       "  </thead>\n",
       "  <tbody>\n",
       "    <tr>\n",
       "      <th>0</th>\n",
       "      <td>Rated Classical game</td>\n",
       "      <td>https://lichess.org/j1dkb5dw</td>\n",
       "      <td>BFG9k</td>\n",
       "      <td>mamalak</td>\n",
       "      <td>1-0</td>\n",
       "      <td>2012.12.31</td>\n",
       "      <td>23:01:03</td>\n",
       "      <td>1639</td>\n",
       "      <td>1403</td>\n",
       "      <td>5.0</td>\n",
       "      <td>-8.0</td>\n",
       "      <td>C00</td>\n",
       "      <td>French Defense: Normal Variation</td>\n",
       "      <td>600+8</td>\n",
       "      <td>Normal</td>\n",
       "      <td>NaN</td>\n",
       "      <td>NaN</td>\n",
       "    </tr>\n",
       "    <tr>\n",
       "      <th>1</th>\n",
       "      <td>Rated Classical game</td>\n",
       "      <td>https://lichess.org/a9tcp02g</td>\n",
       "      <td>Desmond_Wilson</td>\n",
       "      <td>savinka59</td>\n",
       "      <td>1-0</td>\n",
       "      <td>2012.12.31</td>\n",
       "      <td>23:04:12</td>\n",
       "      <td>1654</td>\n",
       "      <td>1919</td>\n",
       "      <td>19.0</td>\n",
       "      <td>-22.0</td>\n",
       "      <td>D04</td>\n",
       "      <td>Queen's Pawn Game: Colle System, Anti-Colle</td>\n",
       "      <td>480+2</td>\n",
       "      <td>Normal</td>\n",
       "      <td>NaN</td>\n",
       "      <td>NaN</td>\n",
       "    </tr>\n",
       "    <tr>\n",
       "      <th>2</th>\n",
       "      <td>Rated Classical game</td>\n",
       "      <td>https://lichess.org/szom2tog</td>\n",
       "      <td>Kozakmamay007</td>\n",
       "      <td>VanillaShamanilla</td>\n",
       "      <td>1-0</td>\n",
       "      <td>2012.12.31</td>\n",
       "      <td>23:03:15</td>\n",
       "      <td>1643</td>\n",
       "      <td>1747</td>\n",
       "      <td>13.0</td>\n",
       "      <td>-94.0</td>\n",
       "      <td>C50</td>\n",
       "      <td>Four Knights Game: Italian Variation</td>\n",
       "      <td>420+17</td>\n",
       "      <td>Normal</td>\n",
       "      <td>NaN</td>\n",
       "      <td>NaN</td>\n",
       "    </tr>\n",
       "    <tr>\n",
       "      <th>3</th>\n",
       "      <td>Rated Bullet game</td>\n",
       "      <td>https://lichess.org/rklpc7mk</td>\n",
       "      <td>Naitero_Nagasaki</td>\n",
       "      <td>800</td>\n",
       "      <td>0-1</td>\n",
       "      <td>2012.12.31</td>\n",
       "      <td>23:04:57</td>\n",
       "      <td>1824</td>\n",
       "      <td>1973</td>\n",
       "      <td>-6.0</td>\n",
       "      <td>8.0</td>\n",
       "      <td>B12</td>\n",
       "      <td>Caro-Kann Defense: Goldman Variation</td>\n",
       "      <td>60+1</td>\n",
       "      <td>Normal</td>\n",
       "      <td>NaN</td>\n",
       "      <td>NaN</td>\n",
       "    </tr>\n",
       "    <tr>\n",
       "      <th>4</th>\n",
       "      <td>Rated Bullet game</td>\n",
       "      <td>https://lichess.org/1xb3os63</td>\n",
       "      <td>nichiren1967</td>\n",
       "      <td>Naitero_Nagasaki</td>\n",
       "      <td>0-1</td>\n",
       "      <td>2012.12.31</td>\n",
       "      <td>23:02:37</td>\n",
       "      <td>1765</td>\n",
       "      <td>1815</td>\n",
       "      <td>-9.0</td>\n",
       "      <td>9.0</td>\n",
       "      <td>C00</td>\n",
       "      <td>French Defense: La Bourdonnais Variation</td>\n",
       "      <td>60+1</td>\n",
       "      <td>Normal</td>\n",
       "      <td>NaN</td>\n",
       "      <td>NaN</td>\n",
       "    </tr>\n",
       "    <tr>\n",
       "      <th>...</th>\n",
       "      <td>...</td>\n",
       "      <td>...</td>\n",
       "      <td>...</td>\n",
       "      <td>...</td>\n",
       "      <td>...</td>\n",
       "      <td>...</td>\n",
       "      <td>...</td>\n",
       "      <td>...</td>\n",
       "      <td>...</td>\n",
       "      <td>...</td>\n",
       "      <td>...</td>\n",
       "      <td>...</td>\n",
       "      <td>...</td>\n",
       "      <td>...</td>\n",
       "      <td>...</td>\n",
       "      <td>...</td>\n",
       "      <td>...</td>\n",
       "    </tr>\n",
       "    <tr>\n",
       "      <th>121327</th>\n",
       "      <td>Rated Classical game</td>\n",
       "      <td>https://lichess.org/4w6vfr19</td>\n",
       "      <td>Yudhisthira</td>\n",
       "      <td>netsah08</td>\n",
       "      <td>0-1</td>\n",
       "      <td>2013.01.31</td>\n",
       "      <td>22:59:08</td>\n",
       "      <td>1854</td>\n",
       "      <td>1937</td>\n",
       "      <td>-9.0</td>\n",
       "      <td>16.0</td>\n",
       "      <td>E80</td>\n",
       "      <td>King's Indian Defense: Saemisch Variation</td>\n",
       "      <td>600+10</td>\n",
       "      <td>Normal</td>\n",
       "      <td>NaN</td>\n",
       "      <td>NaN</td>\n",
       "    </tr>\n",
       "    <tr>\n",
       "      <th>121328</th>\n",
       "      <td>Rated Classical game</td>\n",
       "      <td>https://lichess.org/33p7nthu</td>\n",
       "      <td>Daler</td>\n",
       "      <td>kualalumpur</td>\n",
       "      <td>0-1</td>\n",
       "      <td>2013.01.31</td>\n",
       "      <td>22:59:13</td>\n",
       "      <td>1500</td>\n",
       "      <td>1266</td>\n",
       "      <td>-331.0</td>\n",
       "      <td>12.0</td>\n",
       "      <td>B01</td>\n",
       "      <td>Scandinavian Defense</td>\n",
       "      <td>720+0</td>\n",
       "      <td>Time forfeit</td>\n",
       "      <td>NaN</td>\n",
       "      <td>NaN</td>\n",
       "    </tr>\n",
       "    <tr>\n",
       "      <th>121329</th>\n",
       "      <td>Rated Classical game</td>\n",
       "      <td>https://lichess.org/pzncnhrt</td>\n",
       "      <td>senip</td>\n",
       "      <td>Richard_XII</td>\n",
       "      <td>0-1</td>\n",
       "      <td>2013.01.31</td>\n",
       "      <td>22:59:27</td>\n",
       "      <td>1431</td>\n",
       "      <td>1523</td>\n",
       "      <td>-70.0</td>\n",
       "      <td>7.0</td>\n",
       "      <td>B01</td>\n",
       "      <td>Scandinavian Defense: Mieses-Kotroc Variation</td>\n",
       "      <td>960+6</td>\n",
       "      <td>Normal</td>\n",
       "      <td>NaN</td>\n",
       "      <td>NaN</td>\n",
       "    </tr>\n",
       "    <tr>\n",
       "      <th>121330</th>\n",
       "      <td>Rated Blitz game</td>\n",
       "      <td>https://lichess.org/hhwb2whr</td>\n",
       "      <td>van9</td>\n",
       "      <td>shueardm</td>\n",
       "      <td>1-0</td>\n",
       "      <td>2013.01.31</td>\n",
       "      <td>22:59:41</td>\n",
       "      <td>1693</td>\n",
       "      <td>1479</td>\n",
       "      <td>6.0</td>\n",
       "      <td>-5.0</td>\n",
       "      <td>B00</td>\n",
       "      <td>Barnes Defense</td>\n",
       "      <td>180+1</td>\n",
       "      <td>Normal</td>\n",
       "      <td>NaN</td>\n",
       "      <td>NaN</td>\n",
       "    </tr>\n",
       "    <tr>\n",
       "      <th>121331</th>\n",
       "      <td>Rated Blitz game</td>\n",
       "      <td>https://lichess.org/e4gb7ja6</td>\n",
       "      <td>pablotorre</td>\n",
       "      <td>Tortfeasor</td>\n",
       "      <td>0-1</td>\n",
       "      <td>2013.01.31</td>\n",
       "      <td>22:59:31</td>\n",
       "      <td>1744</td>\n",
       "      <td>1762</td>\n",
       "      <td>-10.0</td>\n",
       "      <td>19.0</td>\n",
       "      <td>B15</td>\n",
       "      <td>Caro-Kann Defense: Forgacs Variation</td>\n",
       "      <td>300+0</td>\n",
       "      <td>Time forfeit</td>\n",
       "      <td>NaN</td>\n",
       "      <td>NaN</td>\n",
       "    </tr>\n",
       "  </tbody>\n",
       "</table>\n",
       "<p>121332 rows × 17 columns</p>\n",
       "</div>"
      ],
      "text/plain": [
       "                       Event                          Site             White  \\\n",
       "0       Rated Classical game  https://lichess.org/j1dkb5dw             BFG9k   \n",
       "1       Rated Classical game  https://lichess.org/a9tcp02g    Desmond_Wilson   \n",
       "2       Rated Classical game  https://lichess.org/szom2tog     Kozakmamay007   \n",
       "3          Rated Bullet game  https://lichess.org/rklpc7mk  Naitero_Nagasaki   \n",
       "4          Rated Bullet game  https://lichess.org/1xb3os63      nichiren1967   \n",
       "...                      ...                           ...               ...   \n",
       "121327  Rated Classical game  https://lichess.org/4w6vfr19       Yudhisthira   \n",
       "121328  Rated Classical game  https://lichess.org/33p7nthu             Daler   \n",
       "121329  Rated Classical game  https://lichess.org/pzncnhrt             senip   \n",
       "121330      Rated Blitz game  https://lichess.org/hhwb2whr              van9   \n",
       "121331      Rated Blitz game  https://lichess.org/e4gb7ja6        pablotorre   \n",
       "\n",
       "                    Black Result     UTCDate   UTCTime WhiteElo BlackElo  \\\n",
       "0                 mamalak    1-0  2012.12.31  23:01:03     1639     1403   \n",
       "1               savinka59    1-0  2012.12.31  23:04:12     1654     1919   \n",
       "2       VanillaShamanilla    1-0  2012.12.31  23:03:15     1643     1747   \n",
       "3                     800    0-1  2012.12.31  23:04:57     1824     1973   \n",
       "4        Naitero_Nagasaki    0-1  2012.12.31  23:02:37     1765     1815   \n",
       "...                   ...    ...         ...       ...      ...      ...   \n",
       "121327           netsah08    0-1  2013.01.31  22:59:08     1854     1937   \n",
       "121328        kualalumpur    0-1  2013.01.31  22:59:13     1500     1266   \n",
       "121329        Richard_XII    0-1  2013.01.31  22:59:27     1431     1523   \n",
       "121330           shueardm    1-0  2013.01.31  22:59:41     1693     1479   \n",
       "121331         Tortfeasor    0-1  2013.01.31  22:59:31     1744     1762   \n",
       "\n",
       "        WhiteRatingDiff  BlackRatingDiff  ECO  \\\n",
       "0                   5.0             -8.0  C00   \n",
       "1                  19.0            -22.0  D04   \n",
       "2                  13.0            -94.0  C50   \n",
       "3                  -6.0              8.0  B12   \n",
       "4                  -9.0              9.0  C00   \n",
       "...                 ...              ...  ...   \n",
       "121327             -9.0             16.0  E80   \n",
       "121328           -331.0             12.0  B01   \n",
       "121329            -70.0              7.0  B01   \n",
       "121330              6.0             -5.0  B00   \n",
       "121331            -10.0             19.0  B15   \n",
       "\n",
       "                                              Opening TimeControl  \\\n",
       "0                    French Defense: Normal Variation       600+8   \n",
       "1         Queen's Pawn Game: Colle System, Anti-Colle       480+2   \n",
       "2                Four Knights Game: Italian Variation      420+17   \n",
       "3                Caro-Kann Defense: Goldman Variation        60+1   \n",
       "4            French Defense: La Bourdonnais Variation        60+1   \n",
       "...                                               ...         ...   \n",
       "121327      King's Indian Defense: Saemisch Variation      600+10   \n",
       "121328                           Scandinavian Defense       720+0   \n",
       "121329  Scandinavian Defense: Mieses-Kotroc Variation       960+6   \n",
       "121330                                 Barnes Defense       180+1   \n",
       "121331           Caro-Kann Defense: Forgacs Variation       300+0   \n",
       "\n",
       "         Termination BlackTitle WhiteTitle  \n",
       "0             Normal        NaN        NaN  \n",
       "1             Normal        NaN        NaN  \n",
       "2             Normal        NaN        NaN  \n",
       "3             Normal        NaN        NaN  \n",
       "4             Normal        NaN        NaN  \n",
       "...              ...        ...        ...  \n",
       "121327        Normal        NaN        NaN  \n",
       "121328  Time forfeit        NaN        NaN  \n",
       "121329        Normal        NaN        NaN  \n",
       "121330        Normal        NaN        NaN  \n",
       "121331  Time forfeit        NaN        NaN  \n",
       "\n",
       "[121332 rows x 17 columns]"
      ]
     },
     "execution_count": 4,
     "metadata": {},
     "output_type": "execute_result"
    }
   ],
   "source": [
    "df1"
   ]
  },
  {
   "cell_type": "code",
   "execution_count": 5,
   "id": "6e736bad",
   "metadata": {},
   "outputs": [
    {
     "data": {
      "text/plain": [
       "121332"
      ]
     },
     "execution_count": 5,
     "metadata": {},
     "output_type": "execute_result"
    }
   ],
   "source": [
    "len(df1['Site'].unique())"
   ]
  },
  {
   "cell_type": "code",
   "execution_count": null,
   "id": "7e90d19e",
   "metadata": {},
   "outputs": [],
   "source": [
    "numcount = 0; file = open('Data/2013/lichess_db_standard_rated_2013-10.pgn', 'r'); numcount2 = 0; numcount3 = 0; start = 0\n",
    "possible = ['\\n', '[', '1']\n",
    "for idx, l in enumerate(file):\n",
    "    if start > 0:\n",
    "        print(l)\n",
    "        start -= 1\n",
    "    if l[:12] == '[Termination':\n",
    "        numcount3 += 1\n",
    "    if l[0] == '1':\n",
    "        numcount+=1\n",
    "    if l[0] not in possible:\n",
    "        print(l)\n",
    "        numcount2 += 1\n",
    "        start += 20\n",
    "    \n",
    "print(numcount)"
   ]
  },
  {
   "cell_type": "code",
   "execution_count": 7,
   "id": "2d90b568",
   "metadata": {},
   "outputs": [],
   "source": [
    "from scipy.stats import multivariate_normal\n",
    "import seaborn as sb\n",
    "import numpy as np\n",
    "import matplotlib.pyplot as plt"
   ]
  },
  {
   "cell_type": "code",
   "execution_count": 61,
   "id": "fcb39b35",
   "metadata": {},
   "outputs": [],
   "source": [
    "x = np.linspace(-4, 4, 1001)\n",
    "y = np.linspace(-4, 4, 1001)\n",
    "x_grid, y_grid = np.meshgrid(x, y)\n",
    "samples = np.concatenate([x_grid.reshape(-1, 1), y_grid.reshape(-1, 1)], axis = 1)\n",
    "pdf = multivariate_normal.pdf(samples, mean = [0, 0], cov = [[1, 0.5], [0.5, 4]])\n",
    "pdf_grid = pdf.reshape(1001, 1001)"
   ]
  },
  {
   "cell_type": "code",
   "execution_count": 68,
   "id": "299d5091",
   "metadata": {
    "scrolled": false
   },
   "outputs": [
    {
     "data": {
      "image/png": "[encoded data removed]",
      "text/plain": [
       "<Figure size 720x720 with 2 Axes>"
      ]
     },
     "metadata": {
      "needs_background": "light"
     },
     "output_type": "display_data"
    }
   ],
   "source": [
    "plt.figure(figsize = (10, 10))\n",
    "xticksloc = np.linspace(0, 1000, 21).astype('int64')\n",
    "yticksloc = np.linspace(0, 1000, 21).astype('int64')\n",
    "ax = sb.heatmap(pdf_grid, square = True)\n",
    "ax.set_xticks(xticksloc)\n",
    "ax.set_yticks(yticksloc)\n",
    "a = ax.set_xticklabels(np.around(x[xticksloc], decimals = 1))\n",
    "a = ax.set_yticklabels(np.around(y[yticksloc], decimals = 1))"
   ]
  },
  {
   "cell_type": "code",
   "execution_count": 47,
   "id": "5a8b230f",
   "metadata": {},
   "outputs": [
    {
     "data": {
      "image/png": "[encoded data removed]",
      "text/plain": [
       "<Figure size 432x288 with 2 Axes>"
      ]
     },
     "metadata": {
      "needs_background": "light"
     },
     "output_type": "display_data"
    }
   ],
   "source": [
    "flights = sb.load_dataset(\"flights\")\n",
    "flights = flights.pivot(\"month\", \"year\", \"passengers\")\n",
    "ax = sb.heatmap(flights, xticklabels = np.arange(5))"
   ]
  },
  {
   "cell_type": "code",
   "execution_count": 69,
   "id": "0c3de1eb",
   "metadata": {},
   "outputs": [],
   "source": [
    "import numpy as np\n",
    "import pandas as pd\n",
    "import matplotlib.pyplot as plt\n",
    "import nashpy as nash\n",
    "import itertools\n",
    "import cvxpy as cp\n",
    "import cvxopt\n",
    "from tqdm import tqdm\n",
    "import seaborn as sb\n",
    "from scipy.stats import skewnorm\n",
    "from scipy.optimize import minimize\n",
    "import pickle"
   ]
  },
  {
   "cell_type": "code",
   "execution_count": 75,
   "id": "fd2fc41d",
   "metadata": {},
   "outputs": [],
   "source": [
    "def solve_MaxEnt_NE(payoff, verbose = False, eps = 1e-5, zero_tol = 1e-6, iters = 500, cycle = 5):\n",
    "    \n",
    "    init_val = np.random.uniform(size = payoff.shape[0])\n",
    "    init_val = init_val / np.sum(init_val)\n",
    "    \n",
    "    p = cp.Variable(payoff.shape[0], value = init_val)\n",
    "    constraints = [payoff @ p <= 0, cp.sum(p) == 1, p >= 0]\n",
    "    objective = cp.sum(cp.entr(p))\n",
    "    prob = cp.Problem(cp.Maximize(objective), constraints)\n",
    "    \n",
    "    try:\n",
    "      cycle_count = 0; done = False\n",
    "      while cycle_count < cycle and done is False:\n",
    "        prob.solve(verbose = verbose, solver = cp.MOSEK, warm_start = True)\n",
    "        \n",
    "        print(f\"Solution {p.value}\")\n",
    "        p_vect = p.value * (p.value > zero_tol)\n",
    "        diff = payoff @ p_vect.reshape(-1, 1)\n",
    "        print(f\"Cycle count {cycle_count}, diff = {np.sum(diff >= eps)}\")\n",
    "        done = True if np.sum(diff >= eps) == 0 else False\n",
    "        cycle_count += 1\n",
    "    except cp.SolverError:\n",
    "      print(\"MOSEK FAILED?\")\n",
    "      try:\n",
    "        # Try ECOS_BB first\n",
    "        cycle_count = 0; done = False\n",
    "        while cycle_count < cycle and done is False:\n",
    "          prob.solve(verbose = verbose, max_iters = 1000, solver = cp.ECOS_BB, warm_start = True)\n",
    "          p_vect = p.value * (p.value > zero_tol)\n",
    "          diff = payoff @ p_vect.reshape(-1, 1)\n",
    "          print(f\"Cycle count {cycle_count}, diff = {np.sum(diff >= eps)}\")\n",
    "          done = True if np.sum(diff >= eps) == 0 else False\n",
    "          cycle_count += 1\n",
    "      except cp.SolverError:\n",
    "        print(\"ECOS_BB FAILED\")\n",
    "        cycle_count = 0; done = False\n",
    "        while cycle_count < cycle and done is False:\n",
    "          prob.solve(verbose = verbose, max_iters = iters, solver = cp.SCS, warm_start = True)\n",
    "          p_vect = p.value * (p.value > zero_tol)\n",
    "          diff = payoff @ p_vect.reshape(-1, 1)\n",
    "          print(f\"Cycle count {cycle_count}, diff = {np.sum(diff >= eps)}\")\n",
    "          done = True if np.sum(diff >= eps) == 0 else False\n",
    "          cycle_count += 1\n",
    "  \n",
    "    # Clean - small values\n",
    "    p_vect = p_vect * (p_vect > zero_tol)\n",
    "    return p_vect, np.sum(diff>=eps)"
   ]
  },
  {
   "cell_type": "code",
   "execution_count": 92,
   "id": "688e1b11",
   "metadata": {},
   "outputs": [
    {
     "name": "stdout",
     "output_type": "stream",
     "text": [
      "===============================================================================\n",
      "                                     CVXPY                                     \n",
      "                                    v1.1.13                                    \n",
      "===============================================================================\n",
      "(CVXPY) Aug 12 04:56:06 PM: Your problem has 3 variables, 3 constraints, and 0 parameters.\n",
      "(CVXPY) Aug 12 04:56:06 PM: It is compliant with the following grammars: DCP, DQCP\n",
      "(CVXPY) Aug 12 04:56:06 PM: (If you need to solve this problem multiple times, but with different data, consider using parameters.)\n",
      "(CVXPY) Aug 12 04:56:06 PM: CVXPY will first compile your problem; then, it will invoke a numerical solver to obtain a solution.\n",
      "-------------------------------------------------------------------------------\n",
      "                                  Compilation                                  \n",
      "-------------------------------------------------------------------------------\n",
      "(CVXPY) Aug 12 04:56:06 PM: Compiling problem (target solver=MOSEK).\n",
      "(CVXPY) Aug 12 04:56:06 PM: Reduction chain: FlipObjective -> Dcp2Cone -> CvxAttr2Constr -> ConeMatrixStuffing -> MOSEK\n",
      "(CVXPY) Aug 12 04:56:06 PM: Applying reduction FlipObjective\n",
      "(CVXPY) Aug 12 04:56:06 PM: Applying reduction Dcp2Cone\n",
      "(CVXPY) Aug 12 04:56:06 PM: Applying reduction CvxAttr2Constr\n",
      "(CVXPY) Aug 12 04:56:06 PM: Applying reduction ConeMatrixStuffing\n",
      "(CVXPY) Aug 12 04:56:06 PM: Applying reduction MOSEK\n",
      "(CVXPY) Aug 12 04:56:06 PM: Finished problem compilation (took 6.981e-03 seconds).\n",
      "-------------------------------------------------------------------------------\n",
      "                                Numerical solver                               \n",
      "-------------------------------------------------------------------------------\n",
      "(CVXPY) Aug 12 04:56:06 PM: Invoking solver MOSEK  to obtain a solution.\n",
      "\n",
      "\n",
      "Problem\n",
      "  Name                   :                 \n",
      "  Objective sense        : max             \n",
      "  Type                   : LO (linear optimization problem)\n",
      "  Constraints            : 3               \n",
      "  Cones                  : 0               \n",
      "  Scalar variables       : 7               \n",
      "  Matrix variables       : 0               \n",
      "  Integer variables      : 0               \n",
      "\n",
      "Optimizer started.\n",
      "Problem\n",
      "  Name                   :                 \n",
      "  Objective sense        : max             \n",
      "  Type                   : LO (linear optimization problem)\n",
      "  Constraints            : 3               \n",
      "  Cones                  : 0               \n",
      "  Scalar variables       : 7               \n",
      "  Matrix variables       : 0               \n",
      "  Integer variables      : 0               \n",
      "\n",
      "Optimizer  - threads                : 8               \n",
      "Optimizer  - solved problem         : the primal      \n",
      "Optimizer  - Constraints            : 2\n",
      "Optimizer  - Cones                  : 0\n",
      "Optimizer  - Scalar variables       : 6                 conic                  : 0               \n",
      "Optimizer  - Semi-definite variables: 0                 scalarized             : 0               \n",
      "Factor     - setup time             : 0.00              dense det. time        : 0.00            \n",
      "Factor     - ML order time          : 0.00              GP order time          : 0.00            \n",
      "Factor     - nonzeros before factor : 3                 after factor           : 3               \n",
      "Factor     - dense dim.             : 0                 flops                  : 3.30e+01        \n",
      "ITE PFEAS    DFEAS    GFEAS    PRSTATUS   POBJ              DOBJ              MU       TIME  \n",
      "0   7.8e-01  3.1e+00  3.8e+00  0.00e+00   -2.414213562e+00  -1.000000000e+00  2.4e+00  0.02  \n",
      "1   4.6e-02  1.8e-01  2.2e-01  1.68e+00   -1.039262897e+00  -1.000000000e+00  1.4e-01  0.02  \n",
      "2   7.5e-05  3.0e-04  3.6e-04  1.05e+00   -1.000087402e+00  -1.000000000e+00  2.3e-04  0.02  \n",
      "3   7.5e-09  3.0e-08  3.6e-08  1.00e+00   -1.000000009e+00  -1.000000000e+00  2.3e-08  0.02  \n",
      "4   7.5e-13  3.0e-12  3.6e-12  1.00e+00   -1.000000000e+00  -1.000000000e+00  2.3e-12  0.02  \n",
      "Optimizer terminated. Time: 0.05    \n",
      "\n",
      "\n",
      "Interior-point solution summary\n",
      "  Problem status  : PRIMAL_AND_DUAL_FEASIBLE\n",
      "  Solution status : OPTIMAL\n",
      "  Primal.  obj: -1.0000000000e+00   nrm: 1e+00    Viol.  con: 7e-13    var: 0e+00  \n",
      "  Dual.    obj: -1.0000000000e+00   nrm: 3e-01    Viol.  con: 0e+00    var: 1e-12  \n",
      "-------------------------------------------------------------------------------\n",
      "                                    Summary                                    \n",
      "-------------------------------------------------------------------------------\n",
      "(CVXPY) Aug 12 04:56:06 PM: Problem status: optimal\n",
      "(CVXPY) Aug 12 04:56:06 PM: Optimal value: 1.000e+00\n",
      "(CVXPY) Aug 12 04:56:06 PM: Compilation took 6.981e-03 seconds\n",
      "(CVXPY) Aug 12 04:56:06 PM: Solver (including time spent in interface) took 5.605e-02 seconds\n",
      "[0.33333333 0.33333333 0.33333333]\n"
     ]
    }
   ],
   "source": [
    "init_val = np.random.uniform(size = payoff.shape[0])\n",
    "init_val = init_val / np.sum(init_val)\n",
    "\n",
    "p = cp.Variable(payoff.shape[0], value = init_val)\n",
    "constraints = [payoff @ p <= 0, cp.sum(p) == 1, p >= 0]\n",
    "objective = cp.sum(p)\n",
    "prob = cp.Problem(cp.Maximize(objective), constraints)\n",
    "prob.solve(verbose = True, solver = cp.MOSEK, warm_start = True)\n",
    "print(p.value)"
   ]
  },
  {
   "cell_type": "code",
   "execution_count": 86,
   "id": "1d5f4826",
   "metadata": {},
   "outputs": [],
   "source": [
    "# payoff = np.array([[3, -1], [-2, 1]])\n",
    "payoff = np.array([[0, -1, 1], [1, 0, -1], [-1, 1, 0]])"
   ]
  },
  {
   "cell_type": "code",
   "execution_count": 91,
   "id": "1519c60e",
   "metadata": {
    "scrolled": true
   },
   "outputs": [
    {
     "name": "stdout",
     "output_type": "stream",
     "text": [
      "[0.24432559 0.02493538 0.73073903]\n",
      "[0.08012424 0.45979525 0.4600805 ]\n",
      "===============================================================================\n",
      "                                     CVXPY                                     \n",
      "                                    v1.1.13                                    \n",
      "===============================================================================\n",
      "(CVXPY) Aug 12 04:52:45 PM: Your problem has 6 variables, 6 constraints, and 0 parameters.\n",
      "(CVXPY) Aug 12 04:52:45 PM: It is compliant with the following grammars: \n",
      "(CVXPY) Aug 12 04:52:45 PM: (If you need to solve this problem multiple times, but with different data, consider using parameters.)\n",
      "(CVXPY) Aug 12 04:52:45 PM: CVXPY will first compile your problem; then, it will invoke a numerical solver to obtain a solution.\n"
     ]
    },
    {
     "ename": "DCPError",
     "evalue": "Problem does not follow DCP rules. Specifically:\nThe following constraints are not DCP:\n[[ 0. -1.  1.]\n [ 1.  0. -1.]\n [-1.  1.  0.]] @ reshape(var572, (3, 1), F) <= reshape(var571, (1, 3), F) @ [[ 0. -1.  1.]\n [ 1.  0. -1.]\n [-1.  1.  0.]] @ reshape(var572, (3, 1), F) , because the following subexpressions are not:\n|--  reshape(var571, (1, 3), F) @ [[ 0. -1.  1.]\n [ 1.  0. -1.]\n [-1.  1.  0.]] @ reshape(var572, (3, 1), F)\n[[ 0. -1.  1.]\n [ 1.  0. -1.]\n [-1.  1.  0.]] @ reshape(var571, (3, 1), F) <= reshape(var571, (1, 3), F) @ [[ 0. -1.  1.]\n [ 1.  0. -1.]\n [-1.  1.  0.]] @ reshape(var572, (3, 1), F) , because the following subexpressions are not:\n|--  reshape(var571, (1, 3), F) @ [[ 0. -1.  1.]\n [ 1.  0. -1.]\n [-1.  1.  0.]] @ reshape(var572, (3, 1), F)",
     "output_type": "error",
     "traceback": [
      "\u001b[1;31m---------------------------------------------------------------------------\u001b[0m",
      "\u001b[1;31mDCPError\u001b[0m                                  Traceback (most recent call last)",
      "\u001b[1;32m<ipython-input-91-5d297fb68ea3>\u001b[0m in \u001b[0;36m<module>\u001b[1;34m\u001b[0m\n\u001b[0;32m     17\u001b[0m \u001b[0mobjective\u001b[0m \u001b[1;33m=\u001b[0m \u001b[0mcp\u001b[0m\u001b[1;33m.\u001b[0m\u001b[0msum\u001b[0m\u001b[1;33m(\u001b[0m\u001b[0mp1\u001b[0m\u001b[1;33m)\u001b[0m \u001b[1;33m+\u001b[0m \u001b[0mcp\u001b[0m\u001b[1;33m.\u001b[0m\u001b[0msum\u001b[0m\u001b[1;33m(\u001b[0m\u001b[0mp2\u001b[0m\u001b[1;33m)\u001b[0m\u001b[1;33m\u001b[0m\u001b[1;33m\u001b[0m\u001b[0m\n\u001b[0;32m     18\u001b[0m \u001b[0mprob\u001b[0m \u001b[1;33m=\u001b[0m \u001b[0mcp\u001b[0m\u001b[1;33m.\u001b[0m\u001b[0mProblem\u001b[0m\u001b[1;33m(\u001b[0m\u001b[0mcp\u001b[0m\u001b[1;33m.\u001b[0m\u001b[0mMaximize\u001b[0m\u001b[1;33m(\u001b[0m\u001b[0mobjective\u001b[0m\u001b[1;33m)\u001b[0m\u001b[1;33m,\u001b[0m \u001b[0mconstraints\u001b[0m\u001b[1;33m)\u001b[0m\u001b[1;33m\u001b[0m\u001b[1;33m\u001b[0m\u001b[0m\n\u001b[1;32m---> 19\u001b[1;33m \u001b[0mprob\u001b[0m\u001b[1;33m.\u001b[0m\u001b[0msolve\u001b[0m\u001b[1;33m(\u001b[0m\u001b[0mverbose\u001b[0m \u001b[1;33m=\u001b[0m \u001b[1;32mTrue\u001b[0m\u001b[1;33m,\u001b[0m \u001b[0msolver\u001b[0m \u001b[1;33m=\u001b[0m \u001b[0mcp\u001b[0m\u001b[1;33m.\u001b[0m\u001b[0mMOSEK\u001b[0m\u001b[1;33m,\u001b[0m \u001b[0mwarm_start\u001b[0m \u001b[1;33m=\u001b[0m \u001b[1;32mTrue\u001b[0m\u001b[1;33m)\u001b[0m\u001b[1;33m\u001b[0m\u001b[1;33m\u001b[0m\u001b[0m\n\u001b[0m\u001b[0;32m     20\u001b[0m \u001b[1;33m\u001b[0m\u001b[0m\n\u001b[0;32m     21\u001b[0m \u001b[0mprint\u001b[0m\u001b[1;33m(\u001b[0m\u001b[0mp1\u001b[0m\u001b[1;33m.\u001b[0m\u001b[0mvalue\u001b[0m\u001b[1;33m)\u001b[0m\u001b[1;33m\u001b[0m\u001b[1;33m\u001b[0m\u001b[0m\n",
      "\u001b[1;32mC:\\ProgramData\\Anaconda3\\lib\\site-packages\\cvxpy\\problems\\problem.py\u001b[0m in \u001b[0;36msolve\u001b[1;34m(self, *args, **kwargs)\u001b[0m\n\u001b[0;32m    460\u001b[0m         \u001b[1;32melse\u001b[0m\u001b[1;33m:\u001b[0m\u001b[1;33m\u001b[0m\u001b[1;33m\u001b[0m\u001b[0m\n\u001b[0;32m    461\u001b[0m             \u001b[0msolve_func\u001b[0m \u001b[1;33m=\u001b[0m \u001b[0mProblem\u001b[0m\u001b[1;33m.\u001b[0m\u001b[0m_solve\u001b[0m\u001b[1;33m\u001b[0m\u001b[1;33m\u001b[0m\u001b[0m\n\u001b[1;32m--> 462\u001b[1;33m         \u001b[1;32mreturn\u001b[0m \u001b[0msolve_func\u001b[0m\u001b[1;33m(\u001b[0m\u001b[0mself\u001b[0m\u001b[1;33m,\u001b[0m \u001b[1;33m*\u001b[0m\u001b[0margs\u001b[0m\u001b[1;33m,\u001b[0m \u001b[1;33m**\u001b[0m\u001b[0mkwargs\u001b[0m\u001b[1;33m)\u001b[0m\u001b[1;33m\u001b[0m\u001b[1;33m\u001b[0m\u001b[0m\n\u001b[0m\u001b[0;32m    463\u001b[0m \u001b[1;33m\u001b[0m\u001b[0m\n\u001b[0;32m    464\u001b[0m     \u001b[1;33m@\u001b[0m\u001b[0mclassmethod\u001b[0m\u001b[1;33m\u001b[0m\u001b[1;33m\u001b[0m\u001b[0m\n",
      "\u001b[1;32mC:\\ProgramData\\Anaconda3\\lib\\site-packages\\cvxpy\\problems\\problem.py\u001b[0m in \u001b[0;36m_solve\u001b[1;34m(self, solver, warm_start, verbose, gp, qcp, requires_grad, enforce_dpp, **kwargs)\u001b[0m\n\u001b[0;32m    947\u001b[0m                 \u001b[1;32mreturn\u001b[0m \u001b[0mself\u001b[0m\u001b[1;33m.\u001b[0m\u001b[0mvalue\u001b[0m\u001b[1;33m\u001b[0m\u001b[1;33m\u001b[0m\u001b[0m\n\u001b[0;32m    948\u001b[0m \u001b[1;33m\u001b[0m\u001b[0m\n\u001b[1;32m--> 949\u001b[1;33m         data, solving_chain, inverse_data = self.get_problem_data(\n\u001b[0m\u001b[0;32m    950\u001b[0m             solver, gp, enforce_dpp, verbose)\n\u001b[0;32m    951\u001b[0m \u001b[1;33m\u001b[0m\u001b[0m\n",
      "\u001b[1;32mC:\\ProgramData\\Anaconda3\\lib\\site-packages\\cvxpy\\problems\\problem.py\u001b[0m in \u001b[0;36mget_problem_data\u001b[1;34m(self, solver, gp, enforce_dpp, verbose)\u001b[0m\n\u001b[0;32m    568\u001b[0m         \u001b[1;32mif\u001b[0m \u001b[0mkey\u001b[0m \u001b[1;33m!=\u001b[0m \u001b[0mself\u001b[0m\u001b[1;33m.\u001b[0m\u001b[0m_cache\u001b[0m\u001b[1;33m.\u001b[0m\u001b[0mkey\u001b[0m\u001b[1;33m:\u001b[0m\u001b[1;33m\u001b[0m\u001b[1;33m\u001b[0m\u001b[0m\n\u001b[0;32m    569\u001b[0m             \u001b[0mself\u001b[0m\u001b[1;33m.\u001b[0m\u001b[0m_cache\u001b[0m\u001b[1;33m.\u001b[0m\u001b[0minvalidate\u001b[0m\u001b[1;33m(\u001b[0m\u001b[1;33m)\u001b[0m\u001b[1;33m\u001b[0m\u001b[1;33m\u001b[0m\u001b[0m\n\u001b[1;32m--> 570\u001b[1;33m             solving_chain = self._construct_chain(\n\u001b[0m\u001b[0;32m    571\u001b[0m                 solver=solver, gp=gp, enforce_dpp=enforce_dpp)\n\u001b[0;32m    572\u001b[0m             \u001b[0mself\u001b[0m\u001b[1;33m.\u001b[0m\u001b[0m_cache\u001b[0m\u001b[1;33m.\u001b[0m\u001b[0mkey\u001b[0m \u001b[1;33m=\u001b[0m \u001b[0mkey\u001b[0m\u001b[1;33m\u001b[0m\u001b[1;33m\u001b[0m\u001b[0m\n",
      "\u001b[1;32mC:\\ProgramData\\Anaconda3\\lib\\site-packages\\cvxpy\\problems\\problem.py\u001b[0m in \u001b[0;36m_construct_chain\u001b[1;34m(self, solver, gp, enforce_dpp)\u001b[0m\n\u001b[0;32m    796\u001b[0m         \u001b[0mcandidate_solvers\u001b[0m \u001b[1;33m=\u001b[0m \u001b[0mself\u001b[0m\u001b[1;33m.\u001b[0m\u001b[0m_find_candidate_solvers\u001b[0m\u001b[1;33m(\u001b[0m\u001b[0msolver\u001b[0m\u001b[1;33m=\u001b[0m\u001b[0msolver\u001b[0m\u001b[1;33m,\u001b[0m \u001b[0mgp\u001b[0m\u001b[1;33m=\u001b[0m\u001b[0mgp\u001b[0m\u001b[1;33m)\u001b[0m\u001b[1;33m\u001b[0m\u001b[1;33m\u001b[0m\u001b[0m\n\u001b[0;32m    797\u001b[0m         \u001b[0mself\u001b[0m\u001b[1;33m.\u001b[0m\u001b[0m_sort_candidate_solvers\u001b[0m\u001b[1;33m(\u001b[0m\u001b[0mcandidate_solvers\u001b[0m\u001b[1;33m)\u001b[0m\u001b[1;33m\u001b[0m\u001b[1;33m\u001b[0m\u001b[0m\n\u001b[1;32m--> 798\u001b[1;33m         return construct_solving_chain(self, candidate_solvers, gp=gp,\n\u001b[0m\u001b[0;32m    799\u001b[0m                                        enforce_dpp=enforce_dpp)\n\u001b[0;32m    800\u001b[0m \u001b[1;33m\u001b[0m\u001b[0m\n",
      "\u001b[1;32mC:\\ProgramData\\Anaconda3\\lib\\site-packages\\cvxpy\\reductions\\solvers\\solving_chain.py\u001b[0m in \u001b[0;36mconstruct_solving_chain\u001b[1;34m(problem, candidates, gp, enforce_dpp)\u001b[0m\n\u001b[0;32m    153\u001b[0m     \u001b[1;32mif\u001b[0m \u001b[0mlen\u001b[0m\u001b[1;33m(\u001b[0m\u001b[0mproblem\u001b[0m\u001b[1;33m.\u001b[0m\u001b[0mvariables\u001b[0m\u001b[1;33m(\u001b[0m\u001b[1;33m)\u001b[0m\u001b[1;33m)\u001b[0m \u001b[1;33m==\u001b[0m \u001b[1;36m0\u001b[0m\u001b[1;33m:\u001b[0m\u001b[1;33m\u001b[0m\u001b[1;33m\u001b[0m\u001b[0m\n\u001b[0;32m    154\u001b[0m         \u001b[1;32mreturn\u001b[0m \u001b[0mSolvingChain\u001b[0m\u001b[1;33m(\u001b[0m\u001b[0mreductions\u001b[0m\u001b[1;33m=\u001b[0m\u001b[1;33m[\u001b[0m\u001b[0mConstantSolver\u001b[0m\u001b[1;33m(\u001b[0m\u001b[1;33m)\u001b[0m\u001b[1;33m]\u001b[0m\u001b[1;33m)\u001b[0m\u001b[1;33m\u001b[0m\u001b[1;33m\u001b[0m\u001b[0m\n\u001b[1;32m--> 155\u001b[1;33m     \u001b[0mreductions\u001b[0m \u001b[1;33m=\u001b[0m \u001b[0m_reductions_for_problem_class\u001b[0m\u001b[1;33m(\u001b[0m\u001b[0mproblem\u001b[0m\u001b[1;33m,\u001b[0m \u001b[0mcandidates\u001b[0m\u001b[1;33m,\u001b[0m \u001b[0mgp\u001b[0m\u001b[1;33m)\u001b[0m\u001b[1;33m\u001b[0m\u001b[1;33m\u001b[0m\u001b[0m\n\u001b[0m\u001b[0;32m    156\u001b[0m \u001b[1;33m\u001b[0m\u001b[0m\n\u001b[0;32m    157\u001b[0m     \u001b[0mdpp_context\u001b[0m \u001b[1;33m=\u001b[0m \u001b[1;34m'dcp'\u001b[0m \u001b[1;32mif\u001b[0m \u001b[1;32mnot\u001b[0m \u001b[0mgp\u001b[0m \u001b[1;32melse\u001b[0m \u001b[1;34m'dgp'\u001b[0m\u001b[1;33m\u001b[0m\u001b[1;33m\u001b[0m\u001b[0m\n",
      "\u001b[1;32mC:\\ProgramData\\Anaconda3\\lib\\site-packages\\cvxpy\\reductions\\solvers\\solving_chain.py\u001b[0m in \u001b[0;36m_reductions_for_problem_class\u001b[1;34m(problem, candidates, gp)\u001b[0m\n\u001b[0;32m     89\u001b[0m             append += (\"\\nHowever, the problem does follow DQCP rules. \"\n\u001b[0;32m     90\u001b[0m                        \"Consider calling solve() with `qcp=True`.\")\n\u001b[1;32m---> 91\u001b[1;33m         raise DCPError(\n\u001b[0m\u001b[0;32m     92\u001b[0m             \"Problem does not follow DCP rules. Specifically:\\n\" + append)\n\u001b[0;32m     93\u001b[0m     \u001b[1;32melif\u001b[0m \u001b[0mgp\u001b[0m \u001b[1;32mand\u001b[0m \u001b[1;32mnot\u001b[0m \u001b[0mproblem\u001b[0m\u001b[1;33m.\u001b[0m\u001b[0mis_dgp\u001b[0m\u001b[1;33m(\u001b[0m\u001b[1;33m)\u001b[0m\u001b[1;33m:\u001b[0m\u001b[1;33m\u001b[0m\u001b[1;33m\u001b[0m\u001b[0m\n",
      "\u001b[1;31mDCPError\u001b[0m: Problem does not follow DCP rules. Specifically:\nThe following constraints are not DCP:\n[[ 0. -1.  1.]\n [ 1.  0. -1.]\n [-1.  1.  0.]] @ reshape(var572, (3, 1), F) <= reshape(var571, (1, 3), F) @ [[ 0. -1.  1.]\n [ 1.  0. -1.]\n [-1.  1.  0.]] @ reshape(var572, (3, 1), F) , because the following subexpressions are not:\n|--  reshape(var571, (1, 3), F) @ [[ 0. -1.  1.]\n [ 1.  0. -1.]\n [-1.  1.  0.]] @ reshape(var572, (3, 1), F)\n[[ 0. -1.  1.]\n [ 1.  0. -1.]\n [-1.  1.  0.]] @ reshape(var571, (3, 1), F) <= reshape(var571, (1, 3), F) @ [[ 0. -1.  1.]\n [ 1.  0. -1.]\n [-1.  1.  0.]] @ reshape(var572, (3, 1), F) , because the following subexpressions are not:\n|--  reshape(var571, (1, 3), F) @ [[ 0. -1.  1.]\n [ 1.  0. -1.]\n [-1.  1.  0.]] @ reshape(var572, (3, 1), F)"
     ]
    }
   ],
   "source": [
    "init_val = np.random.uniform(size = payoff.shape[0])\n",
    "init_val = init_val / np.sum(init_val)\n",
    "p1 = cp.Variable(payoff.shape[0], value = init_val)\n",
    "l1 = payoff.shape[0]\n",
    "print(p1.value)\n",
    "\n",
    "init_val = np.random.uniform(size = payoff.shape[1])\n",
    "init_val = init_val / np.sum(init_val)\n",
    "p2 = cp.Variable(payoff.shape[1], value = init_val)\n",
    "l2 = payoff.shape[1]\n",
    "print(p2.value)\n",
    "\n",
    "constraints = [cp.reshape(p1,(1, l1)) @ payoff @ cp.reshape(p2, (l2,1)) >= payoff @ cp.reshape(p2, (l2,1)),\n",
    "              cp.reshape(p1,(1, l1)) @ payoff @ cp.reshape(p2, (l2,1)) >= (-payoff).T @ cp.reshape(p1,(l1, 1)), \n",
    "              p1 >=0, p2>=0, cp.sum(p1) == 1, cp.sum(p2) == 1]\n",
    "\n",
    "objective = cp.sum(p1) + cp.sum(p2)\n",
    "prob = cp.Problem(cp.Maximize(objective), constraints)\n",
    "prob.solve(verbose = True, solver = cp.MOSEK, warm_start = True)\n",
    "\n",
    "print(p1.value)\n",
    "print(p2.value)"
   ]
  },
  {
   "cell_type": "code",
   "execution_count": 93,
   "id": "7042dff9",
   "metadata": {},
   "outputs": [],
   "source": [
    "def create_CE_matrix(payoff):\n",
    "    \"\"\"\n",
    "    - Create CE constraint matrix, of size n * |A|_P_2 x |A|^n\n",
    "    - Payoff is of shape |A| x |A|; assume 2 players symmetric\n",
    "    \"\"\"\n",
    "    action_num = payoff.shape[0]\n",
    "    mat_row = []; mat_col = []; flattened_gain_rp = []; flattened_gain_cp = []\n",
    "    \n",
    "    for i in range(action_num):\n",
    "        for j in range(action_num):\n",
    "            if i == j: # only between pairs of non-identical action. Ordering matters\n",
    "                continue\n",
    "            else:\n",
    "                # For Row Player\n",
    "                # player switches FROM i to j. Hence gain = payoff[j] - payoff[i]\n",
    "                row = np.zeros((action_num, action_num)) # make square first then reshape so indexing is easier\n",
    "                \n",
    "                # Set the entries to gain, only for those that correspond to row player making action i\n",
    "                # Convention is: 0,0,..., 0,|A|, 1,0, ..., 1,|A|,..., |A|,|A|. Since square, indexing is easier\n",
    "                diff = payoff[j, :] - payoff[i, :]\n",
    "                row[i, :] = diff\n",
    "#                 flattened_gain_rp.append(diff)\n",
    "                row = row.flatten()\n",
    "                mat_row.append(row)\n",
    "                \n",
    "                \n",
    "                # For Column Player\n",
    "                row = np.zeros((action_num, action_num)) # make square first then reshape so indexing is easier\n",
    "                \n",
    "                diff = -payoff[:, j] + payoff[:, i]\n",
    "                row[:, i] = diff\n",
    "#                 flattened_gain_cp.append(diff)\n",
    "                row = row.flatten()\n",
    "                mat_col.append(row)\n",
    "\n",
    "    return np.array(mat_row + mat_col) #, np.array(flattened_gain_rp + flattened_gain_cp).flatten()"
   ]
  },
  {
   "cell_type": "code",
   "execution_count": 115,
   "id": "be3ed099",
   "metadata": {},
   "outputs": [],
   "source": [
    "def create_CE_matrix(payoff_row, payoff_col):\n",
    "    \"\"\"\n",
    "    - Create CE constraint matrix, of size n * |A|_P_2 x |A|^n\n",
    "    - Payoff is of shape |A| x |A|; assume 2 players symmetric\n",
    "    \"\"\"\n",
    "    action_num = payoff_row.shape[0]\n",
    "    mat_row = []; mat_col = []; flattened_gain_rp = []; flattened_gain_cp = []\n",
    "    \n",
    "    for i in range(action_num):\n",
    "        for j in range(action_num):\n",
    "            if i == j: # only between pairs of non-identical action. Ordering matters\n",
    "                continue\n",
    "            else:\n",
    "                # For Row Player\n",
    "                # player switches FROM i to j. Hence gain = payoff[j] - payoff[i]\n",
    "                row = np.zeros((action_num, action_num)) # make square first then reshape so indexing is easier\n",
    "                \n",
    "                # Set the entries to gain, only for those that correspond to row player making action i\n",
    "                # Convention is: 0,0,..., 0,|A|, 1,0, ..., 1,|A|,..., |A|,|A|. Since square, indexing is easier\n",
    "                diff = payoff_row[j, :] - payoff_row[i, :]\n",
    "                row[i, :] = diff\n",
    "#                 flattened_gain_rp.append(diff)\n",
    "                row = row.flatten()\n",
    "                mat_row.append(row)\n",
    "                \n",
    "                \n",
    "                # For Column Player\n",
    "                row = np.zeros((action_num, action_num)) # make square first then reshape so indexing is easier\n",
    "                \n",
    "                diff = payoff_col[:, j] - payoff_col[:, i]\n",
    "                row[:, i] = diff\n",
    "#                 flattened_gain_cp.append(diff)\n",
    "                row = row.flatten()\n",
    "                mat_col.append(row)\n",
    "\n",
    "    return np.array(mat_row + mat_col) #, np.array(flattened_gain_rp + flattened_gain_cp).flatten()"
   ]
  },
  {
   "cell_type": "code",
   "execution_count": 128,
   "id": "2930743b",
   "metadata": {},
   "outputs": [],
   "source": [
    "# payoff = np.array([[3, -1], [-2, 1]])\n",
    "# payoff = np.array([[0, -1, 1], [1, 0, -1], [-1, 1, 0]])\n",
    "payoff_row = np.array([[0, 7], [2, 6]])\n",
    "payoff_col = np.array([[0, 2], [7, 6]])\n",
    "U = create_CE_matrix(payoff_row, payoff_col)"
   ]
  },
  {
   "cell_type": "code",
   "execution_count": 129,
   "id": "094ecd29",
   "metadata": {},
   "outputs": [
    {
     "data": {
      "text/plain": [
       "array([[ 2., -1.,  0.,  0.],\n",
       "       [ 0.,  0., -2.,  1.],\n",
       "       [ 2.,  0., -1.,  0.],\n",
       "       [ 0., -2.,  0.,  1.]])"
      ]
     },
     "execution_count": 129,
     "metadata": {},
     "output_type": "execute_result"
    }
   ],
   "source": [
    "U"
   ]
  },
  {
   "cell_type": "code",
   "execution_count": 135,
   "id": "7dc1a073",
   "metadata": {
    "scrolled": true
   },
   "outputs": [
    {
     "name": "stdout",
     "output_type": "stream",
     "text": [
      "===============================================================================\n",
      "                                     CVXPY                                     \n",
      "                                    v1.1.13                                    \n",
      "===============================================================================\n",
      "(CVXPY) Aug 12 07:13:58 PM: Your problem has 4 variables, 3 constraints, and 0 parameters.\n",
      "(CVXPY) Aug 12 07:13:58 PM: It is compliant with the following grammars: DCP, DQCP\n",
      "(CVXPY) Aug 12 07:13:58 PM: (If you need to solve this problem multiple times, but with different data, consider using parameters.)\n",
      "(CVXPY) Aug 12 07:13:58 PM: CVXPY will first compile your problem; then, it will invoke a numerical solver to obtain a solution.\n",
      "-------------------------------------------------------------------------------\n",
      "                                  Compilation                                  \n",
      "-------------------------------------------------------------------------------\n",
      "(CVXPY) Aug 12 07:13:58 PM: Compiling problem (target solver=MOSEK).\n",
      "(CVXPY) Aug 12 07:13:58 PM: Reduction chain: FlipObjective -> Dcp2Cone -> CvxAttr2Constr -> ConeMatrixStuffing -> MOSEK\n",
      "(CVXPY) Aug 12 07:13:58 PM: Applying reduction FlipObjective\n",
      "(CVXPY) Aug 12 07:13:58 PM: Applying reduction Dcp2Cone\n",
      "(CVXPY) Aug 12 07:13:58 PM: Applying reduction CvxAttr2Constr\n",
      "(CVXPY) Aug 12 07:13:58 PM: Applying reduction ConeMatrixStuffing\n",
      "(CVXPY) Aug 12 07:13:58 PM: Applying reduction MOSEK\n",
      "(CVXPY) Aug 12 07:13:58 PM: Finished problem compilation (took 6.978e-03 seconds).\n",
      "-------------------------------------------------------------------------------\n",
      "                                Numerical solver                               \n",
      "-------------------------------------------------------------------------------\n",
      "(CVXPY) Aug 12 07:13:58 PM: Invoking solver MOSEK  to obtain a solution.\n",
      "\n",
      "\n",
      "Problem\n",
      "  Name                   :                 \n",
      "  Objective sense        : max             \n",
      "  Type                   : LO (linear optimization problem)\n",
      "  Constraints            : 4               \n",
      "  Cones                  : 0               \n",
      "  Scalar variables       : 9               \n",
      "  Matrix variables       : 0               \n",
      "  Integer variables      : 0               \n",
      "\n",
      "Optimizer started.\n",
      "Problem\n",
      "  Name                   :                 \n",
      "  Objective sense        : max             \n",
      "  Type                   : LO (linear optimization problem)\n",
      "  Constraints            : 4               \n",
      "  Cones                  : 0               \n",
      "  Scalar variables       : 9               \n",
      "  Matrix variables       : 0               \n",
      "  Integer variables      : 0               \n",
      "\n",
      "Optimizer  - threads                : 8               \n",
      "Optimizer  - solved problem         : the primal      \n",
      "Optimizer  - Constraints            : 3\n",
      "Optimizer  - Cones                  : 0\n",
      "Optimizer  - Scalar variables       : 8                 conic                  : 0               \n",
      "Optimizer  - Semi-definite variables: 0                 scalarized             : 0               \n",
      "Factor     - setup time             : 0.00              dense det. time        : 0.00            \n",
      "Factor     - ML order time          : 0.00              GP order time          : 0.00            \n",
      "Factor     - nonzeros before factor : 6                 after factor           : 6               \n",
      "Factor     - dense dim.             : 0                 flops                  : 6.80e+01        \n",
      "ITE PFEAS    DFEAS    GFEAS    PRSTATUS   POBJ              DOBJ              MU       TIME  \n",
      "0   2.8e+01  8.2e+00  1.7e+00  0.00e+00   -1.141421356e+01  -1.200000000e+01  1.7e+01  0.00  \n",
      "1   8.6e+00  2.6e+00  5.3e-01  -7.36e-01  -1.274060905e+01  -1.397799737e+01  5.3e+00  0.02  \n",
      "2   2.5e+00  7.4e-01  1.5e-01  2.04e+00   -1.076229391e+01  -1.107327123e+01  1.5e+00  0.02  \n",
      "3   1.5e-01  4.6e-02  9.5e-03  1.22e+00   -1.053929933e+01  -1.055151502e+01  9.4e-02  0.02  \n",
      "4   6.8e-05  2.0e-05  4.2e-06  1.05e+00   -1.050000897e+01  -1.050001681e+01  4.2e-05  0.02  \n",
      "5   6.8e-09  2.0e-09  4.2e-10  1.00e+00   -1.050000000e+01  -1.050000000e+01  4.2e-09  0.02  \n",
      "Optimizer terminated. Time: 0.03    \n",
      "\n",
      "\n",
      "Interior-point solution summary\n",
      "  Problem status  : PRIMAL_AND_DUAL_FEASIBLE\n",
      "  Solution status : OPTIMAL\n",
      "  Primal.  obj: -1.0500000001e+01   nrm: 1e+01    Viol.  con: 4e-09    var: 0e+00  \n",
      "  Dual.    obj: -1.0500000002e+01   nrm: 5e-01    Viol.  con: 0e+00    var: 6e-10  \n",
      "-------------------------------------------------------------------------------\n",
      "                                    Summary                                    \n",
      "-------------------------------------------------------------------------------\n",
      "(CVXPY) Aug 12 07:13:58 PM: Problem status: optimal\n",
      "(CVXPY) Aug 12 07:13:58 PM: Optimal value: 1.050e+01\n",
      "(CVXPY) Aug 12 07:13:58 PM: Compilation took 6.978e-03 seconds\n",
      "(CVXPY) Aug 12 07:13:58 PM: Solver (including time spent in interface) took 3.790e-02 seconds\n"
     ]
    }
   ],
   "source": [
    "init_val = np.random.uniform(0, 1, size = U.shape[1])\n",
    "init_val = init_val / np.sum(init_val)\n",
    "lp = U.shape[1]\n",
    "p = cp.Variable(U.shape[1], value = init_val)\n",
    "p_mat = cp.reshape(p, (2,2))\n",
    "eps = 0\n",
    "constraints = [U @ cp.reshape(p, (lp, 1)) <= eps, cp.sum(p) == 1, p >= 0]\n",
    "objective = cp.sum(cp.multiply(p_mat,payoff_row)) + cp.sum(cp.multiply(p_mat, payoff_col))\n",
    "# objective = cp.sum(p)\n",
    "problem = cp.Problem(cp.Maximize(objective), constraints)\n",
    "\n",
    "problem.solve(verbose = True, solver = cp.MOSEK, warm_start = True)\n",
    "joint_p = p.value"
   ]
  },
  {
   "cell_type": "code",
   "execution_count": 136,
   "id": "5037d0c7",
   "metadata": {},
   "outputs": [
    {
     "data": {
      "text/plain": [
       "array([[-1.16202999e-10,  2.50000000e-01],\n",
       "       [ 2.50000000e-01,  5.00000000e-01]])"
      ]
     },
     "execution_count": 136,
     "metadata": {},
     "output_type": "execute_result"
    }
   ],
   "source": [
    "p_mat.value"
   ]
  },
  {
   "cell_type": "code",
   "execution_count": 138,
   "id": "2c341820",
   "metadata": {},
   "outputs": [
    {
     "data": {
      "text/plain": [
       "array([[-1.],\n",
       "       [ 0.],\n",
       "       [ 0.],\n",
       "       [-2.]])"
      ]
     },
     "execution_count": 138,
     "metadata": {},
     "output_type": "execute_result"
    }
   ],
   "source": [
    "sol2 = np.array([[0, 1], [0, 0]])\n",
    "U @ sol2.reshape(-1, 1)"
   ]
  },
  {
   "cell_type": "code",
   "execution_count": 139,
   "id": "96050862",
   "metadata": {},
   "outputs": [
    {
     "data": {
      "text/plain": [
       "array([[-2.50000000e-01],\n",
       "       [ 3.07425141e-10],\n",
       "       [-2.50000000e-01],\n",
       "       [ 3.07425141e-10]])"
      ]
     },
     "execution_count": 139,
     "metadata": {},
     "output_type": "execute_result"
    }
   ],
   "source": [
    "U @ joint_p.reshape(-1, 1)"
   ]
  },
  {
   "cell_type": "code",
   "execution_count": null,
   "id": "36c7aaa9",
   "metadata": {},
   "outputs": [],
   "source": []
  }
 ],
 "metadata": {
  "kernelspec": {
   "display_name": "Python 3",
   "language": "python",
   "name": "python3"
  },
  "language_info": {
   "codemirror_mode": {
    "name": "ipython",
    "version": 3
   },
   "file_extension": ".py",
   "mimetype": "text/x-python",
   "name": "python",
   "nbconvert_exporter": "python",
   "pygments_lexer": "ipython3",
   "version": "3.8.8"
  }
 },
 "nbformat": 4,
 "nbformat_minor": 5
}
