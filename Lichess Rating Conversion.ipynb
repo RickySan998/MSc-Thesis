{
 "cells": [
  {
   "cell_type": "code",
   "execution_count": 109,
   "id": "ed2feb75",
   "metadata": {},
   "outputs": [],
   "source": [
    "import pandas as pd\n",
    "import numpy as np\n",
    "import matplotlib.pyplot as plt\n",
    "from sklearn.linear_model import LinearRegression\n",
    "import pickle"
   ]
  },
  {
   "cell_type": "code",
   "execution_count": 108,
   "id": "fb684791",
   "metadata": {},
   "outputs": [],
   "source": [
    "def savePickle(var, name):\n",
    "    with open(name+'.pickle', 'wb') as handle:\n",
    "        pickle.dump(var, handle, protocol=pickle.HIGHEST_PROTOCOL)\n",
    "        \n",
    "def openPickle(name):\n",
    "    filename = name+'.pickle'\n",
    "    with open(filename,'rb') as f:\n",
    "        var = pickle.load(f)\n",
    "    return var"
   ]
  },
  {
   "cell_type": "code",
   "execution_count": 58,
   "id": "7c9d75df",
   "metadata": {},
   "outputs": [],
   "source": [
    "df = pd.read_csv('Data/Lichess vs USCF vs FIDE.csv')"
   ]
  },
  {
   "cell_type": "code",
   "execution_count": 59,
   "id": "e2ae1214",
   "metadata": {},
   "outputs": [
    {
     "data": {
      "text/html": [
       "<div>\n",
       "<style scoped>\n",
       "    .dataframe tbody tr th:only-of-type {\n",
       "        vertical-align: middle;\n",
       "    }\n",
       "\n",
       "    .dataframe tbody tr th {\n",
       "        vertical-align: top;\n",
       "    }\n",
       "\n",
       "    .dataframe thead th {\n",
       "        text-align: right;\n",
       "    }\n",
       "</style>\n",
       "<table border=\"1\" class=\"dataframe\">\n",
       "  <thead>\n",
       "    <tr style=\"text-align: right;\">\n",
       "      <th></th>\n",
       "      <th>LICHESS BLITZ</th>\n",
       "      <th>LICHESS BULLET</th>\n",
       "      <th>LICHESS RAPID</th>\n",
       "      <th>LICHESS CLASSICAL</th>\n",
       "      <th>USCF</th>\n",
       "      <th>FIDE</th>\n",
       "    </tr>\n",
       "  </thead>\n",
       "  <tbody>\n",
       "    <tr>\n",
       "      <th>0</th>\n",
       "      <td>845</td>\n",
       "      <td>810</td>\n",
       "      <td>985</td>\n",
       "      <td>1065</td>\n",
       "      <td>285</td>\n",
       "      <td>0</td>\n",
       "    </tr>\n",
       "    <tr>\n",
       "      <th>1</th>\n",
       "      <td>920</td>\n",
       "      <td>885</td>\n",
       "      <td>1125</td>\n",
       "      <td>1120</td>\n",
       "      <td>285</td>\n",
       "      <td>0</td>\n",
       "    </tr>\n",
       "    <tr>\n",
       "      <th>2</th>\n",
       "      <td>1000</td>\n",
       "      <td>940</td>\n",
       "      <td>1185</td>\n",
       "      <td>1255</td>\n",
       "      <td>300</td>\n",
       "      <td>0</td>\n",
       "    </tr>\n",
       "    <tr>\n",
       "      <th>3</th>\n",
       "      <td>1090</td>\n",
       "      <td>1010</td>\n",
       "      <td>1285</td>\n",
       "      <td>1355</td>\n",
       "      <td>575</td>\n",
       "      <td>0</td>\n",
       "    </tr>\n",
       "    <tr>\n",
       "      <th>4</th>\n",
       "      <td>1195</td>\n",
       "      <td>1060</td>\n",
       "      <td>1380</td>\n",
       "      <td>1445</td>\n",
       "      <td>700</td>\n",
       "      <td>0</td>\n",
       "    </tr>\n",
       "    <tr>\n",
       "      <th>5</th>\n",
       "      <td>1275</td>\n",
       "      <td>1135</td>\n",
       "      <td>1480</td>\n",
       "      <td>1530</td>\n",
       "      <td>835</td>\n",
       "      <td>0</td>\n",
       "    </tr>\n",
       "    <tr>\n",
       "      <th>6</th>\n",
       "      <td>1365</td>\n",
       "      <td>1235</td>\n",
       "      <td>1550</td>\n",
       "      <td>1590</td>\n",
       "      <td>1010</td>\n",
       "      <td>0</td>\n",
       "    </tr>\n",
       "    <tr>\n",
       "      <th>7</th>\n",
       "      <td>1420</td>\n",
       "      <td>1295</td>\n",
       "      <td>1600</td>\n",
       "      <td>1620</td>\n",
       "      <td>1070</td>\n",
       "      <td>0</td>\n",
       "    </tr>\n",
       "    <tr>\n",
       "      <th>8</th>\n",
       "      <td>1480</td>\n",
       "      <td>1335</td>\n",
       "      <td>1625</td>\n",
       "      <td>1660</td>\n",
       "      <td>1115</td>\n",
       "      <td>0</td>\n",
       "    </tr>\n",
       "    <tr>\n",
       "      <th>9</th>\n",
       "      <td>1530</td>\n",
       "      <td>1400</td>\n",
       "      <td>1670</td>\n",
       "      <td>1705</td>\n",
       "      <td>1155</td>\n",
       "      <td>0</td>\n",
       "    </tr>\n",
       "    <tr>\n",
       "      <th>10</th>\n",
       "      <td>1585</td>\n",
       "      <td>1450</td>\n",
       "      <td>1705</td>\n",
       "      <td>1730</td>\n",
       "      <td>1235</td>\n",
       "      <td>1440</td>\n",
       "    </tr>\n",
       "    <tr>\n",
       "      <th>11</th>\n",
       "      <td>1625</td>\n",
       "      <td>1495</td>\n",
       "      <td>1735</td>\n",
       "      <td>1755</td>\n",
       "      <td>1290</td>\n",
       "      <td>1450</td>\n",
       "    </tr>\n",
       "    <tr>\n",
       "      <th>12</th>\n",
       "      <td>1665</td>\n",
       "      <td>1525</td>\n",
       "      <td>1785</td>\n",
       "      <td>1785</td>\n",
       "      <td>1340</td>\n",
       "      <td>1500</td>\n",
       "    </tr>\n",
       "    <tr>\n",
       "      <th>13</th>\n",
       "      <td>1700</td>\n",
       "      <td>1590</td>\n",
       "      <td>1815</td>\n",
       "      <td>1805</td>\n",
       "      <td>1395</td>\n",
       "      <td>1505</td>\n",
       "    </tr>\n",
       "    <tr>\n",
       "      <th>14</th>\n",
       "      <td>1735</td>\n",
       "      <td>1630</td>\n",
       "      <td>1840</td>\n",
       "      <td>1825</td>\n",
       "      <td>1470</td>\n",
       "      <td>1535</td>\n",
       "    </tr>\n",
       "    <tr>\n",
       "      <th>15</th>\n",
       "      <td>1780</td>\n",
       "      <td>1670</td>\n",
       "      <td>1865</td>\n",
       "      <td>1855</td>\n",
       "      <td>1505</td>\n",
       "      <td>1600</td>\n",
       "    </tr>\n",
       "    <tr>\n",
       "      <th>16</th>\n",
       "      <td>1815</td>\n",
       "      <td>1705</td>\n",
       "      <td>1895</td>\n",
       "      <td>1890</td>\n",
       "      <td>1550</td>\n",
       "      <td>1630</td>\n",
       "    </tr>\n",
       "    <tr>\n",
       "      <th>17</th>\n",
       "      <td>1860</td>\n",
       "      <td>1750</td>\n",
       "      <td>1930</td>\n",
       "      <td>1925</td>\n",
       "      <td>1605</td>\n",
       "      <td>1645</td>\n",
       "    </tr>\n",
       "    <tr>\n",
       "      <th>18</th>\n",
       "      <td>1885</td>\n",
       "      <td>1785</td>\n",
       "      <td>1955</td>\n",
       "      <td>1940</td>\n",
       "      <td>1640</td>\n",
       "      <td>1680</td>\n",
       "    </tr>\n",
       "    <tr>\n",
       "      <th>19</th>\n",
       "      <td>1910</td>\n",
       "      <td>1810</td>\n",
       "      <td>1995</td>\n",
       "      <td>1960</td>\n",
       "      <td>1705</td>\n",
       "      <td>1720</td>\n",
       "    </tr>\n",
       "    <tr>\n",
       "      <th>20</th>\n",
       "      <td>1950</td>\n",
       "      <td>1850</td>\n",
       "      <td>2010</td>\n",
       "      <td>1990</td>\n",
       "      <td>1750</td>\n",
       "      <td>1770</td>\n",
       "    </tr>\n",
       "    <tr>\n",
       "      <th>21</th>\n",
       "      <td>1995</td>\n",
       "      <td>1900</td>\n",
       "      <td>2040</td>\n",
       "      <td>2020</td>\n",
       "      <td>1805</td>\n",
       "      <td>1835</td>\n",
       "    </tr>\n",
       "    <tr>\n",
       "      <th>22</th>\n",
       "      <td>2015</td>\n",
       "      <td>1945</td>\n",
       "      <td>2060</td>\n",
       "      <td>2040</td>\n",
       "      <td>1850</td>\n",
       "      <td>1870</td>\n",
       "    </tr>\n",
       "    <tr>\n",
       "      <th>23</th>\n",
       "      <td>2050</td>\n",
       "      <td>2000</td>\n",
       "      <td>2085</td>\n",
       "      <td>2055</td>\n",
       "      <td>1880</td>\n",
       "      <td>1920</td>\n",
       "    </tr>\n",
       "    <tr>\n",
       "      <th>24</th>\n",
       "      <td>2075</td>\n",
       "      <td>2020</td>\n",
       "      <td>2110</td>\n",
       "      <td>2070</td>\n",
       "      <td>1915</td>\n",
       "      <td>1965</td>\n",
       "    </tr>\n",
       "    <tr>\n",
       "      <th>25</th>\n",
       "      <td>2145</td>\n",
       "      <td>2105</td>\n",
       "      <td>2170</td>\n",
       "      <td>2090</td>\n",
       "      <td>2010</td>\n",
       "      <td>2035</td>\n",
       "    </tr>\n",
       "    <tr>\n",
       "      <th>26</th>\n",
       "      <td>2215</td>\n",
       "      <td>2180</td>\n",
       "      <td>2205</td>\n",
       "      <td>2165</td>\n",
       "      <td>2105</td>\n",
       "      <td>2125</td>\n",
       "    </tr>\n",
       "    <tr>\n",
       "      <th>27</th>\n",
       "      <td>2290</td>\n",
       "      <td>2265</td>\n",
       "      <td>2240</td>\n",
       "      <td>2195</td>\n",
       "      <td>2200</td>\n",
       "      <td>2205</td>\n",
       "    </tr>\n",
       "    <tr>\n",
       "      <th>28</th>\n",
       "      <td>2390</td>\n",
       "      <td>2365</td>\n",
       "      <td>2300</td>\n",
       "      <td>2285</td>\n",
       "      <td>2255</td>\n",
       "      <td>2280</td>\n",
       "    </tr>\n",
       "    <tr>\n",
       "      <th>29</th>\n",
       "      <td>2450</td>\n",
       "      <td>2455</td>\n",
       "      <td>2395</td>\n",
       "      <td>2310</td>\n",
       "      <td>2295</td>\n",
       "      <td>2345</td>\n",
       "    </tr>\n",
       "    <tr>\n",
       "      <th>30</th>\n",
       "      <td>2530</td>\n",
       "      <td>2540</td>\n",
       "      <td>2455</td>\n",
       "      <td>2375</td>\n",
       "      <td>2425</td>\n",
       "      <td>2405</td>\n",
       "    </tr>\n",
       "    <tr>\n",
       "      <th>31</th>\n",
       "      <td>2605</td>\n",
       "      <td>2625</td>\n",
       "      <td>0</td>\n",
       "      <td>0</td>\n",
       "      <td>2535</td>\n",
       "      <td>2460</td>\n",
       "    </tr>\n",
       "    <tr>\n",
       "      <th>32</th>\n",
       "      <td>2680</td>\n",
       "      <td>2735</td>\n",
       "      <td>0</td>\n",
       "      <td>0</td>\n",
       "      <td>2565</td>\n",
       "      <td>2535</td>\n",
       "    </tr>\n",
       "  </tbody>\n",
       "</table>\n",
       "</div>"
      ],
      "text/plain": [
       "    LICHESS BLITZ  LICHESS BULLET  LICHESS RAPID  LICHESS CLASSICAL  USCF  \\\n",
       "0             845             810            985               1065   285   \n",
       "1             920             885           1125               1120   285   \n",
       "2            1000             940           1185               1255   300   \n",
       "3            1090            1010           1285               1355   575   \n",
       "4            1195            1060           1380               1445   700   \n",
       "5            1275            1135           1480               1530   835   \n",
       "6            1365            1235           1550               1590  1010   \n",
       "7            1420            1295           1600               1620  1070   \n",
       "8            1480            1335           1625               1660  1115   \n",
       "9            1530            1400           1670               1705  1155   \n",
       "10           1585            1450           1705               1730  1235   \n",
       "11           1625            1495           1735               1755  1290   \n",
       "12           1665            1525           1785               1785  1340   \n",
       "13           1700            1590           1815               1805  1395   \n",
       "14           1735            1630           1840               1825  1470   \n",
       "15           1780            1670           1865               1855  1505   \n",
       "16           1815            1705           1895               1890  1550   \n",
       "17           1860            1750           1930               1925  1605   \n",
       "18           1885            1785           1955               1940  1640   \n",
       "19           1910            1810           1995               1960  1705   \n",
       "20           1950            1850           2010               1990  1750   \n",
       "21           1995            1900           2040               2020  1805   \n",
       "22           2015            1945           2060               2040  1850   \n",
       "23           2050            2000           2085               2055  1880   \n",
       "24           2075            2020           2110               2070  1915   \n",
       "25           2145            2105           2170               2090  2010   \n",
       "26           2215            2180           2205               2165  2105   \n",
       "27           2290            2265           2240               2195  2200   \n",
       "28           2390            2365           2300               2285  2255   \n",
       "29           2450            2455           2395               2310  2295   \n",
       "30           2530            2540           2455               2375  2425   \n",
       "31           2605            2625              0                  0  2535   \n",
       "32           2680            2735              0                  0  2565   \n",
       "\n",
       "    FIDE  \n",
       "0      0  \n",
       "1      0  \n",
       "2      0  \n",
       "3      0  \n",
       "4      0  \n",
       "5      0  \n",
       "6      0  \n",
       "7      0  \n",
       "8      0  \n",
       "9      0  \n",
       "10  1440  \n",
       "11  1450  \n",
       "12  1500  \n",
       "13  1505  \n",
       "14  1535  \n",
       "15  1600  \n",
       "16  1630  \n",
       "17  1645  \n",
       "18  1680  \n",
       "19  1720  \n",
       "20  1770  \n",
       "21  1835  \n",
       "22  1870  \n",
       "23  1920  \n",
       "24  1965  \n",
       "25  2035  \n",
       "26  2125  \n",
       "27  2205  \n",
       "28  2280  \n",
       "29  2345  \n",
       "30  2405  \n",
       "31  2460  \n",
       "32  2535  "
      ]
     },
     "execution_count": 59,
     "metadata": {},
     "output_type": "execute_result"
    }
   ],
   "source": [
    "# df.columns = df.iloc[0, :]\n",
    "# df = df.iloc[1:, :]\n",
    "df"
   ]
  },
  {
   "cell_type": "code",
   "execution_count": 121,
   "id": "355fadac",
   "metadata": {},
   "outputs": [],
   "source": [
    "def fitLR(x, y):\n",
    "    model = LinearRegression()\n",
    "    model.fit(x.reshape(-1, 1), y.reshape(-1, 1))\n",
    "    \n",
    "    slope = (model.coef_).item()\n",
    "    intercept = model.intercept_.item()\n",
    "    \n",
    "    return np.array([slope, intercept])\n",
    "\n",
    "def fitCR(x, y, N):\n",
    "    xcube = np.vander(x, N + 1)\n",
    "    x_data = xcube[:, :-1]\n",
    "\n",
    "    model = LinearRegression()\n",
    "    model.fit(x_data, y.reshape(-1, 1))\n",
    "\n",
    "    parameters = model.coef_.squeeze()\n",
    "    intercept = model.intercept_.item()\n",
    "    return np.concatenate([parameters, [intercept]])"
   ]
  },
  {
   "cell_type": "code",
   "execution_count": 99,
   "id": "e100aa39",
   "metadata": {},
   "outputs": [],
   "source": [
    "lichess = np.sum(df.iloc[:, :4], axis = 1)\n",
    "lengths = np.sum(df.iloc[:, :4] != 0, axis = 1)\n",
    "\n",
    "lichess = np.array(lichess / lengths)\n",
    "fide = np.array(df['FIDE'])\n",
    "uscf = np.array(df['USCF'])"
   ]
  },
  {
   "cell_type": "code",
   "execution_count": 122,
   "id": "524a7026",
   "metadata": {},
   "outputs": [],
   "source": [
    "parameters_LR_all = dict();\n",
    "parameters_CR_all = dict();\n",
    "parameters_PR_all = dict();\n",
    "\n",
    "data_all = dict()"
   ]
  },
  {
   "cell_type": "code",
   "execution_count": 123,
   "id": "458296e0",
   "metadata": {},
   "outputs": [],
   "source": [
    "# 1. Lichess - USCF\n",
    "key = 'Lichess-USCF'\n",
    "idx = uscf != 0\n",
    "x = lichess[idx]\n",
    "y = uscf[idx]\n",
    "\n",
    "parameters_LR = fitLR(x, y)\n",
    "parameters_CR = fitCR(x, y, N = 3)\n",
    "parameters_PR = fitCR(x, y, N = 5)\n",
    "\n",
    "parameters_LR_all[key] = parameters_LR\n",
    "parameters_CR_all[key] = parameters_CR\n",
    "parameters_PR_all[key] = parameters_PR\n",
    "data_all[key] = [x, y]"
   ]
  },
  {
   "cell_type": "code",
   "execution_count": 124,
   "id": "e8b448c0",
   "metadata": {},
   "outputs": [],
   "source": [
    "# 2. Lichess - FIDE\n",
    "key = 'Lichess-FIDE'\n",
    "idx = fide != 0\n",
    "x = lichess[idx]\n",
    "y = fide[idx]\n",
    "\n",
    "parameters_LR = fitLR(x, y)\n",
    "parameters_CR = fitCR(x, y, N = 3)\n",
    "parameters_PR = fitCR(x, y, N = 5)\n",
    "\n",
    "parameters_LR_all[key] = parameters_LR\n",
    "parameters_CR_all[key] = parameters_CR\n",
    "parameters_PR_all[key] = parameters_PR\n",
    "data_all[key] = [x, y]"
   ]
  },
  {
   "cell_type": "code",
   "execution_count": 125,
   "id": "ab12f08c",
   "metadata": {},
   "outputs": [],
   "source": [
    "# 3. USCF - FIDE\n",
    "key = 'USCF-FIDE'\n",
    "idx = fide != 0\n",
    "x = uscf[idx]\n",
    "y = fide[idx]\n",
    "\n",
    "parameters_LR = fitLR(x, y)\n",
    "parameters_CR = fitCR(x, y, N = 3)\n",
    "parameters_PR = fitCR(x, y, N = 5)\n",
    "\n",
    "\n",
    "parameters_LR_all[key] = parameters_LR\n",
    "parameters_CR_all[key] = parameters_CR\n",
    "parameters_PR_all[key] = parameters_PR\n",
    "data_all[key] = [x, y]"
   ]
  },
  {
   "cell_type": "code",
   "execution_count": 126,
   "id": "a75edd1d",
   "metadata": {},
   "outputs": [],
   "source": [
    "savePickle(parameters_LR_all, 'LR Parameters')\n",
    "savePickle(parameters_CR_all, 'CR Parameters')\n",
    "savePickle(parameters_PR_all, 'PR Parameters')\n",
    "savePickle(data_all, 'Rating Data Pairs')"
   ]
  },
  {
   "cell_type": "code",
   "execution_count": 106,
   "id": "3c7ae3b4",
   "metadata": {},
   "outputs": [],
   "source": [
    "parameters = parameters_CR_all['Lichess-USCF']\n",
    "parameters_LR = parameters_LR_all['Lichess-USCF']"
   ]
  },
  {
   "cell_type": "code",
   "execution_count": 107,
   "id": "14d0abd5",
   "metadata": {},
   "outputs": [
    {
     "data": {
      "text/plain": [
       "[<matplotlib.lines.Line2D at 0x1eafa6482b0>]"
      ]
     },
     "execution_count": 107,
     "metadata": {},
     "output_type": "execute_result"
    },
    {
     "data": {
      "image/png": "[encoded data removed]",
      "text/plain": [
       "<Figure size 432x288 with 1 Axes>"
      ]
     },
     "metadata": {
      "needs_background": "light"
     },
     "output_type": "display_data"
    }
   ],
   "source": [
    "xplot = np.linspace(900, 2750, 100)\n",
    "xplotcube = np.vander(xplot, 4)\n",
    "yplot = xplotcube @ parameters.reshape(-1, 1)\n",
    "ylr = xplot * parameters_LR[0] + parameters_LR[1]\n",
    "plt.scatter(x, y)\n",
    "plt.plot(xplot, yplot)\n",
    "plt.plot(xplot, ylr)"
   ]
  },
  {
   "cell_type": "code",
   "execution_count": 65,
   "id": "1e52a889",
   "metadata": {},
   "outputs": [
    {
     "data": {
      "text/plain": [
       "<matplotlib.collections.PathCollection at 0x1eaf936b820>"
      ]
     },
     "execution_count": 65,
     "metadata": {},
     "output_type": "execute_result"
    },
    {
     "data": {
      "image/png": "[encoded data removed]",
      "text/plain": [
       "<Figure size 432x288 with 1 Axes>"
      ]
     },
     "metadata": {
      "needs_background": "light"
     },
     "output_type": "display_data"
    }
   ],
   "source": [
    "idx = fide != 0\n",
    "plt.scatter(lichess[idx], fide[idx])"
   ]
  },
  {
   "cell_type": "code",
   "execution_count": 66,
   "id": "86557a28",
   "metadata": {},
   "outputs": [
    {
     "data": {
      "text/plain": [
       "<matplotlib.collections.PathCollection at 0x1eaf93bdf40>"
      ]
     },
     "execution_count": 66,
     "metadata": {},
     "output_type": "execute_result"
    },
    {
     "data": {
      "image/png": "[encoded data removed]",
      "text/plain": [
       "<Figure size 432x288 with 1 Axes>"
      ]
     },
     "metadata": {
      "needs_background": "light"
     },
     "output_type": "display_data"
    }
   ],
   "source": [
    "idx = uscf != 0\n",
    "plt.scatter(lichess[idx], uscf[idx])"
   ]
  },
  {
   "cell_type": "code",
   "execution_count": 67,
   "id": "1f7a79b2",
   "metadata": {},
   "outputs": [
    {
     "data": {
      "text/plain": [
       "<matplotlib.collections.PathCollection at 0x1eaf941baf0>"
      ]
     },
     "execution_count": 67,
     "metadata": {},
     "output_type": "execute_result"
    },
    {
     "data": {
      "image/png": "[encoded data removed]",
      "text/plain": [
       "<Figure size 432x288 with 1 Axes>"
      ]
     },
     "metadata": {
      "needs_background": "light"
     },
     "output_type": "display_data"
    }
   ],
   "source": [
    "idx = fide != 0\n",
    "plt.scatter(uscf[idx], fide[idx])"
   ]
  },
  {
   "cell_type": "code",
   "execution_count": 30,
   "id": "5996dca8",
   "metadata": {},
   "outputs": [
    {
     "data": {
      "text/plain": [
       "<matplotlib.collections.PathCollection at 0x1eaf8e3c820>"
      ]
     },
     "execution_count": 30,
     "metadata": {},
     "output_type": "execute_result"
    },
    {
     "data": {
      "image/png": "[encoded data removed]",
      "text/plain": [
       "<Figure size 432x288 with 1 Axes>"
      ]
     },
     "metadata": {
      "needs_background": "light"
     },
     "output_type": "display_data"
    }
   ],
   "source": [
    "plt.scatter(x, y)"
   ]
  },
  {
   "cell_type": "code",
   "execution_count": 38,
   "id": "34e34e1d",
   "metadata": {},
   "outputs": [
    {
     "data": {
      "text/plain": [
       "array([[2.39266211e+09, 1.78890625e+06, 1.33750000e+03],\n",
       "       [2.87843764e+09, 2.02350625e+06, 1.42250000e+03],\n",
       "       [3.12013635e+09, 2.13525156e+06, 1.46125000e+03],\n",
       "       [3.38344453e+09, 2.25375156e+06, 1.50125000e+03],\n",
       "       [3.66116472e+09, 2.37545156e+06, 1.54125000e+03],\n",
       "       [3.94431200e+09, 2.49640000e+06, 1.58000000e+03],\n",
       "       [4.23187536e+09, 2.61630625e+06, 1.61750000e+03],\n",
       "       [4.54336548e+09, 2.74316406e+06, 1.65625000e+03],\n",
       "       [4.83752730e+09, 2.86032656e+06, 1.69125000e+03],\n",
       "       [5.16650173e+09, 2.98857656e+06, 1.72875000e+03],\n",
       "       [5.47504102e+09, 3.10640625e+06, 1.76250000e+03],\n",
       "       [5.80773373e+09, 3.23100625e+06, 1.79750000e+03],\n",
       "       [6.14105396e+09, 3.35347656e+06, 1.83125000e+03],\n",
       "       [6.49994171e+09, 3.48288906e+06, 1.86625000e+03],\n",
       "       [6.83196061e+09, 3.60050625e+06, 1.89750000e+03],\n",
       "       [7.17509767e+09, 3.72007656e+06, 1.92875000e+03],\n",
       "       [7.54395119e+09, 3.84650156e+06, 1.96125000e+03],\n",
       "       [7.89545871e+09, 3.96507656e+06, 1.99125000e+03],\n",
       "       [8.24240800e+09, 4.08040000e+06, 2.02000000e+03],\n",
       "       [8.61512500e+09, 4.20250000e+06, 2.05000000e+03],\n",
       "       [9.34393384e+09, 4.43628906e+06, 2.10625000e+03],\n",
       "       [1.00602101e+10, 4.66020156e+06, 2.15875000e+03]])"
      ]
     },
     "execution_count": 38,
     "metadata": {},
     "output_type": "execute_result"
    }
   ],
   "source": [
    "x_cube"
   ]
  },
  {
   "cell_type": "code",
   "execution_count": 39,
   "id": "80849c21",
   "metadata": {},
   "outputs": [
    {
     "data": {
      "text/plain": [
       "LinearRegression()"
      ]
     },
     "execution_count": 39,
     "metadata": {},
     "output_type": "execute_result"
    }
   ],
   "source": [
    "model = LinearRegression()\n",
    "model.fit(x.reshape(-1,1), y.reshape(-1, 1))\n",
    "\n",
    "model_cube = LinearRegression()\n",
    "model_cube.fit(x_cube, y.reshape(-1, 1))"
   ]
  },
  {
   "cell_type": "code",
   "execution_count": 40,
   "id": "a1ed5cfb",
   "metadata": {},
   "outputs": [
    {
     "name": "stdout",
     "output_type": "stream",
     "text": [
      "1.2980443665310275 -787.0583521029141\n",
      "[[ 1.75324545e-07 -6.33313410e-04  1.88311655e+00]] -826.0749710521679\n"
     ]
    }
   ],
   "source": [
    "x_min = np.min(x); x_max = np.max(x)\n",
    "print(model.coef_.item(), model.intercept_.item())\n",
    "\n",
    "print(model_cube.coef_, model_cube.intercept_.item())"
   ]
  },
  {
   "cell_type": "code",
   "execution_count": 41,
   "id": "99132afc",
   "metadata": {},
   "outputs": [
    {
     "data": {
      "text/plain": [
       "<matplotlib.collections.PathCollection at 0x1eaf91e70d0>"
      ]
     },
     "execution_count": 41,
     "metadata": {},
     "output_type": "execute_result"
    },
    {
     "data": {
      "image/png": "[encoded data removed]",
      "text/plain": [
       "<Figure size 432x288 with 1 Axes>"
      ]
     },
     "metadata": {
      "needs_background": "light"
     },
     "output_type": "display_data"
    }
   ],
   "source": [
    "a_1 = model.coef_.item(); a_0 = model.intercept_.item()\n",
    "\n",
    "x_plot = np.linspace(x_min, x_max, 200)\n",
    "y_plot = x_plot * a_1 + a_0\n",
    "plt.plot(x_plot, y_plot, 'r')\n",
    "plt.scatter(x, y)"
   ]
  },
  {
   "cell_type": "code",
   "execution_count": 45,
   "id": "915e4468",
   "metadata": {},
   "outputs": [
    {
     "data": {
      "text/plain": [
       "<matplotlib.collections.PathCollection at 0x1eaf92c44f0>"
      ]
     },
     "execution_count": 45,
     "metadata": {},
     "output_type": "execute_result"
    },
    {
     "data": {
      "image/png": "[encoded data removed]",
      "text/plain": [
       "<Figure size 432x288 with 1 Axes>"
      ]
     },
     "metadata": {
      "needs_background": "light"
     },
     "output_type": "display_data"
    }
   ],
   "source": [
    "x_plot = np.linspace(x_min, x_max, 200)\n",
    "x_cube_plot = np.vander(x_plot, 4)[:, :3]\n",
    "y_plot = np.sum(x_cube_plot * model_cube.coef_, axis = 1).reshape(-1) + model_cube.intercept_.item()\n",
    "plt.plot(x_plot, y_plot, 'r')\n",
    "plt.scatter(x, y)"
   ]
  },
  {
   "cell_type": "code",
   "execution_count": null,
   "id": "ac9670eb",
   "metadata": {},
   "outputs": [],
   "source": []
  }
 ],
 "metadata": {
  "kernelspec": {
   "display_name": "Python 3",
   "language": "python",
   "name": "python3"
  },
  "language_info": {
   "codemirror_mode": {
    "name": "ipython",
    "version": 3
   },
   "file_extension": ".py",
   "mimetype": "text/x-python",
   "name": "python",
   "nbconvert_exporter": "python",
   "pygments_lexer": "ipython3",
   "version": "3.8.8"
  }
 },
 "nbformat": 4,
 "nbformat_minor": 5
}
