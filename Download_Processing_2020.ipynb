{
  "nbformat": 4,
  "nbformat_minor": 0,
  "metadata": {
    "kernelspec": {
      "display_name": "Python 3",
      "language": "python",
      "name": "python3"
    },
    "language_info": {
      "codemirror_mode": {
        "name": "ipython",
        "version": 3
      },
      "file_extension": ".py",
      "mimetype": "text/x-python",
      "name": "python",
      "nbconvert_exporter": "python",
      "pygments_lexer": "ipython3",
      "version": "3.8.8"
    },
    "colab": {
      "name": "Copy of Lichess Processing 2013.ipynb",
      "provenance": []
    }
  },
  "cells": [
    {
      "cell_type": "code",
      "metadata": {
        "id": "DWHSdF08eu_I"
      },
      "source": [
        "import numpy as np\n",
        "import pandas as pd\n",
        "import matplotlib.pyplot as plt\n",
        "\n",
        "import itertools\n",
        "import cvxpy as cp\n",
        "import cvxopt\n",
        "from tqdm import tqdm\n",
        "import seaborn as sb\n",
        "from scipy.stats import skewnorm\n",
        "from scipy.optimize import minimize\n",
        "from tqdm import tqdm"
      ],
      "execution_count": 19,
      "outputs": []
    },
    {
      "cell_type": "code",
      "metadata": {
        "id": "h4XgE5Veviy3",
        "colab": {
          "base_uri": "https://localhost:8080/"
        },
        "outputId": "be1a275e-ba9d-40b1-bb0a-a342db925923"
      },
      "source": [
        "%%shell\n",
        "import wget\n",
        "\n",
        "wget -c \"https://database.lichess.org/standard/lichess_db_standard_rated_2020-01.pgn.bz2\"\n"
      ],
      "execution_count": null,
      "outputs": [
        {
          "output_type": "stream",
          "text": [
            "/bin/bash: import: command not found\n",
            "--2021-07-25 08:29:33--  https://database.lichess.org/standard/lichess_db_standard_rated_2020-01.pgn.bz2\n",
            "Resolving database.lichess.org (database.lichess.org)... 147.135.255.84, 2001:41d0:303:2e54::\n",
            "Connecting to database.lichess.org (database.lichess.org)|147.135.255.84|:443... connected.\n",
            "HTTP request sent, awaiting response... 200 OK\n",
            "Length: 11556638576 (11G) [application/octet-stream]\n",
            "Saving to: ‘lichess_db_standard_rated_2020-01.pgn.bz2’\n",
            "\n",
            "lichess_db_standard 100%[===================>]  10.76G  17.8MB/s    in 10m 20s \n",
            "\n",
            "2021-07-25 08:39:54 (17.8 MB/s) - ‘lichess_db_standard_rated_2020-01.pgn.bz2’ saved [11556638576/11556638576]\n",
            "\n"
          ],
          "name": "stdout"
        },
        {
          "output_type": "execute_result",
          "data": {
            "text/plain": [
              ""
            ]
          },
          "metadata": {
            "tags": []
          },
          "execution_count": 2
        }
      ]
    },
    {
      "cell_type": "code",
      "metadata": {
        "id": "pJQSxRi50hy0"
      },
      "source": [
        "!bunzip2 lichess_db_standard_rated_2020-01.pgn.bz2"
      ],
      "execution_count": null,
      "outputs": []
    },
    {
      "cell_type": "code",
      "metadata": {
        "id": "yjiq_6wwF4Jg"
      },
      "source": [
        "# while True:\n",
        "#   pass"
      ],
      "execution_count": null,
      "outputs": []
    },
    {
      "cell_type": "code",
      "metadata": {
        "id": "RQJ0odmSGFXd"
      },
      "source": [
        "def fileToDf(fileName, numberToSample = 120000, maxsize = 1e6):\n",
        "    file = open(fileName, \"r\")\n",
        "    games = []\n",
        "    dic = {}\n",
        "    needed = ['White', 'Black','Result','WhiteElo','BlackElo']\n",
        "    counter = 0\n",
        "    filecounter = 0\n",
        "    numData = 0\n",
        "    for l in tqdm(file):\n",
        "        if l[0] == \"[\":\n",
        "\n",
        "            string = l[1:-1]\n",
        "\n",
        "            header = string.split()[0]\n",
        "            if (header in needed):\n",
        "                dic[header] = string[len(header):-2].strip().strip('\"')\n",
        "\n",
        "\n",
        "        if l[0] == \"1\":\n",
        "\n",
        "            counter +=1\n",
        "            games.append(dic)\n",
        "            del (dic)\n",
        "            dic = {}\n",
        "            numData += 1\n",
        "            if (counter>=maxsize):\n",
        "              counter = 0\n",
        "              \n",
        "              \n",
        "              df = pd.DataFrame(games)\n",
        "              df.to_csv(str(filecounter)+'.csv')\n",
        "              filecounter +=1\n",
        "              del (games)\n",
        "              del (df)\n",
        "              games = []\n",
        "        else:\n",
        "            pass\n",
        "    if (len(games) != 0 ):\n",
        "      df = pd.DataFrame(games)\n",
        "      df.to_csv(str(filecounter)+'.csv')\n",
        "\n",
        "    #df = pd.DataFrame(games)\n",
        "    \n",
        "    # if(len(df)> numberToSample):\n",
        "    #     index = np.random.choice(np.arange(0, len(df)),size =numberToSample,replace = False)\n",
        "    #     df = df.iloc[index,:]\n",
        "#     df.to_csv('games.csv', index=False)\n",
        "\n",
        "#     df1 = pd.read_csv('games.csv')\n",
        "    \n",
        "    return numData"
      ],
      "execution_count": 20,
      "outputs": []
    },
    {
      "cell_type": "code",
      "metadata": {
        "id": "t2gJJBvpGKOS",
        "colab": {
          "base_uri": "https://localhost:8080/"
        },
        "outputId": "debbc917-ace3-4069-f8e1-fbe75bc1596c"
      },
      "source": [
        "#listOptions = \"lichess_db_standard_rated_\"-0\n",
        "\n",
        "\n",
        "listAppend = []\n",
        "year = 2020\n",
        "df = pd.DataFrame()\n",
        "for i in range(1):\n",
        "    number_str = str(i+1)\n",
        "    month  = number_str.zfill(2)\n",
        "    name = \"lichess_db_standard_rated_\"+str(year)+'-'+month+'.pgn'\n",
        "    numbers = fileToDf(name)  \n",
        "    #df = df.append(fileToDf(name)    )\n",
        "    \n",
        "    #print(name)"
      ],
      "execution_count": 21,
      "outputs": [
        {
          "output_type": "stream",
          "text": [
            "936383128it [24:52, 627591.94it/s]\n"
          ],
          "name": "stderr"
        }
      ]
    },
    {
      "cell_type": "code",
      "metadata": {
        "colab": {
          "base_uri": "https://localhost:8080/"
        },
        "id": "KFDVYkfl4iTr",
        "outputId": "93ca2673-0a01-49eb-e174-5c6c02ff1d79"
      },
      "source": [
        ""
      ],
      "execution_count": 10,
      "outputs": [
        {
          "output_type": "execute_result",
          "data": {
            "text/plain": [
              "46737779"
            ]
          },
          "metadata": {
            "tags": []
          },
          "execution_count": 10
        }
      ]
    },
    {
      "cell_type": "code",
      "metadata": {
        "id": "KgiMrxHy4rci"
      },
      "source": [
        "index = np.random.choice(numbers, 120000)"
      ],
      "execution_count": 25,
      "outputs": []
    },
    {
      "cell_type": "code",
      "metadata": {
        "id": "5ms11ZJvGxUM"
      },
      "source": [
        "fileNumbers = index//1000000\n",
        "indexInFiles = index%1000000\n",
        "dfFinal = pd.DataFrame()\n",
        "for data in range(np.max(fileNumbers)+1):\n",
        "  indexInFile = np.where(data == fileNumbers)[0]\n",
        "  \n",
        "  dfChunk = pd.read_csv(str(data)+'.csv')\n",
        "  dfFinal = dfFinal.append(dfChunk.iloc[indexInFile,:])"
      ],
      "execution_count": 33,
      "outputs": []
    },
    {
      "cell_type": "code",
      "metadata": {
        "colab": {
          "base_uri": "https://localhost:8080/",
          "height": 414
        },
        "id": "53-FHNz7KM-A",
        "outputId": "a6a307d8-5fbf-47bc-bcee-70786aecef4f"
      },
      "source": [
        "dfFinal"
      ],
      "execution_count": 34,
      "outputs": [
        {
          "output_type": "execute_result",
          "data": {
            "text/html": [
              "<div>\n",
              "<style scoped>\n",
              "    .dataframe tbody tr th:only-of-type {\n",
              "        vertical-align: middle;\n",
              "    }\n",
              "\n",
              "    .dataframe tbody tr th {\n",
              "        vertical-align: top;\n",
              "    }\n",
              "\n",
              "    .dataframe thead th {\n",
              "        text-align: right;\n",
              "    }\n",
              "</style>\n",
              "<table border=\"1\" class=\"dataframe\">\n",
              "  <thead>\n",
              "    <tr style=\"text-align: right;\">\n",
              "      <th></th>\n",
              "      <th>Unnamed: 0</th>\n",
              "      <th>White</th>\n",
              "      <th>Black</th>\n",
              "      <th>Result</th>\n",
              "      <th>WhiteElo</th>\n",
              "      <th>BlackElo</th>\n",
              "    </tr>\n",
              "  </thead>\n",
              "  <tbody>\n",
              "    <tr>\n",
              "      <th>17</th>\n",
              "      <td>17</td>\n",
              "      <td>residentevil4</td>\n",
              "      <td>flochess52</td>\n",
              "      <td>1-0</td>\n",
              "      <td>1771</td>\n",
              "      <td>1901</td>\n",
              "    </tr>\n",
              "    <tr>\n",
              "      <th>135</th>\n",
              "      <td>135</td>\n",
              "      <td>nanou28</td>\n",
              "      <td>neverevereve</td>\n",
              "      <td>1-0</td>\n",
              "      <td>1882</td>\n",
              "      <td>1740</td>\n",
              "    </tr>\n",
              "    <tr>\n",
              "      <th>173</th>\n",
              "      <td>173</td>\n",
              "      <td>ajedrezyul</td>\n",
              "      <td>blaugelb</td>\n",
              "      <td>1-0</td>\n",
              "      <td>2213</td>\n",
              "      <td>2269</td>\n",
              "    </tr>\n",
              "    <tr>\n",
              "      <th>192</th>\n",
              "      <td>192</td>\n",
              "      <td>mytredb</td>\n",
              "      <td>Rusamba25</td>\n",
              "      <td>0-1</td>\n",
              "      <td>1722</td>\n",
              "      <td>1750</td>\n",
              "    </tr>\n",
              "    <tr>\n",
              "      <th>338</th>\n",
              "      <td>338</td>\n",
              "      <td>Fuero2001</td>\n",
              "      <td>mutalisp</td>\n",
              "      <td>1-0</td>\n",
              "      <td>1862</td>\n",
              "      <td>1919</td>\n",
              "    </tr>\n",
              "    <tr>\n",
              "      <th>...</th>\n",
              "      <td>...</td>\n",
              "      <td>...</td>\n",
              "      <td>...</td>\n",
              "      <td>...</td>\n",
              "      <td>...</td>\n",
              "      <td>...</td>\n",
              "    </tr>\n",
              "    <tr>\n",
              "      <th>119522</th>\n",
              "      <td>119522</td>\n",
              "      <td>B3RS3RK3R</td>\n",
              "      <td>Koudounaros</td>\n",
              "      <td>1-0</td>\n",
              "      <td>2512</td>\n",
              "      <td>2241</td>\n",
              "    </tr>\n",
              "    <tr>\n",
              "      <th>119606</th>\n",
              "      <td>119606</td>\n",
              "      <td>Umut25</td>\n",
              "      <td>olvnervnbc</td>\n",
              "      <td>1/2-1/2</td>\n",
              "      <td>1390</td>\n",
              "      <td>1423</td>\n",
              "    </tr>\n",
              "    <tr>\n",
              "      <th>119734</th>\n",
              "      <td>119734</td>\n",
              "      <td>Flexman007</td>\n",
              "      <td>Nasselaine</td>\n",
              "      <td>0-1</td>\n",
              "      <td>1597</td>\n",
              "      <td>1679</td>\n",
              "    </tr>\n",
              "    <tr>\n",
              "      <th>119748</th>\n",
              "      <td>119748</td>\n",
              "      <td>james_mc_baden</td>\n",
              "      <td>dimon22081979</td>\n",
              "      <td>0-1</td>\n",
              "      <td>1916</td>\n",
              "      <td>1934</td>\n",
              "    </tr>\n",
              "    <tr>\n",
              "      <th>119987</th>\n",
              "      <td>119987</td>\n",
              "      <td>SlickMahony</td>\n",
              "      <td>cdedeoglu</td>\n",
              "      <td>1-0</td>\n",
              "      <td>1186</td>\n",
              "      <td>1183</td>\n",
              "    </tr>\n",
              "  </tbody>\n",
              "</table>\n",
              "<p>120000 rows × 6 columns</p>\n",
              "</div>"
            ],
            "text/plain": [
              "        Unnamed: 0           White          Black   Result  WhiteElo  BlackElo\n",
              "17              17   residentevil4     flochess52      1-0      1771      1901\n",
              "135            135         nanou28   neverevereve      1-0      1882      1740\n",
              "173            173      ajedrezyul       blaugelb      1-0      2213      2269\n",
              "192            192         mytredb      Rusamba25      0-1      1722      1750\n",
              "338            338       Fuero2001       mutalisp      1-0      1862      1919\n",
              "...            ...             ...            ...      ...       ...       ...\n",
              "119522      119522       B3RS3RK3R    Koudounaros      1-0      2512      2241\n",
              "119606      119606          Umut25     olvnervnbc  1/2-1/2      1390      1423\n",
              "119734      119734      Flexman007     Nasselaine      0-1      1597      1679\n",
              "119748      119748  james_mc_baden  dimon22081979      0-1      1916      1934\n",
              "119987      119987     SlickMahony      cdedeoglu      1-0      1186      1183\n",
              "\n",
              "[120000 rows x 6 columns]"
            ]
          },
          "metadata": {
            "tags": []
          },
          "execution_count": 34
        }
      ]
    },
    {
      "cell_type": "code",
      "metadata": {
        "id": "IiFAEsWnK8Oh"
      },
      "source": [
        "dfFinal.to_csv('2020-1.csv', index=False)"
      ],
      "execution_count": 35,
      "outputs": []
    },
    {
      "cell_type": "code",
      "metadata": {
        "colab": {
          "base_uri": "https://localhost:8080/"
        },
        "id": "Z_U6DuVyQz70",
        "outputId": "f9940bad-28b0-4096-f2a5-e36e17cc39f3"
      },
      "source": [
        "a =np.array([1,2,3])\n",
        "a//2"
      ],
      "execution_count": 28,
      "outputs": [
        {
          "output_type": "execute_result",
          "data": {
            "text/plain": [
              "array([0, 1, 1])"
            ]
          },
          "metadata": {
            "tags": []
          },
          "execution_count": 28
        }
      ]
    },
    {
      "cell_type": "code",
      "metadata": {
        "id": "Yjr7CRB1Gk9m"
      },
      "source": [
        "df.to_csv('2013.csv', index=False)"
      ],
      "execution_count": null,
      "outputs": []
    },
    {
      "cell_type": "code",
      "metadata": {
        "colab": {
          "base_uri": "https://localhost:8080/"
        },
        "id": "yZvAcblAfS6H",
        "outputId": "8c6aebbc-588b-4443-d9f2-ef4d5ed57b12"
      },
      "source": [
        "from google.colab import drive\n",
        "import os\n",
        "drive.mount('/content/drive')\n",
        "os.chdir('drive/MyDrive/ricky data/')"
      ],
      "execution_count": null,
      "outputs": [
        {
          "output_type": "stream",
          "text": [
            "Mounted at /content/drive\n"
          ],
          "name": "stdout"
        }
      ]
    },
    {
      "cell_type": "code",
      "metadata": {
        "id": "xsxz6XeFeu_K"
      },
      "source": [
        "# Fill in missing based on elo ratings\n",
        "def win_rate_elo(elo1, elo2, alpha = np.log(10)/400):\n",
        "    \"\"\"\n",
        "    Computes win rate of player 1 to player 2 given their elo ratings\n",
        "    \"\"\"\n",
        "    return 1 / (1 + np.exp(-alpha * (elo1 - elo2)))"
      ],
      "execution_count": null,
      "outputs": []
    },
    {
      "cell_type": "code",
      "metadata": {
        "id": "ZQVcPnoAeu_M"
      },
      "source": [
        "df = pd.read_csv('2013.csv')"
      ],
      "execution_count": null,
      "outputs": []
    },
    {
      "cell_type": "code",
      "metadata": {
        "colab": {
          "base_uri": "https://localhost:8080/",
          "height": 204
        },
        "id": "vutgbsgJeu_M",
        "outputId": "a4b5637a-63f1-4acb-ad33-6f8332f9cf86"
      },
      "source": [
        "df.head()"
      ],
      "execution_count": null,
      "outputs": [
        {
          "output_type": "execute_result",
          "data": {
            "text/html": [
              "<div>\n",
              "<style scoped>\n",
              "    .dataframe tbody tr th:only-of-type {\n",
              "        vertical-align: middle;\n",
              "    }\n",
              "\n",
              "    .dataframe tbody tr th {\n",
              "        vertical-align: top;\n",
              "    }\n",
              "\n",
              "    .dataframe thead th {\n",
              "        text-align: right;\n",
              "    }\n",
              "</style>\n",
              "<table border=\"1\" class=\"dataframe\">\n",
              "  <thead>\n",
              "    <tr style=\"text-align: right;\">\n",
              "      <th></th>\n",
              "      <th>White</th>\n",
              "      <th>Black</th>\n",
              "      <th>Result</th>\n",
              "      <th>WhiteElo</th>\n",
              "      <th>BlackElo</th>\n",
              "    </tr>\n",
              "  </thead>\n",
              "  <tbody>\n",
              "    <tr>\n",
              "      <th>0</th>\n",
              "      <td>reji</td>\n",
              "      <td>ChessThom</td>\n",
              "      <td>0-1</td>\n",
              "      <td>1546</td>\n",
              "      <td>1707</td>\n",
              "    </tr>\n",
              "    <tr>\n",
              "      <th>1</th>\n",
              "      <td>tiby312</td>\n",
              "      <td>speakerc</td>\n",
              "      <td>1-0</td>\n",
              "      <td>1123</td>\n",
              "      <td>1313</td>\n",
              "    </tr>\n",
              "    <tr>\n",
              "      <th>2</th>\n",
              "      <td>allwayswinner</td>\n",
              "      <td>anatolypalomov</td>\n",
              "      <td>0-1</td>\n",
              "      <td>1510</td>\n",
              "      <td>1577</td>\n",
              "    </tr>\n",
              "    <tr>\n",
              "      <th>3</th>\n",
              "      <td>sina</td>\n",
              "      <td>kramer</td>\n",
              "      <td>1-0</td>\n",
              "      <td>1317</td>\n",
              "      <td>954</td>\n",
              "    </tr>\n",
              "    <tr>\n",
              "      <th>4</th>\n",
              "      <td>ChikiPuki</td>\n",
              "      <td>Eldorado</td>\n",
              "      <td>1-0</td>\n",
              "      <td>1585</td>\n",
              "      <td>1239</td>\n",
              "    </tr>\n",
              "  </tbody>\n",
              "</table>\n",
              "</div>"
            ],
            "text/plain": [
              "           White           Black Result WhiteElo BlackElo\n",
              "0           reji       ChessThom    0-1     1546     1707\n",
              "1        tiby312        speakerc    1-0     1123     1313\n",
              "2  allwayswinner  anatolypalomov    0-1     1510     1577\n",
              "3           sina          kramer    1-0     1317      954\n",
              "4      ChikiPuki        Eldorado    1-0     1585     1239"
            ]
          },
          "metadata": {
            "tags": []
          },
          "execution_count": 5
        }
      ]
    },
    {
      "cell_type": "code",
      "metadata": {
        "colab": {
          "base_uri": "https://localhost:8080/",
          "height": 204
        },
        "id": "aA4g1-O4eu_O",
        "outputId": "da49a440-f234-44fa-c79c-2e2c29fc22d6"
      },
      "source": [
        "df = df.rename(columns = {'White': 'white_player', 'Black': 'black_player', 'Result':'result',\n",
        "                         'WhiteElo': 'white_elo', 'BlackElo':'black_elo'})\n",
        "\n",
        "df.head()"
      ],
      "execution_count": null,
      "outputs": [
        {
          "output_type": "execute_result",
          "data": {
            "text/html": [
              "<div>\n",
              "<style scoped>\n",
              "    .dataframe tbody tr th:only-of-type {\n",
              "        vertical-align: middle;\n",
              "    }\n",
              "\n",
              "    .dataframe tbody tr th {\n",
              "        vertical-align: top;\n",
              "    }\n",
              "\n",
              "    .dataframe thead th {\n",
              "        text-align: right;\n",
              "    }\n",
              "</style>\n",
              "<table border=\"1\" class=\"dataframe\">\n",
              "  <thead>\n",
              "    <tr style=\"text-align: right;\">\n",
              "      <th></th>\n",
              "      <th>white_player</th>\n",
              "      <th>black_player</th>\n",
              "      <th>result</th>\n",
              "      <th>white_elo</th>\n",
              "      <th>black_elo</th>\n",
              "    </tr>\n",
              "  </thead>\n",
              "  <tbody>\n",
              "    <tr>\n",
              "      <th>0</th>\n",
              "      <td>reji</td>\n",
              "      <td>ChessThom</td>\n",
              "      <td>0-1</td>\n",
              "      <td>1546</td>\n",
              "      <td>1707</td>\n",
              "    </tr>\n",
              "    <tr>\n",
              "      <th>1</th>\n",
              "      <td>tiby312</td>\n",
              "      <td>speakerc</td>\n",
              "      <td>1-0</td>\n",
              "      <td>1123</td>\n",
              "      <td>1313</td>\n",
              "    </tr>\n",
              "    <tr>\n",
              "      <th>2</th>\n",
              "      <td>allwayswinner</td>\n",
              "      <td>anatolypalomov</td>\n",
              "      <td>0-1</td>\n",
              "      <td>1510</td>\n",
              "      <td>1577</td>\n",
              "    </tr>\n",
              "    <tr>\n",
              "      <th>3</th>\n",
              "      <td>sina</td>\n",
              "      <td>kramer</td>\n",
              "      <td>1-0</td>\n",
              "      <td>1317</td>\n",
              "      <td>954</td>\n",
              "    </tr>\n",
              "    <tr>\n",
              "      <th>4</th>\n",
              "      <td>ChikiPuki</td>\n",
              "      <td>Eldorado</td>\n",
              "      <td>1-0</td>\n",
              "      <td>1585</td>\n",
              "      <td>1239</td>\n",
              "    </tr>\n",
              "  </tbody>\n",
              "</table>\n",
              "</div>"
            ],
            "text/plain": [
              "    white_player    black_player result white_elo black_elo\n",
              "0           reji       ChessThom    0-1      1546      1707\n",
              "1        tiby312        speakerc    1-0      1123      1313\n",
              "2  allwayswinner  anatolypalomov    0-1      1510      1577\n",
              "3           sina          kramer    1-0      1317       954\n",
              "4      ChikiPuki        Eldorado    1-0      1585      1239"
            ]
          },
          "metadata": {
            "tags": []
          },
          "execution_count": 6
        }
      ]
    },
    {
      "cell_type": "code",
      "metadata": {
        "colab": {
          "base_uri": "https://localhost:8080/",
          "height": 49
        },
        "id": "ShG3wcxgeu_P",
        "outputId": "7146ef30-c7ec-4005-f895-ebf08ae17076"
      },
      "source": [
        "df[df['result'] == '*']"
      ],
      "execution_count": null,
      "outputs": [
        {
          "output_type": "execute_result",
          "data": {
            "text/html": [
              "<div>\n",
              "<style scoped>\n",
              "    .dataframe tbody tr th:only-of-type {\n",
              "        vertical-align: middle;\n",
              "    }\n",
              "\n",
              "    .dataframe tbody tr th {\n",
              "        vertical-align: top;\n",
              "    }\n",
              "\n",
              "    .dataframe thead th {\n",
              "        text-align: right;\n",
              "    }\n",
              "</style>\n",
              "<table border=\"1\" class=\"dataframe\">\n",
              "  <thead>\n",
              "    <tr style=\"text-align: right;\">\n",
              "      <th></th>\n",
              "      <th>white_player</th>\n",
              "      <th>black_player</th>\n",
              "      <th>result</th>\n",
              "      <th>white_elo</th>\n",
              "      <th>black_elo</th>\n",
              "    </tr>\n",
              "  </thead>\n",
              "  <tbody>\n",
              "  </tbody>\n",
              "</table>\n",
              "</div>"
            ],
            "text/plain": [
              "Empty DataFrame\n",
              "Columns: [white_player, black_player, result, white_elo, black_elo]\n",
              "Index: []"
            ]
          },
          "metadata": {
            "tags": []
          },
          "execution_count": 7
        }
      ]
    },
    {
      "cell_type": "code",
      "metadata": {
        "colab": {
          "base_uri": "https://localhost:8080/",
          "height": 49
        },
        "id": "lntEfvCveu_P",
        "outputId": "048e78c6-a248-481f-c5de-5cd5f15cdefb"
      },
      "source": [
        "possible_results = ['0-1', '1-0', '1/2-1/2']\n",
        "drop_idx = df[~df['result'].isin(possible_results)].index\n",
        "df = df.drop(drop_idx)\n",
        "\n",
        "df[df['result'] == '*']"
      ],
      "execution_count": null,
      "outputs": [
        {
          "output_type": "execute_result",
          "data": {
            "text/html": [
              "<div>\n",
              "<style scoped>\n",
              "    .dataframe tbody tr th:only-of-type {\n",
              "        vertical-align: middle;\n",
              "    }\n",
              "\n",
              "    .dataframe tbody tr th {\n",
              "        vertical-align: top;\n",
              "    }\n",
              "\n",
              "    .dataframe thead th {\n",
              "        text-align: right;\n",
              "    }\n",
              "</style>\n",
              "<table border=\"1\" class=\"dataframe\">\n",
              "  <thead>\n",
              "    <tr style=\"text-align: right;\">\n",
              "      <th></th>\n",
              "      <th>white_player</th>\n",
              "      <th>black_player</th>\n",
              "      <th>result</th>\n",
              "      <th>white_elo</th>\n",
              "      <th>black_elo</th>\n",
              "    </tr>\n",
              "  </thead>\n",
              "  <tbody>\n",
              "  </tbody>\n",
              "</table>\n",
              "</div>"
            ],
            "text/plain": [
              "Empty DataFrame\n",
              "Columns: [white_player, black_player, result, white_elo, black_elo]\n",
              "Index: []"
            ]
          },
          "metadata": {
            "tags": []
          },
          "execution_count": 8
        }
      ]
    },
    {
      "cell_type": "markdown",
      "metadata": {
        "id": "CUZIAE_teu_R"
      },
      "source": [
        "Drop unknown elo ratings"
      ]
    },
    {
      "cell_type": "code",
      "metadata": {
        "colab": {
          "base_uri": "https://localhost:8080/",
          "height": 49
        },
        "id": "N_LMOQhveu_S",
        "outputId": "34650793-c3cb-4ae6-feeb-05b68a8711eb"
      },
      "source": [
        "drop_idx = df[df['white_elo'] == '?'].index\n",
        "df = df.drop(drop_idx)\n",
        "\n",
        "df[df['white_elo'] == '?']"
      ],
      "execution_count": null,
      "outputs": [
        {
          "output_type": "execute_result",
          "data": {
            "text/html": [
              "<div>\n",
              "<style scoped>\n",
              "    .dataframe tbody tr th:only-of-type {\n",
              "        vertical-align: middle;\n",
              "    }\n",
              "\n",
              "    .dataframe tbody tr th {\n",
              "        vertical-align: top;\n",
              "    }\n",
              "\n",
              "    .dataframe thead th {\n",
              "        text-align: right;\n",
              "    }\n",
              "</style>\n",
              "<table border=\"1\" class=\"dataframe\">\n",
              "  <thead>\n",
              "    <tr style=\"text-align: right;\">\n",
              "      <th></th>\n",
              "      <th>white_player</th>\n",
              "      <th>black_player</th>\n",
              "      <th>result</th>\n",
              "      <th>white_elo</th>\n",
              "      <th>black_elo</th>\n",
              "    </tr>\n",
              "  </thead>\n",
              "  <tbody>\n",
              "  </tbody>\n",
              "</table>\n",
              "</div>"
            ],
            "text/plain": [
              "Empty DataFrame\n",
              "Columns: [white_player, black_player, result, white_elo, black_elo]\n",
              "Index: []"
            ]
          },
          "metadata": {
            "tags": []
          },
          "execution_count": 9
        }
      ]
    },
    {
      "cell_type": "code",
      "metadata": {
        "colab": {
          "base_uri": "https://localhost:8080/",
          "height": 49
        },
        "id": "9ERQ5S3neu_U",
        "outputId": "d424d525-8132-4c11-a252-f96363bf805e"
      },
      "source": [
        "drop_idx = df[df['black_elo'] == '?'].index\n",
        "df = df.drop(drop_idx)\n",
        "\n",
        "df[df['black_elo'] == '?']"
      ],
      "execution_count": null,
      "outputs": [
        {
          "output_type": "execute_result",
          "data": {
            "text/html": [
              "<div>\n",
              "<style scoped>\n",
              "    .dataframe tbody tr th:only-of-type {\n",
              "        vertical-align: middle;\n",
              "    }\n",
              "\n",
              "    .dataframe tbody tr th {\n",
              "        vertical-align: top;\n",
              "    }\n",
              "\n",
              "    .dataframe thead th {\n",
              "        text-align: right;\n",
              "    }\n",
              "</style>\n",
              "<table border=\"1\" class=\"dataframe\">\n",
              "  <thead>\n",
              "    <tr style=\"text-align: right;\">\n",
              "      <th></th>\n",
              "      <th>white_player</th>\n",
              "      <th>black_player</th>\n",
              "      <th>result</th>\n",
              "      <th>white_elo</th>\n",
              "      <th>black_elo</th>\n",
              "    </tr>\n",
              "  </thead>\n",
              "  <tbody>\n",
              "  </tbody>\n",
              "</table>\n",
              "</div>"
            ],
            "text/plain": [
              "Empty DataFrame\n",
              "Columns: [white_player, black_player, result, white_elo, black_elo]\n",
              "Index: []"
            ]
          },
          "metadata": {
            "tags": []
          },
          "execution_count": 10
        }
      ]
    },
    {
      "cell_type": "code",
      "metadata": {
        "id": "0ZtPGvmneu_V"
      },
      "source": [
        "# Convert to win-draw-lose\n",
        "df.loc[df['result'] == '0-1', 'result'] = -1\n",
        "df.loc[df['result'] == '1-0', 'result'] = 1\n",
        "df.loc[df['result'] == '1/2-1/2', 'result'] = 0"
      ],
      "execution_count": null,
      "outputs": []
    },
    {
      "cell_type": "code",
      "metadata": {
        "id": "jsynX8Dueu_X"
      },
      "source": [
        "# Convert ratings to integers\n",
        "df['white_elo'] = np.array(df['white_elo']).astype('int64')\n",
        "df['black_elo'] = np.array(df['black_elo']).astype('int64')"
      ],
      "execution_count": null,
      "outputs": []
    },
    {
      "cell_type": "code",
      "metadata": {
        "id": "1yIrA7yZeu_Y"
      },
      "source": [
        "white_elos = np.array(df['white_elo'])\n",
        "black_elos = np.array(df['black_elo'])"
      ],
      "execution_count": null,
      "outputs": []
    },
    {
      "cell_type": "code",
      "metadata": {
        "colab": {
          "base_uri": "https://localhost:8080/",
          "height": 366
        },
        "id": "UZEooA2Eeu_Y",
        "outputId": "1439eedd-1331-48fd-db41-d167b5f64e1e"
      },
      "source": [
        "plt.title('White Elo Histogram')\n",
        "plt.hist(white_elos)"
      ],
      "execution_count": null,
      "outputs": [
        {
          "output_type": "execute_result",
          "data": {
            "text/plain": [
              "(array([1.32000e+03, 1.37680e+04, 8.62020e+04, 2.92576e+05, 4.88356e+05,\n",
              "        3.73553e+05, 1.41224e+05, 3.64530e+04, 4.31700e+03, 8.50000e+01]),\n",
              " array([ 762. ,  943.1, 1124.2, 1305.3, 1486.4, 1667.5, 1848.6, 2029.7,\n",
              "        2210.8, 2391.9, 2573. ]),\n",
              " <a list of 10 Patch objects>)"
            ]
          },
          "metadata": {
            "tags": []
          },
          "execution_count": 14
        },
        {
          "output_type": "display_data",
          "data": {
            "image/png": "[encoded data removed]",
            "text/plain": [
              "<Figure size 432x288 with 1 Axes>"
            ]
          },
          "metadata": {
            "tags": [],
            "needs_background": "light"
          }
        }
      ]
    },
    {
      "cell_type": "code",
      "metadata": {
        "colab": {
          "base_uri": "https://localhost:8080/",
          "height": 366
        },
        "id": "e89I5oPAeu_Z",
        "outputId": "1a6a8660-aed5-46e2-8436-4c5bde687be3"
      },
      "source": [
        "plt.title('Black Elo Histogram')\n",
        "plt.hist(black_elos)"
      ],
      "execution_count": null,
      "outputs": [
        {
          "output_type": "execute_result",
          "data": {
            "text/plain": [
              "(array([2.38300e+03, 2.15740e+04, 1.09684e+05, 3.10273e+05, 4.90990e+05,\n",
              "        3.35001e+05, 1.28110e+05, 3.54360e+04, 4.33000e+03, 7.30000e+01]),\n",
              " array([ 778. ,  958.1, 1138.2, 1318.3, 1498.4, 1678.5, 1858.6, 2038.7,\n",
              "        2218.8, 2398.9, 2579. ]),\n",
              " <a list of 10 Patch objects>)"
            ]
          },
          "metadata": {
            "tags": []
          },
          "execution_count": 15
        },
        {
          "output_type": "display_data",
          "data": {
            "image/png": "[encoded data removed]",
            "text/plain": [
              "<Figure size 432x288 with 1 Axes>"
            ]
          },
          "metadata": {
            "tags": [],
            "needs_background": "light"
          }
        }
      ]
    },
    {
      "cell_type": "code",
      "metadata": {
        "id": "Z8NQSnVUeu_a"
      },
      "source": [
        "white_ratings, counts = np.unique(white_elos, return_counts = True)\n",
        "black_ratings, counts = np.unique(black_elos, return_counts = True)"
      ],
      "execution_count": null,
      "outputs": []
    },
    {
      "cell_type": "code",
      "metadata": {
        "colab": {
          "base_uri": "https://localhost:8080/"
        },
        "id": "wNEogqFDeu_a",
        "outputId": "52e8f84f-0003-458b-933b-881f1d611bf3"
      },
      "source": [
        "white_min = np.min(white_elos); white_max = np.max(white_elos)\n",
        "black_min = np.min(black_elos); black_max = np.max(black_elos)\n",
        "\n",
        "print(f\"For white, min = {white_min}, max = {white_max}\")\n",
        "print(f\"For black, min = {black_min}, max = {black_max}\")\n",
        "\n",
        "# Bounds should be the 'loose' one. Might want to cut down in case there's no matchups\n",
        "lb = min(white_min, black_min); ub = max(white_max, black_max)\n",
        "print(f\"Bins range {lb} - {ub}\")"
      ],
      "execution_count": null,
      "outputs": [
        {
          "output_type": "stream",
          "text": [
            "For white, min = 762, max = 2573\n",
            "For black, min = 778, max = 2579\n",
            "Bins range 762 - 2579\n"
          ],
          "name": "stdout"
        }
      ]
    },
    {
      "cell_type": "markdown",
      "metadata": {
        "id": "qVP-3FwXeu_b"
      },
      "source": [
        "## Creating the payoffs\n",
        "\n",
        "### Method 1: Sample uniformly n-bins from the range above, and average the win rate. Win counts for +1, loss -1, draw 0"
      ]
    },
    {
      "cell_type": "code",
      "metadata": {
        "id": "K8SW-PgFeu_b"
      },
      "source": [
        "def create_bins(lower_bound, upper_bound, n):\n",
        "    width = (upper_bound - lower_bound) / n\n",
        "    \n",
        "    ub = lower_bound + width; lb = lower_bound; bins = [(lb, ub)]\n",
        "    for _ in range(n-1):\n",
        "        lb += width; ub += width; bins.append((lb, ub))\n",
        "    \n",
        "    return bins\n",
        "\n",
        "def within(bin_range, num):\n",
        "    return num >= bin_range[0] and num < bin_range[1]"
      ],
      "execution_count": null,
      "outputs": []
    },
    {
      "cell_type": "code",
      "metadata": {
        "id": "GbbrsFgvgWg4"
      },
      "source": [
        ""
      ],
      "execution_count": null,
      "outputs": []
    },
    {
      "cell_type": "code",
      "metadata": {
        "colab": {
          "base_uri": "https://localhost:8080/",
          "height": 419
        },
        "id": "W-cbZZezeu_c",
        "outputId": "4f003d8a-deb0-498a-ae5b-94892ba82f77"
      },
      "source": [
        "# Check if data contains lower ratings beating greater ratings\n",
        "sieve_greater = (df['white_elo'] <= df['black_elo']) & (df['result'] >= 0)\n",
        "df[sieve_greater]"
      ],
      "execution_count": null,
      "outputs": [
        {
          "output_type": "execute_result",
          "data": {
            "text/html": [
              "<div>\n",
              "<style scoped>\n",
              "    .dataframe tbody tr th:only-of-type {\n",
              "        vertical-align: middle;\n",
              "    }\n",
              "\n",
              "    .dataframe tbody tr th {\n",
              "        vertical-align: top;\n",
              "    }\n",
              "\n",
              "    .dataframe thead th {\n",
              "        text-align: right;\n",
              "    }\n",
              "</style>\n",
              "<table border=\"1\" class=\"dataframe\">\n",
              "  <thead>\n",
              "    <tr style=\"text-align: right;\">\n",
              "      <th></th>\n",
              "      <th>white_player</th>\n",
              "      <th>black_player</th>\n",
              "      <th>result</th>\n",
              "      <th>white_elo</th>\n",
              "      <th>black_elo</th>\n",
              "    </tr>\n",
              "  </thead>\n",
              "  <tbody>\n",
              "    <tr>\n",
              "      <th>1</th>\n",
              "      <td>tiby312</td>\n",
              "      <td>speakerc</td>\n",
              "      <td>1</td>\n",
              "      <td>1123</td>\n",
              "      <td>1313</td>\n",
              "    </tr>\n",
              "    <tr>\n",
              "      <th>11</th>\n",
              "      <td>Shlomo</td>\n",
              "      <td>Karen_Armenia</td>\n",
              "      <td>1</td>\n",
              "      <td>1675</td>\n",
              "      <td>1680</td>\n",
              "    </tr>\n",
              "    <tr>\n",
              "      <th>12</th>\n",
              "      <td>dyson</td>\n",
              "      <td>chavosh</td>\n",
              "      <td>1</td>\n",
              "      <td>1576</td>\n",
              "      <td>1585</td>\n",
              "    </tr>\n",
              "    <tr>\n",
              "      <th>14</th>\n",
              "      <td>Fisher62</td>\n",
              "      <td>Voltvolf</td>\n",
              "      <td>1</td>\n",
              "      <td>1655</td>\n",
              "      <td>1781</td>\n",
              "    </tr>\n",
              "    <tr>\n",
              "      <th>23</th>\n",
              "      <td>balex</td>\n",
              "      <td>flatron1</td>\n",
              "      <td>0</td>\n",
              "      <td>1518</td>\n",
              "      <td>1650</td>\n",
              "    </tr>\n",
              "    <tr>\n",
              "      <th>...</th>\n",
              "      <td>...</td>\n",
              "      <td>...</td>\n",
              "      <td>...</td>\n",
              "      <td>...</td>\n",
              "      <td>...</td>\n",
              "    </tr>\n",
              "    <tr>\n",
              "      <th>1439976</th>\n",
              "      <td>escipion</td>\n",
              "      <td>sagenwald</td>\n",
              "      <td>1</td>\n",
              "      <td>1621</td>\n",
              "      <td>1708</td>\n",
              "    </tr>\n",
              "    <tr>\n",
              "      <th>1439980</th>\n",
              "      <td>chessekb</td>\n",
              "      <td>cordobesista</td>\n",
              "      <td>1</td>\n",
              "      <td>1743</td>\n",
              "      <td>1806</td>\n",
              "    </tr>\n",
              "    <tr>\n",
              "      <th>1439982</th>\n",
              "      <td>fil77</td>\n",
              "      <td>molehill</td>\n",
              "      <td>1</td>\n",
              "      <td>1500</td>\n",
              "      <td>1527</td>\n",
              "    </tr>\n",
              "    <tr>\n",
              "      <th>1439995</th>\n",
              "      <td>joajagua</td>\n",
              "      <td>Peapop</td>\n",
              "      <td>1</td>\n",
              "      <td>1614</td>\n",
              "      <td>1714</td>\n",
              "    </tr>\n",
              "    <tr>\n",
              "      <th>1439998</th>\n",
              "      <td>Alia</td>\n",
              "      <td>patrisha</td>\n",
              "      <td>1</td>\n",
              "      <td>1827</td>\n",
              "      <td>1849</td>\n",
              "    </tr>\n",
              "  </tbody>\n",
              "</table>\n",
              "<p>266443 rows × 5 columns</p>\n",
              "</div>"
            ],
            "text/plain": [
              "        white_player   black_player result  white_elo  black_elo\n",
              "1            tiby312       speakerc      1       1123       1313\n",
              "11            Shlomo  Karen_Armenia      1       1675       1680\n",
              "12             dyson        chavosh      1       1576       1585\n",
              "14          Fisher62       Voltvolf      1       1655       1781\n",
              "23             balex       flatron1      0       1518       1650\n",
              "...              ...            ...    ...        ...        ...\n",
              "1439976     escipion      sagenwald      1       1621       1708\n",
              "1439980     chessekb   cordobesista      1       1743       1806\n",
              "1439982        fil77       molehill      1       1500       1527\n",
              "1439995     joajagua         Peapop      1       1614       1714\n",
              "1439998         Alia       patrisha      1       1827       1849\n",
              "\n",
              "[266443 rows x 5 columns]"
            ]
          },
          "metadata": {
            "tags": []
          },
          "execution_count": 19
        }
      ]
    },
    {
      "cell_type": "code",
      "metadata": {
        "id": "JpzZ6Rcbeu_c",
        "colab": {
          "base_uri": "https://localhost:8080/",
          "height": 419
        },
        "outputId": "7f112dda-e55e-4377-d959-c9b98b61a9ac"
      },
      "source": [
        "# Check if data contains lower ratings beating greater ratings\n",
        "sieve_greater = (df['black_elo'] <= df['white_elo']) & (df['result'] <= 0)\n",
        "df[sieve_greater]"
      ],
      "execution_count": null,
      "outputs": [
        {
          "output_type": "execute_result",
          "data": {
            "text/html": [
              "<div>\n",
              "<style scoped>\n",
              "    .dataframe tbody tr th:only-of-type {\n",
              "        vertical-align: middle;\n",
              "    }\n",
              "\n",
              "    .dataframe tbody tr th {\n",
              "        vertical-align: top;\n",
              "    }\n",
              "\n",
              "    .dataframe thead th {\n",
              "        text-align: right;\n",
              "    }\n",
              "</style>\n",
              "<table border=\"1\" class=\"dataframe\">\n",
              "  <thead>\n",
              "    <tr style=\"text-align: right;\">\n",
              "      <th></th>\n",
              "      <th>white_player</th>\n",
              "      <th>black_player</th>\n",
              "      <th>result</th>\n",
              "      <th>white_elo</th>\n",
              "      <th>black_elo</th>\n",
              "    </tr>\n",
              "  </thead>\n",
              "  <tbody>\n",
              "    <tr>\n",
              "      <th>6</th>\n",
              "      <td>Yarilo</td>\n",
              "      <td>ptdhina</td>\n",
              "      <td>-1</td>\n",
              "      <td>1768</td>\n",
              "      <td>1675</td>\n",
              "    </tr>\n",
              "    <tr>\n",
              "      <th>7</th>\n",
              "      <td>andresneno</td>\n",
              "      <td>oilmanesh</td>\n",
              "      <td>-1</td>\n",
              "      <td>1933</td>\n",
              "      <td>1842</td>\n",
              "    </tr>\n",
              "    <tr>\n",
              "      <th>10</th>\n",
              "      <td>Baboon</td>\n",
              "      <td>molaya</td>\n",
              "      <td>-1</td>\n",
              "      <td>1521</td>\n",
              "      <td>1499</td>\n",
              "    </tr>\n",
              "    <tr>\n",
              "      <th>29</th>\n",
              "      <td>alfix</td>\n",
              "      <td>E_R</td>\n",
              "      <td>-1</td>\n",
              "      <td>1433</td>\n",
              "      <td>1415</td>\n",
              "    </tr>\n",
              "    <tr>\n",
              "      <th>33</th>\n",
              "      <td>carlos013</td>\n",
              "      <td>Kyklades</td>\n",
              "      <td>-1</td>\n",
              "      <td>1717</td>\n",
              "      <td>1657</td>\n",
              "    </tr>\n",
              "    <tr>\n",
              "      <th>...</th>\n",
              "      <td>...</td>\n",
              "      <td>...</td>\n",
              "      <td>...</td>\n",
              "      <td>...</td>\n",
              "      <td>...</td>\n",
              "    </tr>\n",
              "    <tr>\n",
              "      <th>1439985</th>\n",
              "      <td>lking</td>\n",
              "      <td>Aceves</td>\n",
              "      <td>-1</td>\n",
              "      <td>1643</td>\n",
              "      <td>1512</td>\n",
              "    </tr>\n",
              "    <tr>\n",
              "      <th>1439988</th>\n",
              "      <td>Romoda</td>\n",
              "      <td>sezwho</td>\n",
              "      <td>-1</td>\n",
              "      <td>2070</td>\n",
              "      <td>1926</td>\n",
              "    </tr>\n",
              "    <tr>\n",
              "      <th>1439989</th>\n",
              "      <td>eli_lovett</td>\n",
              "      <td>reaper101</td>\n",
              "      <td>0</td>\n",
              "      <td>1415</td>\n",
              "      <td>1346</td>\n",
              "    </tr>\n",
              "    <tr>\n",
              "      <th>1439994</th>\n",
              "      <td>zembelek</td>\n",
              "      <td>ghiceda</td>\n",
              "      <td>-1</td>\n",
              "      <td>2076</td>\n",
              "      <td>1959</td>\n",
              "    </tr>\n",
              "    <tr>\n",
              "      <th>1439999</th>\n",
              "      <td>mtluser</td>\n",
              "      <td>Rudy_2</td>\n",
              "      <td>-1</td>\n",
              "      <td>2141</td>\n",
              "      <td>2107</td>\n",
              "    </tr>\n",
              "  </tbody>\n",
              "</table>\n",
              "<p>253466 rows × 5 columns</p>\n",
              "</div>"
            ],
            "text/plain": [
              "        white_player black_player result  white_elo  black_elo\n",
              "6             Yarilo      ptdhina     -1       1768       1675\n",
              "7         andresneno    oilmanesh     -1       1933       1842\n",
              "10            Baboon       molaya     -1       1521       1499\n",
              "29             alfix          E_R     -1       1433       1415\n",
              "33         carlos013     Kyklades     -1       1717       1657\n",
              "...              ...          ...    ...        ...        ...\n",
              "1439985        lking       Aceves     -1       1643       1512\n",
              "1439988       Romoda       sezwho     -1       2070       1926\n",
              "1439989   eli_lovett    reaper101      0       1415       1346\n",
              "1439994     zembelek      ghiceda     -1       2076       1959\n",
              "1439999      mtluser       Rudy_2     -1       2141       2107\n",
              "\n",
              "[253466 rows x 5 columns]"
            ]
          },
          "metadata": {
            "tags": []
          },
          "execution_count": 20
        }
      ]
    },
    {
      "cell_type": "code",
      "metadata": {
        "id": "Yd0aR6Lmeu_d"
      },
      "source": [
        "wlb, wub = (1829, 1832); blb, bub = (2001, 2003)"
      ],
      "execution_count": null,
      "outputs": []
    },
    {
      "cell_type": "code",
      "metadata": {
        "id": "iAVR5uGHeu_d",
        "colab": {
          "base_uri": "https://localhost:8080/"
        },
        "outputId": "af9cf1c7-79a5-46e9-a04f-b2a381c41496"
      },
      "source": [
        "sieve_w = (df['white_elo'] < wub) & (df['white_elo'] > wlb)\n",
        "df_sieve_w = df[sieve_w]\n",
        "df_sieve_w['black_elo'].unique()"
      ],
      "execution_count": null,
      "outputs": [
        {
          "output_type": "execute_result",
          "data": {
            "text/plain": [
              "array([2041, 1630, 1701, 1459, 1603, 1589, 1960, 2066, 1911, 1526, 1886,\n",
              "       1897, 1676, 1469, 2006, 1849, 1924, 1800, 1814, 1736, 1772, 1915,\n",
              "       1795, 1540, 1759, 1620, 1531, 1846, 1970, 1560, 2057, 1660, 1604,\n",
              "       1791, 2085, 1746, 1768, 1739, 1977, 1695, 1532, 1737, 1696, 2116,\n",
              "       2067, 1990, 1634, 1423, 1563, 1663, 1841, 1811, 1789, 1541, 1865,\n",
              "       1228, 2217, 2001, 1724, 1659, 1857, 1735, 1517, 1828, 1706, 1391,\n",
              "       1584, 1999, 1856, 1761, 1767, 1185, 1854, 1682, 1568, 1451, 1738,\n",
              "       1556, 1752, 1808, 1500, 2112, 2091, 1548, 1689, 1997, 1533, 1867,\n",
              "       1577, 1422, 1818, 1399, 1413, 1164, 1946, 1731, 1429, 1602, 2163,\n",
              "       1824, 1415, 1648, 1757, 1745, 1527, 1908, 1271, 1805, 1941, 1842,\n",
              "       1715, 1765, 1719, 1571, 2027, 1776, 1909, 1284, 1781, 1707, 1405,\n",
              "       1709, 1513, 2136, 1965, 1996, 1410, 1798, 1952, 1726, 1725, 1815,\n",
              "       1890, 1962, 1482, 1935, 2105, 1778, 1690, 1638, 2025, 1544, 1901,\n",
              "       1717, 1543, 1654, 1887, 1972, 1969, 1657, 1872, 1646, 1685, 1981,\n",
              "       1774, 1888, 1892, 1680, 1637, 1653, 2089, 1751, 1770, 1991, 1845,\n",
              "       1652, 1686, 1658, 1860, 1378, 2109, 1853, 1631, 1884, 1434, 2055,\n",
              "       1721, 1762, 1998, 1452, 1938, 1902, 1914, 1749, 1525, 1760, 1618,\n",
              "       2022, 1625, 1559, 1478, 1927, 1674, 1665, 1464, 2176, 1893, 1462,\n",
              "       1754, 1873, 1852, 1955, 1928, 1506, 2063, 1722, 1829, 2042, 1782,\n",
              "       1966, 2034, 1521, 1919, 1720, 1918, 1537, 1949, 1675, 1851, 1632,\n",
              "       1750, 1414, 1939, 1614, 1628, 2083, 1843, 1837, 1809, 1705, 1552,\n",
              "       1502, 1864, 2178, 1428, 1989, 1803, 1742, 1298, 1917, 1475, 1741,\n",
              "       1649, 1585, 1698, 1454, 1723, 1796, 1456, 2032, 1988, 1547, 1643,\n",
              "       1667, 1699, 1551, 1925, 1692, 1825, 1712, 1985, 1401, 1580, 2155,\n",
              "       2046, 1992, 1668, 1458, 1758, 1744, 1967, 1870, 1858, 2100, 2106,\n",
              "       1693, 1511, 1993, 1607, 1448, 2174, 1773, 2017, 2078, 1847, 1599,\n",
              "       1823, 1831, 1613, 1621, 1669, 1640, 1491, 1520, 1983, 1787, 1574,\n",
              "       1612, 2076, 1882, 1549, 1497, 1780, 1679, 2015, 1704, 1314, 1606,\n",
              "       1627, 2053, 1617, 1786, 1830, 1588, 1644, 1430, 1587, 1683, 1826,\n",
              "       1806, 1445, 1807, 1597, 1409, 1598, 1498, 1926, 1481, 1903, 1623,\n",
              "       1931, 1961, 1732, 1899, 1848, 1691, 1176, 1651, 1810, 1820, 2103,\n",
              "       1793, 1421, 1936, 1372, 1933, 2037, 1904, 1804, 1954, 1605, 2052,\n",
              "       1877, 1733, 1671, 1816, 1435, 1771, 1678, 1395, 1910, 1700, 1788,\n",
              "       1718, 1747, 2246, 1626, 2064, 1921, 1959, 1694, 1619, 1821, 1891,\n",
              "       1794, 1417, 1813, 1734, 1524, 1763, 1756, 1775, 1906, 1871, 1708,\n",
              "       1287, 1463, 1835, 2045, 2172, 1486, 1753, 1727, 1474, 1898, 1594,\n",
              "       1315, 1518, 1710, 2179, 1920, 1861, 1850, 1714, 1868, 1664, 1822,\n",
              "       1569, 1489, 1681, 1672, 2054, 1661, 1254, 1863, 1889, 1883, 2138,\n",
              "       1819, 1545, 2140, 1550, 1593, 1766, 1582, 1862, 1703, 1913, 1655,\n",
              "       1799, 1635, 2165, 1711, 1907, 1666, 1896, 1929, 1225, 1930, 1702,\n",
              "       2156, 1994, 1311, 1461, 1567, 2123, 1729, 1950, 1740, 1616, 1286,\n",
              "       1611, 1764, 1880, 1465, 1555, 1307, 1951, 1384, 1624, 1779, 1507,\n",
              "       1879, 1859, 1838, 1769, 1218, 1591, 1866, 1392, 1381, 1748, 1321,\n",
              "       1439, 1477, 1610, 1784, 1494, 1400, 1420, 1684, 2142, 2297, 1639,\n",
              "       1995, 1466, 1730, 1792, 1878, 1376, 1874, 1900, 1716, 1516, 1662,\n",
              "       1974, 2380, 1561, 1839, 1565, 1790, 1129, 1388, 1583, 1641, 1600,\n",
              "       1687, 2092, 1885, 1636, 2073, 1894, 1403, 1529, 1940, 1398, 2026,\n",
              "       1425, 1905, 1697, 2189, 1566, 1836, 1982, 2134, 1503, 2024, 1785,\n",
              "       1539, 1269, 1947, 1595, 1728, 1592, 1379, 2012, 2050, 1441, 2223,\n",
              "       1416, 2088, 1522, 1916, 1479, 2184, 2014, 2110, 1677, 1575, 2157,\n",
              "       1573, 1812, 1609, 2312, 1546, 1844, 1581, 2304, 1743, 1534, 1633,\n",
              "       1802, 1827, 1131, 1579, 1510, 1875, 1975, 1801, 1834, 1523, 1438,\n",
              "       1536, 2250, 2090, 1932, 1512, 2101, 1251, 2164, 1485, 1431, 1554,\n",
              "       2269, 1912, 1945, 1642, 1570, 1937, 1241, 1487, 1330, 1578, 2249,\n",
              "       2028, 1468, 1341, 1493, 1832, 1688, 1986, 1987, 1948, 1535, 1302,\n",
              "       1368, 1673, 1645, 1411, 1496, 1670, 1942, 2115, 1922, 1984, 1230,\n",
              "       1488, 1976, 1713, 1944, 1453, 1876, 1817, 2135, 2194, 1881, 1777,\n",
              "       2214, 1797, 1476, 2016, 1407, 1450, 2147, 1840, 1446, 1460, 1226,\n",
              "       1958, 1472, 1283, 2087, 1934, 1562, 2007, 1427, 1979, 1490, 1091,\n",
              "       1538, 2191, 1964, 1200, 1957, 2009, 2235, 1346, 1650, 1504, 1755,\n",
              "       1656, 2039, 1065, 1615, 1495, 1291, 1412, 2171, 2023, 1971, 2059,\n",
              "       1424, 1923, 1647, 1467, 2075, 1629, 1596, 1449, 1833, 1383, 1505,\n",
              "       1373, 1572, 1313, 1590, 2019, 1515, 2033, 2000, 1542, 1205, 1586,\n",
              "       1855, 2011, 2237, 1387, 1622, 1783, 1404, 1519, 1396, 1377, 1953,\n",
              "       1295, 1608, 2096, 2093, 1484, 1098, 1344, 1358, 1492, 1323, 1382,\n",
              "       2043, 2097, 1553, 1455, 1339, 1973, 1364, 2010, 2051, 1273, 2005,\n",
              "       2068, 2139, 2004, 2002, 1437, 2205, 1113, 2065, 1193, 1345, 2018,\n",
              "       1457, 2277, 1327, 1601, 1304, 1342, 2347, 1352, 1375, 1564, 2129,\n",
              "       2149, 2040, 1968, 1963, 1499, 1528, 1150, 1473, 2044, 2035, 2288])"
            ]
          },
          "metadata": {
            "tags": []
          },
          "execution_count": 22
        }
      ]
    },
    {
      "cell_type": "code",
      "metadata": {
        "id": "QbUtttBReu_e"
      },
      "source": [
        "# Functions\n",
        "def create_payoff(n, bin_lb, bin_ub):\n",
        "    # Construct payoff template and bins\n",
        "    # Also returns marker array, to indicate whether one missing, both missing, or none missing\n",
        "    bins = np.array(create_bins(bin_lb, bin_ub, n))\n",
        "    payoff = np.ones((n, n)) * -8; np.fill_diagonal(payoff, 0)\n",
        "    \n",
        "    # Marker matrix to indicate missing data. 1 for both present, -1 for p1 white, -2 for p1 black, -3 for both series\n",
        "    mat = np.zeros((n, n))\n",
        "    \n",
        "    for i in tqdm(range(len(bins))):\n",
        "        for j in range(len(bins)):\n",
        "           # These are actually p1 and p2 ratings. We want to find where this p1 rating is white vs p2 black and\n",
        "            # then vice versa\n",
        "            p1_bin_lb, p1_bin_ub = bins[i]\n",
        "            p2_bin_lb, p2_bin_ub = bins[j] \n",
        "            \n",
        "            # Mid-bin rating to predict if missing\n",
        "            p1_rating = (p1_bin_ub + p1_bin_lb) / 2\n",
        "            p2_rating = (p2_bin_ub + p2_bin_lb) / 2\n",
        "            \n",
        "            if p1_bin_lb >= p2_bin_lb:\n",
        "                continue\n",
        "            else:\n",
        "                # Sieve off data\n",
        "                p1_white = (df['white_elo'] < p1_bin_ub) & (df['white_elo'] >= p1_bin_lb)\n",
        "                p2_white = (df['white_elo'] < p2_bin_ub) & (df['white_elo'] >= p2_bin_lb)\n",
        "\n",
        "                p1_black = (df['black_elo'] < p1_bin_ub) & (df['black_elo'] >= p1_bin_lb)\n",
        "                p2_black = (df['black_elo'] < p2_bin_ub) & (df['black_elo'] >= p2_bin_lb)\n",
        "\n",
        "                # Count data available\n",
        "                p1_white_counts = np.sum(p1_white); p1_black_counts = np.sum(p1_black)\n",
        "                p2_white_counts = np.sum(p2_white); p2_black_counts = np.sum(p2_black)\n",
        "\n",
        "                # bool_ser1 = p1 white and p2 black; bool_ser2 = p1 black and p2 white\n",
        "                bool_ser1 = p1_white & p2_black; bool_ser2 = p1_black & p2_white\n",
        "                ser1_count = np.sum(bool_ser1); ser2_count = np.sum(bool_ser2)\n",
        "\n",
        "                if ser1_count != 0 and ser2_count != 0:\n",
        "                    # Both matchups exist in data\n",
        "                    # To get average, must put a - b, since if black wins, result is -1. Payoff matrix\n",
        "                    # is wrt to player 1\n",
        "                    value = (np.mean(df[bool_ser1]['result']) - np.mean(df[bool_ser2]['result'])) / 2\n",
        "                    payoff[i,j] = value\n",
        "                    payoff[j,i] = -value\n",
        "                    mat[i,j] = 1; mat[j,i] = 1\n",
        "                else:\n",
        "                    if ser1_count !=0 and ser2_count == 0:\n",
        "                        # i.e. series 2 matchup don't exist. Hence series 1 use real data\n",
        "#                         print(f\"P1 rating {(p1_bin_lb, p1_bin_ub)}, P2 rating {(p2_bin_lb, p2_bin_ub)}, series 2 missing\")\n",
        "                        ser1_rate = np.mean(df[bool_ser1]['result'])\n",
        "\n",
        "                        # Predict series 2 with elo. This don't care who is white/black\n",
        "                        # NOTE: win probability is probability of player 1 winning, yielding a reward of +1\n",
        "                        # To find expected score, must multiply probability with score\n",
        "                        win_prob = win_rate_elo(p1_rating, p2_rating)\n",
        "                        ser2_rate = win_prob * 1 + (1 - win_prob) * -1\n",
        "                \n",
        "                        value = (ser1_rate + ser2_rate) / 2\n",
        "                        payoff[i,j] = value\n",
        "                        payoff[j,i] = -value\n",
        "                        mat[i,j] = -2\n",
        "                        mat[j,i] = -2\n",
        "\n",
        "                    if ser1_count == 0 and ser2_count != 0:\n",
        "                        # i.e. series 1 matchup don't exist. Hence series 2 use real data\n",
        "#                         print(f\"P1 rating {(p1_bin_lb, p1_bin_ub)}, P2 rating {(p2_bin_lb, p2_bin_ub)}, series 1 missing\")\n",
        "                        win_prob = win_rate_elo(p1_rating, p2_rating)\n",
        "                        ser1_rate = win_prob * 1 + (1 - win_prob) * -1\n",
        "                        ser2_rate = np.mean(df[bool_ser2]['result'])\n",
        "                        value = (ser1_rate - ser2_rate) / 2\n",
        "                        payoff[i,j] = value\n",
        "                        payoff[j,i] = -value\n",
        "                        mat[i,j] = -1; mat[j,i] = -1\n",
        "\n",
        "                    if ser1_count == 0 and ser2_count == 0:\n",
        "#                         print(f\"P1 rating {(p1_bin_lb, p1_bin_ub)}, P2 rating {(p2_bin_lb, p2_bin_ub)}, both missing\")\n",
        "                        # i.e. both are missing, predict using elo\n",
        "                        win_prob = win_rate_elo(p1_rating, p2_rating)\n",
        "                        value = win_prob * 1 + (1 - win_prob) * (-1)\n",
        "                        payoff[i,j] = value\n",
        "                        payoff[j,i] = -value\n",
        "                        mat[i,j] = -3; mat[j,i] = -3\n",
        "                        \n",
        "    return payoff, mat\n",
        "\n",
        "\n",
        "def create_payoff_2(white_bins, black_bins):\n",
        "    # Construct payoff template and bins\n",
        "    # Also returns marker array, to indicate whether one missing, both missing, or none missing\n",
        "    n_row = len(white_bins); n_col = len(black_bins)\n",
        "    payoff = np.ones((n_row, n_col)) * -8; np.fill_diagonal(payoff, 0)\n",
        "    \n",
        "    # Marker matrix to indicate missing data. 1 for both present, -1 for p1 white, -2 for p1 black, -3 for both series\n",
        "    mat = np.zeros((n_row, n_col))\n",
        "    \n",
        "    for i in tqdm(range(n_row)):\n",
        "        for j in range(n_col):\n",
        "           # These are actually p1 and p2 ratings. We want to find where this p1 rating is white vs p2 black and\n",
        "            # then vice versa\n",
        "            p1_bin_lb, p1_bin_ub = white_bins[i]\n",
        "            p2_bin_lb, p2_bin_ub = black_bins[j]\n",
        "            \n",
        "            # Mid-bin rating to predict if missing\n",
        "            p1_rating = (p1_bin_ub + p1_bin_lb) / 2\n",
        "            p2_rating = (p2_bin_ub + p2_bin_lb) / 2\n",
        "            \n",
        "            if p1_bin_lb >= p2_bin_lb:\n",
        "                continue\n",
        "            else:\n",
        "                # Sieve off data\n",
        "                p1_white = (df['white_elo'] < p1_bin_ub) & (df['white_elo'] >= p1_bin_lb)\n",
        "                p2_white = (df['white_elo'] < p2_bin_ub) & (df['white_elo'] >= p2_bin_lb)\n",
        "\n",
        "                p1_black = (df['black_elo'] < p1_bin_ub) & (df['black_elo'] >= p1_bin_lb)\n",
        "                p2_black = (df['black_elo'] < p2_bin_ub) & (df['black_elo'] >= p2_bin_lb)\n",
        "\n",
        "                # Count data available\n",
        "                p1_white_counts = np.sum(p1_white); p1_black_counts = np.sum(p1_black)\n",
        "                p2_white_counts = np.sum(p2_white); p2_black_counts = np.sum(p2_black)\n",
        "\n",
        "                # bool_ser1 = p1 white and p2 black; bool_ser2 = p1 black and p2 white\n",
        "                bool_ser1 = p1_white & p2_black; bool_ser2 = p1_black & p2_white\n",
        "                ser1_count = np.sum(bool_ser1); ser2_count = np.sum(bool_ser2)\n",
        "\n",
        "                if ser1_count != 0 and ser2_count != 0:\n",
        "                    # Both matchups exist in data\n",
        "                    # To get average, must put a - b, since if black wins, result is -1. Payoff matrix\n",
        "                    # is wrt to player 1\n",
        "                    value = (np.mean(df[bool_ser1]['result']) - np.mean(df[bool_ser2]['result'])) / 2\n",
        "                    payoff[i,j] = value\n",
        "                    payoff[j,i] = -value\n",
        "                    mat[i,j] = 1; mat[j,i] = 1\n",
        "                else:\n",
        "                    if ser1_count !=0 and ser2_count == 0:\n",
        "                        # i.e. series 2 matchup don't exist. Hence series 1 use real data\n",
        "#                         print(f\"P1 rating {(p1_bin_lb, p1_bin_ub)}, P2 rating {(p2_bin_lb, p2_bin_ub)}, series 2 missing\")\n",
        "                        ser1_rate = np.mean(df[bool_ser1]['result'])\n",
        "\n",
        "                        # Predict series 2 with elo. This don't care who is white/black\n",
        "                        # NOTE: win probability is probability of player 1 winning, yielding a reward of +1\n",
        "                        # To find expected score, must multiply probability with score\n",
        "                        win_prob = win_rate_elo(p1_rating, p2_rating)\n",
        "                        ser2_rate = win_prob * 1 + (1 - win_prob) * -1\n",
        "                \n",
        "                        value = (ser1_rate + ser2_rate) / 2\n",
        "                        payoff[i,j] = value\n",
        "                        payoff[j,i] = -value\n",
        "                        mat[i,j] = -2\n",
        "                        mat[j,i] = -2\n",
        "\n",
        "                    if ser1_count == 0 and ser2_count != 0:\n",
        "                        # i.e. series 1 matchup don't exist. Hence series 2 use real data\n",
        "#                         print(f\"P1 rating {(p1_bin_lb, p1_bin_ub)}, P2 rating {(p2_bin_lb, p2_bin_ub)}, series 1 missing\")\n",
        "                        win_prob = win_rate_elo(p1_rating, p2_rating)\n",
        "                        ser1_rate = win_prob * 1 + (1 - win_prob) * -1\n",
        "                        ser2_rate = np.mean(df[bool_ser2]['result'])\n",
        "                        value = (ser1_rate - ser2_rate) / 2\n",
        "                        payoff[i,j] = value\n",
        "                        payoff[j,i] = -value\n",
        "                        mat[i,j] = -1; mat[j,i] = -1\n",
        "\n",
        "                    if ser1_count == 0 and ser2_count == 0:\n",
        "#                         print(f\"P1 rating {(p1_bin_lb, p1_bin_ub)}, P2 rating {(p2_bin_lb, p2_bin_ub)}, both missing\")\n",
        "                        # i.e. both are missing, predict using elo\n",
        "                        win_prob = win_rate_elo(p1_rating, p2_rating)\n",
        "                        value = win_prob * 1 + (1 - win_prob) * (-1)\n",
        "                        payoff[i,j] = value\n",
        "                        payoff[j,i] = -value\n",
        "                        mat[i,j] = -3; mat[j,i] = -3\n",
        "                        \n",
        "    return payoff, mat\n",
        "            \n",
        "class NashCluster():\n",
        "    \n",
        "    def __init__(self, strat_payoffs, ori_idx, pvect):\n",
        "        self.size = strat_payoffs.shape[0]\n",
        "        self.payoffs = strat_payoffs\n",
        "        self.strat_idx = ori_idx\n",
        "        self.probability = pvect\n",
        "        \n",
        "    def computeRPS(self):\n",
        "        return None\n",
        "    \n",
        "def solve_MaxEnt_NE(payoff, verbose = False, eps = 1e-5, zero_tol = 1e-6, iters = 500, cycle = 5):\n",
        "    \n",
        "    init_val = np.random.uniform(size = payoff.shape[0])\n",
        "    init_val = init_val / np.sum(init_val)\n",
        "    \n",
        "    p = cp.Variable(payoff.shape[0], value = init_val)\n",
        "    constraints = [payoff @ p <= 0, cp.sum(p) == 1, p >= 0]\n",
        "    objective = cp.sum(cp.entr(p))\n",
        "    prob = cp.Problem(cp.Maximize(objective), constraints)\n",
        "    \n",
        "    try:\n",
        "      cycle_count = 0; done = False\n",
        "      while cycle_count < cycle and done is False:\n",
        "        prob.solve(verbose = verbose, solver = cp.MOSEK, warm_start = True)\n",
        "        p_vect = p.value * (p.value > zero_tol)\n",
        "        diff = payoff @ p_vect.reshape(-1, 1)\n",
        "        print(f\"Cycle count {cycle_count}, diff = {np.sum(diff >= eps)}\")\n",
        "        done = True if np.sum(diff >= eps) == 0 else False\n",
        "        cycle_count += 1\n",
        "    except cp.SolverError:\n",
        "      print(\"MOSEK FAILED?\")\n",
        "      try:\n",
        "        # Try ECOS_BB first\n",
        "        cycle_count = 0; done = False\n",
        "        while cycle_count < cycle and done is False:\n",
        "          prob.solve(verbose = verbose, max_iters = 1000, solver = cp.ECOS_BB, warm_start = True)\n",
        "          p_vect = p.value * (p.value > zero_tol)\n",
        "          diff = payoff @ p_vect.reshape(-1, 1)\n",
        "          print(f\"Cycle count {cycle_count}, diff = {np.sum(diff >= eps)}\")\n",
        "          done = True if np.sum(diff >= eps) == 0 else False\n",
        "          cycle_count += 1\n",
        "      except cp.SolverError:\n",
        "        print(\"ECOS_BB FAILED\")\n",
        "        cycle_count = 0; done = False\n",
        "        while cycle_count < cycle and done is False:\n",
        "          prob.solve(verbose = verbose, max_iters = iters, solver = cp.SCS, warm_start = True)\n",
        "          p_vect = p.value * (p.value > zero_tol)\n",
        "          diff = payoff @ p_vect.reshape(-1, 1)\n",
        "          print(f\"Cycle count {cycle_count}, diff = {np.sum(diff >= eps)}\")\n",
        "          done = True if np.sum(diff >= eps) == 0 else False\n",
        "          cycle_count += 1\n",
        "  \n",
        "    # Clean - small values\n",
        "    p_vect = p_vect * (p_vect > zero_tol)\n",
        "    return p_vect, np.sum(diff>=eps)\n",
        "    \n",
        "def Nash_Clustering(payoff, marker, algo = \"cvx\", eps = 1e-4, zero_tol = 1e-8):\n",
        "    n_strat = payoff.shape[0]; counter = 0;\n",
        "\n",
        "    # This is the remaining payoff and the remaining strategy indexes\n",
        "    curr_payoff = payoff; curr_remaining = np.arange(n_strat); curr_marker = marker\n",
        "    nash_clusters = []; unsolved_cases = []; marker_instances = []\n",
        "\n",
        "    while n_strat > 1: # if only 1 strategy remaining, this itself is the nash cluster\n",
        "        print(f\"Iteration {counter}\")\n",
        "\n",
        "        # # Compute the NE supports. Lemke Howson seems the fastest\n",
        "        # game = nash.Game(curr_payoff + np.eye(curr_payoff.shape[0]) * 1e-10)\n",
        "        # if algo == \"Lemke\":\n",
        "        #     nash_eqs = game.lemke_howson_enumeration()\n",
        "        #     nash_eq = np.array(next(nash_eqs)[0])\n",
        "\n",
        "        # if algo == 'Support': # slow because enumerates all possible NE supports\n",
        "        #     nash_eqs = game.support_enumeration()\n",
        "        #     nash_eq = np.array(next(nash_eqs)[0])\n",
        "\n",
        "        # if algo == 'Vertex':\n",
        "        #     nash_eqs = game.vertex_enumeration()\n",
        "        #     nash_eq = np.array(next(nash_eqs)[0])\n",
        "\n",
        "        if algo == 'cvx': # solve using cvxpy, seems to be the only one working for now\n",
        "            nash_eq, diff = solve_MaxEnt_NE(curr_payoff, eps =1e-4, zero_tol = zero_tol, iters = int(2e4), cycle = 5)\n",
        "            print(f\"Outside, diff = {diff}\")\n",
        "            p_vect = nash_eq[nash_eq >= zero_tol]\n",
        "            if diff > -10:\n",
        "              print(\"APPENDING UNSOLVED CASE\")\n",
        "              unsolved_cases.append(curr_payoff)\n",
        "              marker_instances.append(curr_marker)\n",
        "\n",
        "        # Take the supports, exclude them in the next round payoffs\n",
        "        taken_strat = np.where(nash_eq >= zero_tol)[0]; remaining_strat = np.where(nash_eq < zero_tol)[0]\n",
        "        \n",
        "        if len(taken_strat) != len(p_vect):\n",
        "            print(\"WTF\")\n",
        "            print(taken_strat, p_vect)\n",
        "        taken_idx = np.array(list(itertools.product(taken_strat, repeat = 2)))\n",
        "        remaining_idx = np.array(list(itertools.product(remaining_strat, repeat = 2)))\n",
        "\n",
        "        strat_payoffs = payoff[taken_idx[:,0], taken_idx[:, 1]].reshape(taken_strat.shape[0], taken_strat.shape[0])\n",
        "        nash_clusters.append(NashCluster(strat_payoffs, curr_remaining[taken_strat], p_vect))\n",
        "\n",
        "        # Get the remaining payoff. If statement here to prevent cases when remaining_idx is empty and [:,0] wont work\n",
        "        if len(remaining_strat) > 0:\n",
        "          curr_payoff = curr_payoff[remaining_idx[:,0], remaining_idx[:,1]].reshape(remaining_strat.shape[0], remaining_strat.shape[0])\n",
        "          curr_remaining = curr_remaining[remaining_strat]\n",
        "          curr_marker = curr_marker[remaining_idx[:,0], remaining_idx[:,1]].reshape(remaining_strat.shape[0], remaining_strat.shape[0])\n",
        "\n",
        "        n_strat -= strat_payoffs.shape[0]\n",
        "\n",
        "        counter += 1\n",
        "        print(f\"Strategies left {n_strat}\")\n",
        "        print(f\"Payoff remaining size {curr_payoff.shape[0]}\") \n",
        "\n",
        "    if n_strat == 1:\n",
        "        nash_clusters.append(NashCluster(curr_payoff, curr_remaining, np.array([1])))\n",
        "\n",
        "    return nash_clusters, marker_instances, unsolved_cases\n",
        "\n",
        "def plot_results(nash_clusters, title):\n",
        "  nc_sizes = []\n",
        "  for nc in nash_clusters:\n",
        "      nc_sizes.append(nc.size)\n",
        "\n",
        "  y_ax = np.linspace(1, 0, len(nc_sizes))\n",
        "  plt.scatter(nc_sizes, y_ax)\n",
        "  plt.title(title)\n",
        "  plt.ylabel('Fraction Beaten')\n",
        "  plt.xlabel('Cluster Size')\n",
        "\n",
        "def compute_RPP(nc1, nc2, payoff):\n",
        "    p_vect1 = np.zeros(payoff.shape[0]); p_vect2 = np.zeros(payoff.shape[0])\n",
        "    \n",
        "    p_vect1[nc1.strat_idx] = nc1.probability; p_vect2[nc2.strat_idx] = nc2.probability\n",
        "    return (p_vect1.reshape(1, -1) @ payoff @ p_vect2.reshape(-1, 1)).item()\n",
        "    \n",
        "def generate_RPP_data(nash_clusters, payoff):\n",
        "    data_tuples_rpp = []; n_nc = len(nash_clusters); data_tuples_rpp_sign = []; rpp_mat = np.zeros((n_nc, n_nc))\n",
        "    for i, nc_i in enumerate(nash_clusters):\n",
        "        rpp_sum = 0; rpp_sign_sum = 0\n",
        "        for j, nc_j in enumerate(nash_clusters):\n",
        "            if i != j:\n",
        "                rpp = compute_RPP(nc_i, nc_j, payoff)\n",
        "                rpp_mat[i,j] = rpp\n",
        "                rpp_sum += rpp\n",
        "                rpp_sign_sum += 1 * (rpp >= 0)\n",
        "\n",
        "        rpp_sum = rpp_sum / n_nc; rpp_sign_sum = rpp_sign_sum / (n_nc - 1)\n",
        "\n",
        "        data_tuples_rpp.append([nc_i.size, rpp_sum])\n",
        "        data_tuples_rpp_sign.append([nc_i.size, rpp_sign_sum])\n",
        "\n",
        "    return np.array(data_tuples_rpp), np.array(data_tuples_rpp_sign), rpp_mat\n",
        "\n",
        "def generate_RPS_data(payoff):\n",
        "    signed_payoff = 1 * (payoff > 0)\n",
        "    strat_winrate = np.mean(payoff > 0, axis = 1)\n",
        "    adj = signed_payoff @ signed_payoff @ signed_payoff\n",
        "    \n",
        "    return np.diag(adj), strat_winrate\n",
        "\n",
        "def plot_RPS(adj, strat_winrate, title):\n",
        "    plt.title(title)\n",
        "    plt.xlabel('RPS Cycles')\n",
        "    plt.ylabel('Mean Win-Rate')\n",
        "    plt.scatter(adj, strat_winrate)\n",
        "    \n",
        "def plot_nash_clusters_2(sign_rpp, title):\n",
        "    plt.scatter(sign_rpp[:, 0], sign_rpp[:, 1])\n",
        "    plt.title(title)\n",
        "    plt.ylabel('Fraction Beaten (RPP)')\n",
        "    plt.xlabel('Cluster Size')\n",
        "    \n",
        "def plot_nash_clusters_3(sign_rpp, title):\n",
        "    plt.scatter(sign_rpp[:, 0], sign_rpp[:, 1])\n",
        "    plt.title(title)\n",
        "    plt.ylabel('Fraction Beaten (RPP)')\n",
        "    plt.xlabel('Cluster Size')\n",
        "    \n",
        "    # Fit skewed normal\n",
        "    y_data = sign_rpp[:, 0]; x_data = sign_rpp[:, 1]\n",
        "    init = np.random.uniform(1, 3, size = (5))\n",
        "    params = fit_skewed_normal(init, x_data, y_data)\n",
        "    \n",
        "    inputs = np.linspace(0, 1, 1000)\n",
        "    outputs = affine_skewed_normal_pdf(params, inputs)\n",
        "    plt.plot(outputs, inputs)\n",
        "    \n",
        "# Test using scipy.optimize.minimize. Need a function to minimize with signature function(x, *args), where x is a list\n",
        "# of the parameters to optimize. Syntax: https://docs.scipy.org/doc/scipy/reference/generated/scipy.optimize.minimize.html#scipy.optimize.minimize\n",
        "def affine_skewed_normal_loss(parameters, xdata, ydata):\n",
        "    \"\"\"\n",
        "    parameters shape is [\\mu, \\sigma, \\alpha, \\a, \\b]\n",
        "    \"\"\"\n",
        "    mu, sigma, alpha, a, b = parameters\n",
        "    \n",
        "    # Compute the loss\n",
        "    out = a * (sigma ** 2) * skewnorm.pdf(xdata, alpha, mu, sigma**2) + b\n",
        "#     out = a * skewnorm.pdf(xdata, alpha, mu, sigma) + b\n",
        "    loss = np.sum((out - ydata) ** 2)\n",
        "    \n",
        "    return loss\n",
        "\n",
        "def affine_skewed_normal_pdf(parameters, xdata):\n",
        "    mu, sigma, alpha, a, b = parameters\n",
        "    out = a * (sigma ** 2) * skewnorm.pdf(xdata, alpha, mu, sigma**2) + b\n",
        "#     out = a * skewnorm.pdf(xdata, alpha, mu, sigma) + b\n",
        "    return out\n",
        "\n",
        "def fit_skewed_normal(init, xdata, ydata):\n",
        "    bnds = [(None, None), (1e-15, None), (None, None), (None, None), (None, None)]\n",
        "    results = minimize(affine_skewed_normal_loss, init, args = (xdata, ydata), bounds = bnds, tol = 1e-8)\n",
        "    return results.x\n",
        "\n",
        "def compute_win_rate(curr_idx, payoff):\n",
        "    return np.mean(payoff[curr_idx, :])"
      ],
      "execution_count": null,
      "outputs": []
    },
    {
      "cell_type": "code",
      "metadata": {
        "id": "T_q9qoUweu_u",
        "colab": {
          "base_uri": "https://localhost:8080/"
        },
        "outputId": "2cbfda32-cc56-45a3-999b-79bc69a0b652"
      },
      "source": [
        "print(cp.installed_solvers())"
      ],
      "execution_count": null,
      "outputs": [
        {
          "output_type": "stream",
          "text": [
            "['CVXOPT', 'ECOS', 'ECOS_BB', 'GLPK', 'GLPK_MI', 'OSQP', 'SCS']\n"
          ],
          "name": "stdout"
        }
      ]
    },
    {
      "cell_type": "code",
      "metadata": {
        "id": "owrojTvcghWr"
      },
      "source": [
        "bins = create_bins(800,2500,1000)"
      ],
      "execution_count": null,
      "outputs": []
    },
    {
      "cell_type": "code",
      "metadata": {
        "colab": {
          "base_uri": "https://localhost:8080/"
        },
        "id": "1LQAg_BXgv_7",
        "outputId": "7c0dd64c-d55b-464c-efea-cc71cc6fd792"
      },
      "source": [
        "payoff, marker = create_payoff_2(bins[:500],bins[500:])"
      ],
      "execution_count": null,
      "outputs": [
        {
          "output_type": "stream",
          "text": [
            "100%|██████████| 500/500 [3:00:58<00:00, 21.72s/it]\n"
          ],
          "name": "stderr"
        }
      ]
    },
    {
      "cell_type": "code",
      "metadata": {
        "colab": {
          "base_uri": "https://localhost:8080/"
        },
        "id": "AtwTmh6wljvN",
        "outputId": "9f2a01d0-b6fe-4ffd-c4e8-8bd13314e31e"
      },
      "source": [
        "marker"
      ],
      "execution_count": null,
      "outputs": [
        {
          "output_type": "execute_result",
          "data": {
            "text/plain": [
              "array([[0., 0., 0., ..., 0., 0., 0.],\n",
              "       [0., 0., 0., ..., 0., 0., 0.],\n",
              "       [0., 0., 0., ..., 0., 0., 0.],\n",
              "       ...,\n",
              "       [0., 0., 0., ..., 0., 0., 0.],\n",
              "       [0., 0., 0., ..., 0., 0., 0.],\n",
              "       [0., 0., 0., ..., 0., 0., 0.]])"
            ]
          },
          "metadata": {
            "tags": []
          },
          "execution_count": 28
        }
      ]
    },
    {
      "cell_type": "code",
      "metadata": {
        "id": "RUyehNPpkIHm"
      },
      "source": [
        "def savePickle(location, var, name):\n",
        "    with open(location+name+'.pickle', 'wb') as handle:\n",
        "        pickle.dump(var, handle, protocol=pickle.HIGHEST_PROTOCOL)\n",
        "def openPickle(location,name):\n",
        "    filename = location+name+'.pickle'\n",
        "    with open(filename,'rb') as f:\n",
        "        var = pickle.load(f)\n",
        "    return var"
      ],
      "execution_count": null,
      "outputs": []
    },
    {
      "cell_type": "code",
      "metadata": {
        "id": "xkpYhyZC257D"
      },
      "source": [
        "import pickle"
      ],
      "execution_count": null,
      "outputs": []
    },
    {
      "cell_type": "code",
      "metadata": {
        "id": "zlIj8hJokfhg"
      },
      "source": [
        "savePickle(\"\",payoff,\"payoff[:500,500:]\")\n",
        "savePickle(\"\",marker,\"marker[:500,500:]\")"
      ],
      "execution_count": null,
      "outputs": []
    },
    {
      "cell_type": "markdown",
      "metadata": {
        "id": "r66ExJ4Geu_y"
      },
      "source": [
        "### Chess 1000 x 1000"
      ]
    },
    {
      "cell_type": "code",
      "metadata": {
        "id": "401TlaMfeu_z",
        "outputId": "1aefadf4-c223-4d4f-ce8a-9d8a62308ffb"
      },
      "source": [
        "payoff, markers = create_payoff(1000, 800, 2500)\n",
        "where_zeros = np.where(np.abs(payoff) <= 1e-7)\n",
        "payoff[where_zeros[0], where_zeros[1]] = 0"
      ],
      "execution_count": null,
      "outputs": [
        {
          "output_type": "stream",
          "text": [
            " 25%|██▌       | 254/1000 [1:34:57<4:08:54, 20.02s/it]"
          ],
          "name": "stderr"
        }
      ]
    },
    {
      "cell_type": "code",
      "metadata": {
        "id": "XSfxdPnfeu_0"
      },
      "source": [
        ""
      ],
      "execution_count": null,
      "outputs": []
    }
  ]
}